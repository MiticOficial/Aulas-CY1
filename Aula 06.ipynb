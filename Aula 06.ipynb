{
 "cells": [
  {
   "cell_type": "code",
   "execution_count": null,
   "id": "c15a651d-1578-42ea-8440-7d7e6f3bbfdb",
   "metadata": {
    "id": "c15a651d-1578-42ea-8440-7d7e6f3bbfdb",
    "outputId": "e6823303-c27d-4bdc-fa1f-4de344ffafcc"
   },
   "outputs": [
    {
     "name": "stdout",
     "output_type": "stream",
     "text": [
      "Quarta\n"
     ]
    }
   ],
   "source": [
    "#Novos tipos de dados\n",
    "\n",
    "'''\n",
    "Na aula de hoje você vai aprender a utilizar alguns tipos de dados que não foram vistos até agora,\n",
    "e que deixarão seus programas ainda mais poderosos!\n",
    "'''\n",
    "\n",
    "#Objetivos da aula de hoje:\n",
    "\n",
    "#Aprender a usar tipos de dados avançados no python:\n",
    "#Tuplas, Dicionários, Sets.\n",
    "\n",
    "\n",
    "#Começando com TUPLAS\n",
    "\n",
    "'''\n",
    "Quando temos um grupo grande de desenvolvedores trabalhando em um unico projeto, é necessario\n",
    "definir o que pode ou não pode ser alterado no código. Por exemplo, imagina se você tem uma lista\n",
    "de dias da semana e algum dev realiza um método pop() na lista? isso iria atrapalhar o desenvolvimento\n",
    "do programa! Com as Tuplas podemos criar algo semelhante a listas mas que são imutaveis, ou seja,\n",
    "elas não podem ser alteradas!\n",
    "\n",
    "\n",
    "A criação de uma tupla se assemelha muito com a criação de Listas:\n",
    "\n",
    "Sintaxe da tupla: Nome_da_tupla = ('Um', 6, 3,14, 'Pi',True)\n",
    "\n",
    "E para acessar os valores de uma tupla você pode utilizar o comando:\n",
    "\n",
    "print((nome_da_tupla[indice do item]))\n",
    "'''\n",
    "\n",
    "#Exemplo:\n",
    "\n",
    "diasSemana = (\"Segunda\",\"Terça\",\"Quarta\",\"Quinta\",\"Sexta\",\"Sabado\",\"Domingo\")\n",
    "print(diasSemana[2])"
   ]
  },
  {
   "cell_type": "code",
   "execution_count": null,
   "id": "dcbafbab-8fc4-448e-99f6-d46b3a13715d",
   "metadata": {
    "id": "dcbafbab-8fc4-448e-99f6-d46b3a13715d",
    "outputId": "0960cfaf-4a47-41ef-8adf-34658a431670"
   },
   "outputs": [
    {
     "data": {
      "text/plain": [
       "'\\nO metodo .count conta quantaas vezes um item apareceu em uma tupla\\n'"
      ]
     },
     "execution_count": 17,
     "metadata": {},
     "output_type": "execute_result"
    }
   ],
   "source": [
    "#Algumas funções e métodos básicos da tupla:\n",
    "\n",
    "diasSemana.index(\"Segunda\")\n",
    "'''\n",
    "O metodo .index informa o indice de um valor especificado no parametro\n",
    "'''\n",
    "diasSemana.count(2)\n",
    "'''\n",
    "O metodo .count conta quantaas vezes um item apareceu em uma tupla\n",
    "'''"
   ]
  },
  {
   "cell_type": "code",
   "execution_count": null,
   "id": "7ccd8660-16fa-47b9-8044-556832c36ed9",
   "metadata": {
    "id": "7ccd8660-16fa-47b9-8044-556832c36ed9",
    "outputId": "e525eb01-5bba-4148-e04e-492c68df1065"
   },
   "outputs": [
    {
     "data": {
      "text/plain": [
       "'\\nTUPLAS NÃO PODEM CRESCER E NEM DIMINUIR! UMA VEZ QUE UMA TUPLA É CRIADA, ELA NÃO PODE SER ALTERADA!\\n'"
      ]
     },
     "execution_count": 15,
     "metadata": {},
     "output_type": "execute_result"
    }
   ],
   "source": [
    "#Imutabilidade das tuplas!\n",
    "\n",
    "'''\n",
    "TUPLAS NÃO PODEM CRESCER E NEM DIMINUIR! UMA VEZ QUE UMA TUPLA É CRIADA, ELA NÃO PODE SER ALTERADA!\n",
    "'''"
   ]
  },
  {
   "cell_type": "code",
   "execution_count": 1,
   "id": "74d771e1-5954-4529-aa84-0242bbf31a7d",
   "metadata": {
    "id": "74d771e1-5954-4529-aa84-0242bbf31a7d",
    "outputId": "7439299f-9b3a-4632-f44a-c1d0ad9a05c8"
   },
   "outputs": [
    {
     "name": "stdout",
     "output_type": "stream",
     "text": [
      "Nome: Maria\n",
      "Idade: 20\n",
      "Curso: Engenharia\n",
      "Nome:  Maria\n"
     ]
    }
   ],
   "source": [
    "#Exemplo de uso das tuplas!\n",
    "\n",
    "# Definindo uma tupla com informações sobre o aluno: (nome, idade, curso)\n",
    "aluno = (\"Maria\", 20, \"Engenharia\")\n",
    "\n",
    "# Acessando as informações da tupla\n",
    "nome = aluno[0]\n",
    "idade = aluno[1]\n",
    "curso = aluno[2]\n",
    "\n",
    "print(f\"Nome: {nome}\")\n",
    "print(f\"Idade: {idade}\")\n",
    "print(f\"Curso: {curso}\")"
   ]
  },
  {
   "cell_type": "code",
   "execution_count": 1,
   "id": "f07e49c6-078e-4e8f-9f09-77e315428474",
   "metadata": {
    "id": "f07e49c6-078e-4e8f-9f09-77e315428474",
    "outputId": "2d98b7ab-aa1e-4bdc-f10d-c7a40c3a5a06"
   },
   "outputs": [
    {
     "name": "stdout",
     "output_type": "stream",
     "text": [
      "{1}\n",
      "{1, 2}\n",
      "{1, 2}\n",
      "{1, 2, 3, 4, 5, 6, 7, 8}\n"
     ]
    }
   ],
   "source": [
    "#Conjuntos (ou sets):\n",
    "'''\n",
    "Os sets são conjuntos/coleções não ordenadas de itens únicos e podem ser construídos utilizando a função set()\n",
    "'''\n",
    "x = set()\n",
    "x.add(1)\n",
    "print(x)\n",
    "x.add(2)\n",
    "print(x)\n",
    "x.add(1)\n",
    "print(x)\n",
    "\n",
    "\n",
    "#desafio:\n",
    "lista = set()\n",
    "lista.add(1)\n",
    "lista.add(3)\n",
    "lista.add(2)\n",
    "lista.add(3)\n",
    "lista.add(4)\n",
    "lista.add(5)\n",
    "lista.add(1)\n",
    "lista.add(5)\n",
    "lista.add(7)\n",
    "lista.add(6)\n",
    "lista.add(8)\n",
    "lista.add(3)\n",
    "lista.add(4)\n",
    "print(lista)"
   ]
  },
  {
   "cell_type": "code",
   "execution_count": 10,
   "id": "b3962794-fbbd-4298-bbed-a27232fdfdc2",
   "metadata": {
    "id": "b3962794-fbbd-4298-bbed-a27232fdfdc2"
   },
   "outputs": [
    {
     "name": "stdout",
     "output_type": "stream",
     "text": [
      "oi\n"
     ]
    }
   ],
   "source": [
    "#Booleans\n",
    "\n",
    "'''\n",
    "Um valor booleano é constituido por um valor True ou False normalmente, porém, existe um valor\n",
    "reservado chamado \"none\", para quando ainda não é possivel determinar o valor de uma variavel\n",
    "'''\n",
    "\n",
    "#Exemplo:\n",
    "# Declarando uma variável sem valor inicial\n",
    "resultado = None\n",
    "\n",
    "# Atribuindo um valor à variável após uma condição\n",
    "numero = 10\n",
    "\n",
    "if numero > 5:\n",
    "    resultado = \"maior que 5\"\n",
    "\n",
    "# Verificando se o resultado foi definido\n",
    "if resultado is not None:\n",
    "    print(resultado)\n",
    "else:\n",
    "    print(\"Resultado ainda não definido\")\n"
   ]
  },
  {
   "cell_type": "code",
   "execution_count": 15,
   "id": "AmOumIzC0ezm",
   "metadata": {
    "colab": {
     "base_uri": "https://localhost:8080/"
    },
    "id": "AmOumIzC0ezm",
    "outputId": "0550dbb5-0ddf-4aef-8d4e-a18aa143af06"
   },
   "outputs": [
    {
     "name": "stdout",
     "output_type": "stream",
     "text": [
      "um\n",
      "Digite qual senha você quer saber!Xbox Live\n",
      "Sua senha é:  466562\n"
     ]
    }
   ],
   "source": [
    "#Dicionarios em Python:\n",
    "\n",
    "'''\n",
    "Dicionários em Python servem para fazer o mapeamento de valores entre si,\n",
    "funcionando realmente como um dicionário,\n",
    "que você utiliza para entender o significado de palavras.\n",
    "\n",
    "para criar dicionarios utilizamos o seguinte formato:\n",
    "\n",
    "dicionario = {'chave':'valor',...}\n",
    "\n",
    "'''\n",
    "#Exemplo01\n",
    "\n",
    "dicionarioInglesPortugues = {'one':'um','two':'dois','three':'tres'}\n",
    "print(dicionarioInglesPortugues['one'])\n",
    "\n",
    "'''\n",
    "Mas podemos utilizar ele para varias coisas, exemplo, vamos criar um\n",
    "ARMAZENADOR DE SENHAS AUTOMATICO DO VINICIUS 13!:\n",
    "'''\n",
    "\n",
    "senhas = {'senha_banco':5231223,'senha_email':24652,'senha_xbox_live':466562}\n",
    "\n",
    "senha_info = input('Digite qual senha você quer saber!')\n",
    "if senha_info == 'Banco':\n",
    "    print(\"Sua senha é: \",senhas['senha_banco'])\n",
    "elif senha_info == 'Email':\n",
    "    print(\"Sua senha é: \",senhas['senha_email'])\n",
    "elif senha_info == 'Xbox Live':\n",
    "    print(\"Sua senha é: \", senhas['senha_xbox_live'])\n",
    "else:\n",
    "    print('Senha não encontrada!')"
   ]
  },
  {
   "cell_type": "code",
   "execution_count": null,
   "id": "xOwyOZdF1_yO",
   "metadata": {
    "id": "xOwyOZdF1_yO"
   },
   "outputs": [],
   "source": []
  }
 ],
 "metadata": {
  "colab": {
   "provenance": []
  },
  "kernelspec": {
   "display_name": "Python 3 (ipykernel)",
   "language": "python",
   "name": "python3"
  },
  "language_info": {
   "codemirror_mode": {
    "name": "ipython",
    "version": 3
   },
   "file_extension": ".py",
   "mimetype": "text/x-python",
   "name": "python",
   "nbconvert_exporter": "python",
   "pygments_lexer": "ipython3",
   "version": "3.11.7"
  }
 },
 "nbformat": 4,
 "nbformat_minor": 5
}
