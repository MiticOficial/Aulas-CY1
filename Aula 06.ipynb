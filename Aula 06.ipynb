{
 "cells": [
  {
   "cell_type": "code",
   "execution_count": 19,
   "id": "c15a651d-1578-42ea-8440-7d7e6f3bbfdb",
   "metadata": {},
   "outputs": [
    {
     "name": "stdout",
     "output_type": "stream",
     "text": [
      "Quarta\n"
     ]
    },
    {
     "data": {
      "text/plain": [
       "0"
      ]
     },
     "execution_count": 19,
     "metadata": {},
     "output_type": "execute_result"
    }
   ],
   "source": [
    "#Novos tipos de dados\n",
    "\n",
    "'''\n",
    "Na aula de hoje você vai aprender a utilizar alguns tipos de dados que não foram vistos até agora,\n",
    "e que deixarão seus programas ainda mais poderosos!\n",
    "'''\n",
    "\n",
    "#Objetivos da aula de hoje:\n",
    "\n",
    "#Aprender a usar tipos de dados avançados no python:\n",
    "#Tuplas, Dicionários, Sets.\n",
    "\n",
    "\n",
    "#Começando com TUPLAS\n",
    "\n",
    "'''\n",
    "Quando temos um grupo grande de desenvolvedores trabalhando em um unico projeto, é necessario\n",
    "definir o que pode ou não pode ser alterado no código. Por exemplo, imagina se você tem uma lista\n",
    "de dias da semana e algum dev realiza um método pop() na lista? isso iria atrapalhar o desenvolvimento\n",
    "do programa! Com as Tuplas podemos criar algo semelhante a listas mas que são imutaveis, ou seja,\n",
    "elas não podem ser alteradas!\n",
    "\n",
    "\n",
    "A criação de uma tupla se assemelha muito com a criação de Listas: \n",
    "\n",
    "Sintaxe da tupla: Nome_da_tupla = ('Um', 6, 3,14, 'Pi',True)\n",
    "\n",
    "E para acessar os valores de uma tupla você pode utilizar o comando:\n",
    "\n",
    "print((nome_da_tupla[indice do item]))\n",
    "'''\n",
    "\n",
    "#Exemplo:\n",
    "\n",
    "diasSemana = (\"Segunda\",\"Terça\",\"Quarta\",\"Quinta\",\"Sexta\",\"Sabado\",\"Domingo\")\n",
    "print(diasSemana[2])\n",
    "diasSemana.index(\"Segunda\")"
   ]
  },
  {
   "cell_type": "code",
   "execution_count": 17,
   "id": "dcbafbab-8fc4-448e-99f6-d46b3a13715d",
   "metadata": {},
   "outputs": [
    {
     "data": {
      "text/plain": [
       "'\\nO metodo .count conta quantaas vezes um item apareceu em uma tupla\\n'"
      ]
     },
     "execution_count": 17,
     "metadata": {},
     "output_type": "execute_result"
    }
   ],
   "source": [
    "#Algumas funções e métodos básicos da tupla:\n",
    "\n",
    "diasSemana.index(\"Segunda\")\n",
    "'''\n",
    "O metodo .index informa o indice de um valor especificado no parametro\n",
    "'''\n",
    "diasSemana.count(2)\n",
    "'''\n",
    "O metodo .count conta quantaas vezes um item apareceu em uma tupla\n",
    "'''"
   ]
  },
  {
   "cell_type": "code",
   "execution_count": 15,
   "id": "7ccd8660-16fa-47b9-8044-556832c36ed9",
   "metadata": {},
   "outputs": [
    {
     "data": {
      "text/plain": [
       "'\\nTUPLAS NÃO PODEM CRESCER E NEM DIMINUIR! UMA VEZ QUE UMA TUPLA É CRIADA, ELA NÃO PODE SER ALTERADA!\\n'"
      ]
     },
     "execution_count": 15,
     "metadata": {},
     "output_type": "execute_result"
    }
   ],
   "source": [
    "#Imutabilidade das tuplas!\n",
    "\n",
    "'''\n",
    "TUPLAS NÃO PODEM CRESCER E NEM DIMINUIR! UMA VEZ QUE UMA TUPLA É CRIADA, ELA NÃO PODE SER ALTERADA!\n",
    "'''"
   ]
  },
  {
   "cell_type": "code",
   "execution_count": 11,
   "id": "74d771e1-5954-4529-aa84-0242bbf31a7d",
   "metadata": {},
   "outputs": [
    {
     "name": "stdout",
     "output_type": "stream",
     "text": [
      "Nome: Maria\n",
      "Idade: 20\n",
      "Curso: Engenharia\n"
     ]
    }
   ],
   "source": [
    "#Exemplo de uso das tuplas!\n",
    "\n",
    "# Definindo uma tupla com informações sobre o aluno: (nome, idade, curso)\n",
    "aluno = (\"Maria\", 20, \"Engenharia\")\n",
    "\n",
    "# Acessando as informações da tupla\n",
    "nome = aluno[0]\n",
    "idade = aluno[1]\n",
    "curso = aluno[2]\n",
    "\n",
    "print(f\"Nome: {nome}\")\n",
    "print(f\"Idade: {idade}\")\n",
    "print(f\"Curso: {curso}\")"
   ]
  },
  {
   "cell_type": "code",
   "execution_count": 3,
   "id": "f07e49c6-078e-4e8f-9f09-77e315428474",
   "metadata": {},
   "outputs": [
    {
     "name": "stdout",
     "output_type": "stream",
     "text": [
      "{1}\n",
      "{1, 2}\n",
      "{1, 2}\n",
      "{1, 2, 3, 4, 5, 6, 7, 8}\n"
     ]
    }
   ],
   "source": [
    "#Conjuntos (ou sets):\n",
    "'''\n",
    "Os sets são conjuntos/coleções não ordenadas de itens únicos e podem ser construídos utilizando a função set()\n",
    "'''\n",
    "x = set()\n",
    "x.add(1)\n",
    "print(x)\n",
    "x.add(2)\n",
    "print(x)\n",
    "x.add(1)\n",
    "print(x)\n",
    "\n",
    "#desafio:\n",
    "lista = set()\n",
    "lista.add(1)\n",
    "lista.add(3)\n",
    "lista.add(2)\n",
    "lista.add(3)\n",
    "lista.add(4)\n",
    "lista.add(5)\n",
    "lista.add(1)\n",
    "lista.add(5)\n",
    "lista.add(7)\n",
    "lista.add(6)\n",
    "lista.add(8)\n",
    "lista.add(3)\n",
    "lista.add(4)\n",
    "print(lista)\n"
   ]
  },
  {
   "cell_type": "code",
   "execution_count": null,
   "id": "b3962794-fbbd-4298-bbed-a27232fdfdc2",
   "metadata": {},
   "outputs": [],
   "source": [
    "#Booleans\n",
    "\n",
    "'''\n",
    "Um valor booleano é constituido por um valor True ou False normalmente, porém, existe um valor\n",
    "reservado chamado \"none\", para quando ainda não é possivel determinar o valor de uma variavel\n",
    "'''\n",
    "\n",
    "#Exemplo:\n",
    "# Declarando uma variável sem valor inicial\n",
    "resultado = None\n",
    "\n",
    "# Atribuindo um valor à variável após uma condição\n",
    "numero = 10\n",
    "if numero > 5:\n",
    "    resultado = \"Maior que cinco\"\n",
    "\n",
    "# Verificando se o resultado foi definido\n",
    "if resultado is not None:\n",
    "    print(resultado)\n",
    "else:\n",
    "    print(\"Resultado ainda não definido\")\n"
   ]
  }
 ],
 "metadata": {
  "kernelspec": {
   "display_name": "Python 3 (ipykernel)",
   "language": "python",
   "name": "python3"
  },
  "language_info": {
   "codemirror_mode": {
    "name": "ipython",
    "version": 3
   },
   "file_extension": ".py",
   "mimetype": "text/x-python",
   "name": "python",
   "nbconvert_exporter": "python",
   "pygments_lexer": "ipython3",
   "version": "3.11.7"
  }
 },
 "nbformat": 4,
 "nbformat_minor": 5
}
