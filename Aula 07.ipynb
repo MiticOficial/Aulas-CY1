{
 "cells": [
  {
   "cell_type": "code",
   "execution_count": null,
   "id": "5d82e527-3766-418f-a242-54d15bcbfbc4",
   "metadata": {},
   "outputs": [],
   "source": [
    "#Funções!\n",
    "\n",
    "'''\n",
    "As funções são parte importante na vida de um programador, com elas você pode agrupar blocos de códigos\n",
    "que podem ser reutilizados varias vezes sem ter a necessidade de escrever todo o código!\n",
    "\n",
    "Um exemplo é a função len() que serve para calcular o tamanho de listas, variaveis e etc, ela nada mais é que um código muito maior\n",
    "que foi reduzido para uma função chamada len()!\n",
    "\n",
    "No geral, com as funções nós poupamos tempo que poderiamos usar para pensar em outras partes do código.\n",
    "'''\n",
    "\n",
    "#Criando/definindo Funções:\n",
    "\n",
    "'''\n",
    "Para definir uma função é bem simples! basta utilizar o comando \"def\" seguido pelo nome da sua função\n",
    "e um par de parenteses \"()\"\n",
    "\n",
    "- \"Formula\" das funções:\n",
    "def nome_da_função():\n",
    "    \"O que a função deverá fazer!\"\n",
    "\n",
    "- exemplo:\n",
    "def comprimento():\n",
    "    print(\"Olá, tudo bem?!\")\n",
    "\n",
    "lembre-se sempre da indentação (espaço em branco antes da ação que a função irá fazer)\n",
    "'''\n",
    "\n",
    "#Chamando uma função:\n",
    "\n",
    "'''\n",
    "para chamar a sua função, basta digitar o nome dela e os parenteses em seguida:\n",
    "- nome_da_função() \n",
    "exemplo: \n",
    "- comprimento()\n",
    "\n",
    "Esses parenteses podem servir como uma forma de se comunicar com a função caso necessario, nesse caso\n",
    "não havia a necessidade, pois a função apenas exibia uma mensagem já pré-definida, \n",
    "mas e se ela precisasse de alguma informação?\n",
    "'''\n",
    "\n",
    "#Passando informações para as funções:\n",
    "\n",
    "'''\n",
    "Por exemplo, e se quiséssemos que ele comprimentasse o nosso usuario diretamente? \n",
    "para isso poderiamos usar uma variavel entre os parenteses como um \"parâmetro\"!\n",
    "\n",
    "Exemplo: \n",
    "def cumprimento(nomeDeUsuario):\n",
    "    print(\"Olá\",nomeDeUsuario,\",tudo bem?!\")\n",
    "\n",
    "comprimento(\"Mateus\")\n",
    "\n",
    "Agora, você deve informar um valor para o parametro que foi inserido entre os parênteses da função!\n",
    "'''"
   ]
  },
  {
   "cell_type": "code",
   "execution_count": 21,
   "id": "67c5e682-4a93-4666-8bb3-2017830c73ad",
   "metadata": {},
   "outputs": [],
   "source": [
    "def comprimento(nomeDeUsuario):\n",
    "    print(\"Olá\",nomeDeUsuario,\",tudo bem?!\")"
   ]
  },
  {
   "cell_type": "code",
   "execution_count": 25,
   "id": "31fcae8b-dbf9-4fa4-9aec-249f3d241de0",
   "metadata": {},
   "outputs": [
    {
     "name": "stdout",
     "output_type": "stream",
     "text": [
      "Olá Mateus ,tudo bem?!\n"
     ]
    }
   ],
   "source": [
    "comprimento(\"Mateus\")"
   ]
  },
  {
   "cell_type": "code",
   "execution_count": null,
   "id": "cdbe1200-8368-4749-920d-ef5ced40c573",
   "metadata": {},
   "outputs": [],
   "source": [
    "#Mas o que são esses parâmetros afinal?\n",
    "\n",
    "'''\n",
    "O parâmetro é a informação de que uma função precisa. \n",
    "No nosso exemplo, só existe um parâmetro: “nomeDeUsuario”. \n",
    "Já o valor que é enviado para a função é chamado de argumento da função \n",
    "no exemplo o argumento foi “Mateus”.\n",
    "\n",
    "Além disso, uma função pode não ter nenhum parâmetro, um ou vários, quantos forem necessários. \n",
    "Quando você tiver mais de um parâmetro, basta utilizar a vírgula (,) para separá-los.\n",
    "\n",
    "Vamos testar esse novo conceito? crie uma função que se chama filme_favorito() que aceita um parametro(variavel)\n",
    "chamada titulo, a função deve exibir uma mensagem como \"Um dos meus filmes favoritos é: \"\n",
    "e exibir logo em seguida os argumentos(respostas do usuario).\n",
    "\n",
    "Ex:\n",
    "Um dos meus filmes favoritos é: Transformers \n",
    "'''"
   ]
  },
  {
   "cell_type": "code",
   "execution_count": 35,
   "id": "508e369b-5898-48c8-882e-46af3eaff108",
   "metadata": {},
   "outputs": [],
   "source": [
    "def filme_favorito(titulo,titulo2):\n",
    "    print(\"Um dos meus filmes favoritos é:\", titulo, \"Ou\", titulo2)"
   ]
  },
  {
   "cell_type": "code",
   "execution_count": 37,
   "id": "7260bc9a-fc3d-4f77-8b0e-4c90ab1c6304",
   "metadata": {},
   "outputs": [
    {
     "name": "stdout",
     "output_type": "stream",
     "text": [
      "Um dos meus filmes favoritos é: Transformers Ou Velozes e furiosos 1\n"
     ]
    }
   ],
   "source": [
    "filme_favorito(\"Transformers\", \"Velozes e furiosos 1\")"
   ]
  },
  {
   "cell_type": "code",
   "execution_count": 3,
   "id": "bf6eba08-72ea-4fe7-b03e-a552d8147511",
   "metadata": {},
   "outputs": [
    {
     "name": "stdout",
     "output_type": "stream",
     "text": [
      "0.5\n"
     ]
    },
    {
     "data": {
      "text/plain": [
       "'\\nUm argumento nomeado é um par nome-valor passado para uma função. \\nAssim, o Python consegue associar diretamente o nome de um parâmetro a um valor de um argumento, \\nsem criar confusão quando os argumentos forem passados em qualquer ordem. \\n'"
      ]
     },
     "execution_count": 3,
     "metadata": {},
     "output_type": "execute_result"
    }
   ],
   "source": [
    "#Entrada e saída de dados:\n",
    "\n",
    "'''\n",
    "Como é possível que uma função tenha vários parâmetros, \n",
    "uma chamada de função pode precisar de muitos argumentos ao mesmo tempo.\n",
    "No Python, os argumentos podem ser passados de diversas maneiras! Vamos ver algumas formas.\n",
    "'''\n",
    "#Argumentos Posicionais:\n",
    "\n",
    "'''\n",
    "Os argumentos posicionais são a maneira mais facil de se passar argumentos. \n",
    "nesse caso, basta informar os argumentos na mesma ordem dos parametros como fizemos no exemplo anterior\n",
    "então \n",
    "\n",
    "titulo vai ser transformers e titulo2 vai ser Velozes e furiosos 1\n",
    "\n",
    "podemos utilizar numeros também! por exemplo, para fazer calculos.\n",
    "'''\n",
    "\n",
    "#Formula da velocidade é igual a V(velocidade) = d(distancia)/t(tempo) V=d/t\n",
    "\n",
    "def velocidade(distancia,tempo):\n",
    "    print(distancia/tempo)\n",
    "\n",
    "velocidade(5,10)\n",
    "\n",
    "#IMPORTANTE#\n",
    "'''\n",
    "Observe que, para que o cálculo seja realizado corretamente, \n",
    "é necessário que os argumentos estejam na mesma posição que seus respectivos parâmetros.\n",
    "'''\n",
    "#Argumentos nomeados\n",
    "\n",
    "'''\n",
    "Um argumento nomeado é um par nome-valor passado para uma função. \n",
    "Assim, o Python consegue associar diretamente o nome de um parâmetro a um valor de um argumento, \n",
    "sem criar confusão quando os argumentos forem passados em qualquer ordem. \n",
    "'''"
   ]
  },
  {
   "cell_type": "code",
   "execution_count": 9,
   "id": "72757d4c-e4a5-4e8c-9e29-cfee37a17686",
   "metadata": {},
   "outputs": [
    {
     "name": "stdout",
     "output_type": "stream",
     "text": [
      "1.6666666666666667\n"
     ]
    }
   ],
   "source": [
    "#Exemplo:\n",
    "velocidade(distancia=100, tempo=60)"
   ]
  },
  {
   "cell_type": "code",
   "execution_count": 13,
   "id": "4920f2db-93be-4f7a-8db1-a5cf88bfe0bd",
   "metadata": {},
   "outputs": [
    {
     "data": {
      "text/plain": [
       "'\\nObserve que a ORDEM dos parâmetros na definição da função precisou ser alterada. \\nComo o uso do valor default (distancia=1000) faz com que não seja preciso definir um valor,\\no argumento restante é interpretado de acordo com sua posição (argumento posicional).\\n'"
      ]
     },
     "execution_count": 13,
     "metadata": {},
     "output_type": "execute_result"
    }
   ],
   "source": [
    "#Valores predefinidos (ou default)\n",
    "\n",
    "'''\n",
    "Você pode também definir um valor default já no parametro da sua função, \n",
    "isso ajuda a definir coisas especificas no seu programa que não será alterada pelo usuario.\n",
    "'''\n",
    "\n",
    "def velocidade(tempo, distancia=1000):\n",
    "    print(distancia/tempo)\n",
    "\n",
    "'''\n",
    "Observe que a ORDEM dos parâmetros na definição da função precisou ser alterada. \n",
    "Como o uso do valor default (distancia=1000) faz com que não seja preciso definir um valor,\n",
    "o argumento restante é interpretado de acordo com sua posição (argumento posicional).\n",
    "'''"
   ]
  },
  {
   "cell_type": "code",
   "execution_count": 19,
   "id": "bba09719-8ffb-45b8-8fbb-7dc5595b32b1",
   "metadata": {},
   "outputs": [
    {
     "name": "stdout",
     "output_type": "stream",
     "text": [
      "20.0\n"
     ]
    }
   ],
   "source": [
    "velocidade(50)"
   ]
  },
  {
   "cell_type": "code",
   "execution_count": 23,
   "id": "a99ef592-c0ae-44df-b8ed-cf1a85a86dbf",
   "metadata": {},
   "outputs": [],
   "source": [
    "#Retornando valores:\n",
    "\n",
    "'''\n",
    "Uma função nem sempre precisa exibir sozinha uma saída. \n",
    "Ela pode realizar várias operações e depois só devolver \n",
    "um valor ou um conjunto de valores para outro trecho de código utilizar.\n",
    "\n",
    "O valor que é devolvido se chama \"Valor de retorno\". Para fazer isso, é necessario utilizar o \n",
    "comando return, que vai enviar um valor de volta para a linha que chamou a função!\n",
    "\n",
    "Exemplo, imagine que você quer criar uma função para comparar dois números e retornar o valor do\n",
    "menor deles, sua função ficaria mais ou menos assim:\n",
    "'''\n",
    "\n",
    "#Criando a nossa função\n",
    "\n",
    "def menor(a,b):\n",
    "    if a<=b:\n",
    "        return a\n",
    "    else:\n",
    "        return b"
   ]
  },
  {
   "cell_type": "code",
   "execution_count": 25,
   "id": "9d788cbd-417e-4d0c-ad13-15eafa6ce488",
   "metadata": {},
   "outputs": [
    {
     "name": "stdout",
     "output_type": "stream",
     "text": [
      "O menor valor entre  5 e 1 é 1\n"
     ]
    }
   ],
   "source": [
    "#Definindo os valores de a e b, e executando a função\n",
    "\n",
    "a = 5\n",
    "b = 1\n",
    "print(\"O menor valor entre \",a,\"e\",b,\"é\",menor(a,b))"
   ]
  },
  {
   "cell_type": "code",
   "execution_count": null,
   "id": "d97fe50f-1d87-4dcb-a0ac-4dd4dca4800b",
   "metadata": {},
   "outputs": [],
   "source": [
    "#PARAR AQUI!!! PARA PARA PARA PARA. ----------------------------------------------------------------------------------------------------------"
   ]
  },
  {
   "cell_type": "code",
   "execution_count": null,
   "id": "23bb4e2d-384f-4001-b5e8-a2736c135e47",
   "metadata": {},
   "outputs": [],
   "source": [
    "#Funções compostas e recursivas\n",
    "\n",
    "'''\n",
    "Funções podem conter qualquer trecho de código dentro dos seus escopos, \n",
    "inclusive chamadas para outras funções!\n",
    "\n",
    "é a funçãoception kkkkkkk mds\n",
    "\n",
    "por exemplo, vamos fazer uma função que exiba o menor e o maior valor de uma lista:\n",
    "'''\n",
    "\n",
    "def menor(lista):\n",
    "    menorValor = lista[0]\n",
    "    for x in lista:\n",
    "        if(x<menorValor)"
   ]
  },
  {
   "cell_type": "code",
   "execution_count": null,
   "id": "25f26dc5-8ba3-482c-aa7b-cdee8530ffd2",
   "metadata": {},
   "outputs": [],
   "source": []
  }
 ],
 "metadata": {
  "kernelspec": {
   "display_name": "Python 3 (ipykernel)",
   "language": "python",
   "name": "python3"
  },
  "language_info": {
   "codemirror_mode": {
    "name": "ipython",
    "version": 3
   },
   "file_extension": ".py",
   "mimetype": "text/x-python",
   "name": "python",
   "nbconvert_exporter": "python",
   "pygments_lexer": "ipython3",
   "version": "3.11.7"
  }
 },
 "nbformat": 4,
 "nbformat_minor": 5
}
