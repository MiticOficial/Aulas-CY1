{
 "cells": [
  {
   "cell_type": "code",
   "execution_count": null,
   "id": "7ab4f71e-0400-4589-8e75-14631a55c0b0",
   "metadata": {},
   "outputs": [],
   "source": [
    "#ARQUIVOS\n",
    "'''\n",
    "O Python usa um tipo especial de objeto para interagir com arquivos externos em seu computador. \n",
    "Esses objetos podem ser qualquer tipo de arquivo que você tenha em seu computador, \n",
    "seja um áudio, texto, imagem, e-mails etc.\n",
    "\n",
    "Para ajudar, existem algumas funções que permitem abrir e utilizar métodos básicos com arquivos.\n",
    "Mas primeiro precisamos de um arquivo, então vamos criar um arquivo de texto ou .txt de forma mais técnica.\n",
    "'''"
   ]
  },
  {
   "cell_type": "code",
   "execution_count": 15,
   "id": "053a0287-b832-4fb7-a5e0-afae7a59bf70",
   "metadata": {},
   "outputs": [
    {
     "data": {
      "text/plain": [
       "'\\nPara criar um arquivo de texto, utilizamos o comando %%writefile \\nseguido pelo nome do arquivo e a sua extensão\\n(.txt no caso de um arquivo de texto u .png/jpg no caso de uma imagem)\\n\\nTudo que estiver abaixo do %%writefile será escrito no arquivo.\\n'"
      ]
     },
     "execution_count": 15,
     "metadata": {},
     "output_type": "execute_result"
    }
   ],
   "source": [
    "#Criando um arquivo .txt\n",
    "\n",
    "'''\n",
    "Para criar um arquivo de texto, utilizamos o comando %%writefile \n",
    "seguido pelo nome do arquivo e a sua extensão\n",
    "(.txt no caso de um arquivo de texto u .png/jpg no caso de uma imagem)\n",
    "\n",
    "Tudo que estiver abaixo do %%writefile será escrito no arquivo.\n",
    "'''\n"
   ]
  },
  {
   "cell_type": "code",
   "execution_count": 4,
   "id": "3eaf70e2-db06-4598-91ac-0f788902bf95",
   "metadata": {},
   "outputs": [
    {
     "name": "stdout",
     "output_type": "stream",
     "text": [
      "Overwriting aula08teste.txt\n"
     ]
    }
   ],
   "source": [
    "%%writefile aula08teste.txt\n",
    "Estou testando esse arquivo, estou testando esse arquivo\n",
    "Tomoulis e o melhor grupo de Youtubers do Brasil \n",
    "Arcane nao deveria ganhar melhor adaptacao\n",
    "Fallout e muito bom\n",
    "fkaokfoaslçkfsa"
   ]
  },
  {
   "cell_type": "code",
   "execution_count": 2,
   "id": "f2c75402-dae1-416a-a1f1-a357d8360847",
   "metadata": {},
   "outputs": [
    {
     "data": {
      "text/plain": [
       "'Estou testando esse arquivo, estou testando esse arquivo\\nTomoulis e o melhor grupo de Youtubers do Brasil \\nArcane nao deveria ganhar melhor adaptacao\\nFallout e muito bom\\n'"
      ]
     },
     "execution_count": 2,
     "metadata": {},
     "output_type": "execute_result"
    }
   ],
   "source": [
    "Banco_de_dados = open(\"teste01.txt\")\n",
    "Banco_de_dados.read()"
   ]
  },
  {
   "cell_type": "code",
   "execution_count": null,
   "id": "61ffce5e-5e85-4a75-9f46-a100e2b6bb65",
   "metadata": {},
   "outputs": [],
   "source": [
    "#Abrindo um arquivo\n",
    "'''\n",
    "Agora que já criamos o nosso arquivo, precisamos abrir ele de alguma forma certo? para isso usamos a função\n",
    "open(), depois de aberta, você pode realizar duas operações: ler o arquivo ou escrever nele.\n",
    "'''\n",
    "#Modos\n",
    "'''\n",
    "Apesar de não ser obrigatório, ao abrir um arquivo, \n",
    "você pode adicionar o modo que ele será utilizado como argumento da função.\n",
    "\n",
    "Eles são:\n",
    "\n",
    "r(read only) - Modo de leitura usado quando o arquivo vai apenas ser lido \n",
    "(geralmente um arquivo sempre vai começar assim)\n",
    "\n",
    "w(write only) - Modo de gravação que é usado para editar e gravar novas info no arquivo\n",
    "(IMPORTANTE: QUALQUER INFORMAÇÃO EXISTENTE NO ARQUIVO COM O MESMO NOME, SERÃO APARAGADAS QUANDO ESTE MODO FOR ATIVADO)\n",
    "\n",
    "a(append) - Ele acrescenta uma nova informação ao final do arquivo\n",
    "\n",
    "r+(read and write) - É usado para ler e escrever em arquivos já existentes\n",
    "\n",
    "Veremos o uso de um deles agora, o append(a)!\n",
    "'''"
   ]
  },
  {
   "cell_type": "code",
   "execution_count": 5,
   "id": "6804b901-042b-4de4-b03d-76c731257ea4",
   "metadata": {},
   "outputs": [
    {
     "data": {
      "text/plain": [
       "13"
      ]
     },
     "execution_count": 5,
     "metadata": {},
     "output_type": "execute_result"
    }
   ],
   "source": [
    "arquivo = open(\"teste01.txt\",\"a\")\n",
    "arquivo.write(\"/nOlá olá olá\")"
   ]
  },
  {
   "cell_type": "code",
   "execution_count": 93,
   "id": "58ad5ad9-53f1-4c81-b4ac-149d6fdb88e4",
   "metadata": {},
   "outputs": [
    {
     "data": {
      "text/plain": [
       "'Estou testando esse arquivo, estou testando esse arquivo\\nTomoulis e o melhor grupo de Youtubers do Brasil \\nArcane nao deveria ganhar melhor adaptacao\\nFallout e muito bom\\n/nOlá olá olá'"
      ]
     },
     "execution_count": 93,
     "metadata": {},
     "output_type": "execute_result"
    }
   ],
   "source": [
    "arquivo = open(\"teste01.txt\")\n",
    "arquivo.read()"
   ]
  },
  {
   "cell_type": "code",
   "execution_count": null,
   "id": "3c1a5d10-4b3e-453b-acc1-2f9220eb0178",
   "metadata": {},
   "outputs": [],
   "source": [
    "#----------------------------------------------------------------------------------\n",
    "#Testando com novos arquivos"
   ]
  },
  {
   "cell_type": "code",
   "execution_count": null,
   "id": "129b84ad-9992-4ad4-af61-ea67cd89223a",
   "metadata": {},
   "outputs": [],
   "source": [
    "#Criando um novo arquivo de texto"
   ]
  },
  {
   "cell_type": "code",
   "execution_count": 115,
   "id": "900f859c-2f06-4bde-89a9-7c5df0634239",
   "metadata": {},
   "outputs": [
    {
     "name": "stdout",
     "output_type": "stream",
     "text": [
      "Overwriting herois.txt\n"
     ]
    }
   ],
   "source": [
    "%%writefile herois.txt\n",
    "homem-Aranha, Marvel\n",
    "Flash, DC"
   ]
  },
  {
   "cell_type": "code",
   "execution_count": 103,
   "id": "481d19e6-350c-4fe0-b574-120e8264d2f2",
   "metadata": {},
   "outputs": [],
   "source": [
    "#Abrindo o arquivo\n",
    "arquivo = open(\"herois.txt\")"
   ]
  },
  {
   "cell_type": "code",
   "execution_count": 105,
   "id": "59cfa2fc-873f-47fd-88b4-7a13f97fc019",
   "metadata": {},
   "outputs": [
    {
     "data": {
      "text/plain": [
       "'homem-aranha, marvel\\n'"
      ]
     },
     "execution_count": 105,
     "metadata": {},
     "output_type": "execute_result"
    }
   ],
   "source": [
    "#lendo o arquivo\n",
    "arquivo.read()"
   ]
  },
  {
   "cell_type": "code",
   "execution_count": 109,
   "id": "dbe11ec3-7425-42a9-b680-ab8a70fbe25e",
   "metadata": {},
   "outputs": [
    {
     "data": {
      "text/plain": [
       "''"
      ]
     },
     "execution_count": 109,
     "metadata": {},
     "output_type": "execute_result"
    }
   ],
   "source": [
    "#Se tentarmos ler o arquivo novamente, verá que ele não ira mais mostrar nada na tela\n",
    "arquivo.read()"
   ]
  },
  {
   "cell_type": "code",
   "execution_count": 111,
   "id": "4ce73ee5-e52e-4cf0-903c-38e2ca0843ff",
   "metadata": {},
   "outputs": [
    {
     "data": {
      "text/plain": [
       "'homem-aranha, marvel\\n'"
      ]
     },
     "execution_count": 111,
     "metadata": {},
     "output_type": "execute_result"
    }
   ],
   "source": [
    "'''\n",
    "Isso acontece porque o arquivo já foi lido até o final uma vez, logo ele continuara no final do texto,\n",
    "por conta disso não há nada para ler. Para redefinir a leitura e começar novamente do inicio, \n",
    "usamos o seguinte comando:\n",
    "'''\n",
    "# o comando .seek procura o inicio do arquivo, apartir do seu indice, no caso aqui, o 0\n",
    "arquivo.seek(0)\n",
    "# lendo novamente o arquivo do 0\n",
    "arquivo.read()"
   ]
  },
  {
   "cell_type": "code",
   "execution_count": 119,
   "id": "d4942f2e-a3d0-484d-9fff-9cdc95572516",
   "metadata": {},
   "outputs": [
    {
     "name": "stdout",
     "output_type": "stream",
     "text": [
      "homem-Aranha, Marvel\n",
      "\n",
      "Flash, DC\n",
      "\n"
     ]
    }
   ],
   "source": [
    "#Você pode usar tambem a função readlines(), isso fará com que ele leia linha por linha\n",
    "arquivo = open(\"herois.txt\")\n",
    "#lendo a primeira linha\n",
    "print(arquivo.readline())\n",
    "#lendo a segunda linha\n",
    "print(arquivo.readline())"
   ]
  },
  {
   "cell_type": "code",
   "execution_count": null,
   "id": "48fc38e4-d01b-43e7-8ae3-e7a60882ce39",
   "metadata": {},
   "outputs": [],
   "source": [
    "#lendo o arquivo inteiro com for\n",
    "arquivo = open(\"herois.txt\", \"r\")\n",
    "for linha in arquivo:\n",
    "    print(linha)"
   ]
  },
  {
   "cell_type": "code",
   "execution_count": 123,
   "id": "1a5d9fa3-d3b8-4fe9-a6d9-12c75f8638e4",
   "metadata": {},
   "outputs": [],
   "source": [
    "#Escrevendo um arquivo\n",
    "'''\n",
    "Como visto anteriormente, usando a função open() sem o parâmetro do modo, \n",
    "você só conseguirá ler o arquivo. Será preciso passar o argumento “w” ou “r+” para escrever sobre o arquivo.\n",
    "'''\n",
    "\n",
    "arquivo = open(\"herois.txt\", \"w\")"
   ]
  },
  {
   "cell_type": "code",
   "execution_count": 129,
   "id": "9539accf-8f84-4f17-ad8f-591c83bf9235",
   "metadata": {},
   "outputs": [
    {
     "data": {
      "text/plain": [
       "21"
      ]
     },
     "execution_count": 129,
     "metadata": {},
     "output_type": "execute_result"
    }
   ],
   "source": [
    "#Para dar um novo valor para o arquivo, utilizamos a função .write() e escrevemos o novo valor entre \"()\"\n",
    "arquivo.write(\"Pantera Negra, Marvel\")"
   ]
  },
  {
   "cell_type": "code",
   "execution_count": 131,
   "id": "b40c554b-bcbd-422f-9fc5-c30c0c31643d",
   "metadata": {},
   "outputs": [
    {
     "data": {
      "text/plain": [
       "'Pantera Negra, MarvelPantera Negra, Marvel'"
      ]
     },
     "execution_count": 131,
     "metadata": {},
     "output_type": "execute_result"
    }
   ],
   "source": [
    "arquivo = open(\"herois.txt\")\n",
    "arquivo.read()"
   ]
  },
  {
   "cell_type": "code",
   "execution_count": null,
   "id": "169374c8-a971-41bd-8320-634f141b1fb6",
   "metadata": {},
   "outputs": [],
   "source": [
    "#PROBLEMAS!\n",
    "\n",
    "'''\n",
    "Quando executamos a função open com o modo w(write only) ele apaga as informações anteriores e reescreve novas\n",
    "para isso não acontecer, utilizamos sempre o modo a(append), já que ele não reescreve informações, apenas adiciona\n",
    "'''"
   ]
  },
  {
   "cell_type": "code",
   "execution_count": 133,
   "id": "a60eb7db-49c1-41aa-979c-7edd80f7bc5d",
   "metadata": {},
   "outputs": [
    {
     "data": {
      "text/plain": [
       "13"
      ]
     },
     "execution_count": 133,
     "metadata": {},
     "output_type": "execute_result"
    }
   ],
   "source": [
    "#Abrindo o arquivo herois novamente com o modo a (append) ligado\n",
    "arquivo = open(\"herois.txt\",\"a\")\n",
    "#Escrevendo os valores que serão adicionados\n",
    "arquivo.write(\"\\nBatman, DC\")\n",
    "arquivo.write(\"\\nHulk, Marvel\")"
   ]
  },
  {
   "cell_type": "code",
   "execution_count": 135,
   "id": "52d48115-daa9-4be1-a54c-7b8a2a3a9476",
   "metadata": {},
   "outputs": [
    {
     "name": "stdout",
     "output_type": "stream",
     "text": [
      "Pantera Negra, MarvelPantera Negra, Marvel\n",
      "\n",
      "Batman, DC\n",
      "\n",
      "Hulk, Marvel\n"
     ]
    }
   ],
   "source": [
    "#Lendo novamente os arquivos com o For\n",
    "arquivo = open(\"herois.txt\", \"r\")\n",
    "for linha in arquivo:\n",
    "    print(linha)"
   ]
  },
  {
   "cell_type": "code",
   "execution_count": null,
   "id": "e1dd02b1-958b-434b-84a0-5b634ae74344",
   "metadata": {},
   "outputs": [],
   "source": [
    "#Fechando um arquivo\n",
    "'''\n",
    "Quando terminamos de trabalhar com um arquivo, podemos utilizar a função close() para fechar o arquivo,\n",
    "isso ajuda a liberar espaço na memoria do computador, permetindo que ele use essa memória em outro lugar.\n",
    "'''"
   ]
  },
  {
   "cell_type": "code",
   "execution_count": null,
   "id": "648d5ef2-21ef-4822-8e18-aec1602172dd",
   "metadata": {},
   "outputs": [],
   "source": [
    "#utilizando o comando with\n",
    "\n",
    "'''\n",
    "Você também pode trabalhar com arquivos usando o comando with. \n",
    "Ele é projetado para fornecer uma sintaxe mais limpa quando você está trabalhando com código. \n",
    "Isso explica porque é uma boa prática usar esse comando quando aplicável.\n",
    "\n",
    "Um bônus de usar esse método é que todos os arquivos abertos serão fechados automaticamente depois que você terminar.\n",
    "'''\n",
    "\n",
    "with open(\"herois.txt\") as arquivo:\n",
    "    print(arquivo.readline())\n",
    "    print(arquivo.readline())"
   ]
  }
 ],
 "metadata": {
  "kernelspec": {
   "display_name": "Python 3 (ipykernel)",
   "language": "python",
   "name": "python3"
  },
  "language_info": {
   "codemirror_mode": {
    "name": "ipython",
    "version": 3
   },
   "file_extension": ".py",
   "mimetype": "text/x-python",
   "name": "python",
   "nbconvert_exporter": "python",
   "pygments_lexer": "ipython3",
   "version": "3.11.7"
  }
 },
 "nbformat": 4,
 "nbformat_minor": 5
}
