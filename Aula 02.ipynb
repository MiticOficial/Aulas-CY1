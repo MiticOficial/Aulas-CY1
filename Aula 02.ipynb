{
 "cells": [
  {
   "cell_type": "code",
   "execution_count": 1,
   "id": "2ae46c1b-04a7-45bc-a1d8-3594d7099f4c",
   "metadata": {
    "scrolled": true
   },
   "outputs": [
    {
     "name": "stdout",
     "output_type": "stream",
     "text": [
      "Oi\n",
      "Oi, tudo bem?\n",
      "Ctrl+Play - Escola de programação e robótica\n",
      "\"Change the world, my final message. goodbye!\"\n"
     ]
    }
   ],
   "source": [
    "# Strings\n",
    "\n",
    "'''\n",
    "Strings são tipos de objetos usados para registrar textos. Strings são tratados\n",
    "pelo computador como uma sequencia de caracteres. \n",
    "\n",
    "--------\n",
    "|\"Mateus\"|\n",
    "|M,a,t,e,u,s|\n",
    "--------\n",
    "'''\n",
    "\n",
    "String1 = \"Oi\"\n",
    "String2 = \"Oi, tudo bem?\"\n",
    "#Você também pode usar aspas simples ('')\n",
    "String3 = 'Ctrl+Play - Escola de programação e robótica'\n",
    "\n",
    "#você também pode usar aspas simples junto com aspas duplas para fazer citações\n",
    "citacao = '\"Change the world, my final message. goodbye!\"'\n",
    "print(String1)\n",
    "print(String2)\n",
    "print(String3)\n",
    "print(citacao)"
   ]
  },
  {
   "cell_type": "code",
   "execution_count": 3,
   "id": "2175eb36-11c6-43c9-a8cf-bc6d714b8fbc",
   "metadata": {},
   "outputs": [
    {
     "name": "stdout",
     "output_type": "stream",
     "text": [
      "Testando\n",
      "Testando\n",
      "saltando \n",
      "\n",
      " linhas \n",
      "\n",
      "Ola \t Ctrl+Play\n"
     ]
    }
   ],
   "source": [
    "#Imprimindo Strings:\n",
    "\n",
    "'''\n",
    "Existem 3 formas de imprimir uma string, \n",
    "porem utilizar a função print() é a mais adequada:\n",
    "'''\n",
    "\n",
    "String4 = \"Testando\"\n",
    "print(String4)\n",
    "print(\"Testando\")\n",
    "\"Testando\" #Essa ultima forma não é adequada, porem podemos utilizar ela aqui no Jupyter.\n",
    "\n",
    "#Saltando linhas e acrescentando espaços\n",
    "\n",
    "print(\"saltando \\n\\n linhas \\n\")\n",
    "\n",
    "print(\"Ola \\t Ctrl+Play\")"
   ]
  },
  {
   "cell_type": "code",
   "execution_count": 13,
   "id": "4b99573b-2032-4799-856b-7daad73e9cc3",
   "metadata": {},
   "outputs": [
    {
     "data": {
      "text/plain": [
       "'\\nIndexação em strings é basicamente onde está determinado caracter em um indice da string\\n\\nex: |Mateus| print(nome[0]) = M \\n    |012345|\\n\\n*Declarações no python costumam ser no contexto \"até X, mas não incluso\"!\\n\\n'"
      ]
     },
     "execution_count": 13,
     "metadata": {},
     "output_type": "execute_result"
    }
   ],
   "source": [
    "#Função len()\n",
    "\n",
    "'''\n",
    "A função len() conta quantos caracteres existem em uma determinada string!\n",
    "\n",
    "ex: Mateus -> 6 caracteres \n",
    "'''\n",
    "frase = \"Olá mundo/Hello world\"\n",
    "len(frase)\n",
    "\n",
    "#Indexação em strings \n",
    "\n",
    "'''\n",
    "Indexação em strings é basicamente uma forma de saber onde está determinado caracter em um indice da string\n",
    "\n",
    "ex: |Mateus| print(nome[0]) = M \n",
    "    |012345|\n",
    "\n",
    "*Declarações no python costumam ser no contexto \"até X, mas não incluso\"!\n",
    "\n",
    "'''"
   ]
  },
  {
   "cell_type": "code",
   "execution_count": 7,
   "id": "d47eb349-e199-40e6-8e58-3dfd053e14ac",
   "metadata": {},
   "outputs": [
    {
     "name": "stdout",
     "output_type": "stream",
     "text": [
      "9\n"
     ]
    }
   ],
   "source": [
    "#Função find()\n",
    "\n",
    "'''\n",
    "A função find encontra um caracter especifico em uma string\n",
    "e retorna a posição dele.\n",
    "'''\n",
    "#ex: \n",
    "email = \"teusmat18@gmail.com\"\n",
    "print(email.find(\"@\"))"
   ]
  },
  {
   "cell_type": "code",
   "execution_count": 5,
   "id": "7f54a986-974c-40ef-abcf-8cbbdfdb1dd0",
   "metadata": {},
   "outputs": [
    {
     "name": "stdout",
     "output_type": "stream",
     "text": [
      "2\n"
     ]
    }
   ],
   "source": [
    "#Função count()\n",
    "\n",
    "'''\n",
    "A função .count() conta quantos caracteres iguais existem em uma String\n",
    "e retorna esse valor.\n",
    "'''\n",
    "\n",
    "#ex:\n",
    "\n",
    "print(email.count(\"a\"))"
   ]
  },
  {
   "cell_type": "code",
   "execution_count": 9,
   "id": "f8ab6bdb-fe9f-42d0-96e6-d9f5b31a9cbc",
   "metadata": {},
   "outputs": [
    {
     "name": "stdout",
     "output_type": "stream",
     "text": [
      "Mateus André\n",
      "MateusMateusMateusMateusMateusMateusMateusMateusMateusMateus\n"
     ]
    }
   ],
   "source": [
    "#Imutabilidade das Strings\n",
    "\n",
    "'''\n",
    "Uma String tem uma propriedade muito importante, ela é imutavel,\n",
    "então ela não pode ser alterada após a sua criação.\n",
    "\n",
    "ex: nome = \"Mateus\"\n",
    "    nome[0] = \"L\"\n",
    "    \n",
    "    O exemplo acima mostraria um erro de compatibilidade.\n",
    "'''\n",
    "\n",
    "#Concatenação de Strings\n",
    "\n",
    "'''\n",
    "Concatenar uma string é basicamente somar duas strings para juntar seus valores\n",
    "'''\n",
    "#Exemplo:\n",
    "\n",
    "nome = \"Mateus\"\n",
    "sobrenome = \" André\"\n",
    "print(nome+sobrenome)\n",
    "\n",
    "\n",
    "#Repetição\n",
    "'''\n",
    "Para repetir varias vezes uma string criada, podemos utilizar o sinal de (*)\n",
    "'''\n",
    "\n",
    "#Exemplo:\n",
    "print(nome*10)"
   ]
  },
  {
   "cell_type": "code",
   "execution_count": null,
   "id": "2c5b898a-efc1-43ef-9e27-1a9ded5718bb",
   "metadata": {},
   "outputs": [],
   "source": [
    "#Função Str()\n",
    "\n",
    "'''\n",
    "No Python, não podemos concatenar strings(textos) com números e para lidar com isso\n",
    "usamos a função str() para transformar numeros em strings.\n",
    "'''\n",
    "numeroDeIrmaos = 2\n",
    "print(\"Você tem \" + str(numeroDeIrmaos) + \" irmãos\")"
   ]
  },
  {
   "cell_type": "code",
   "execution_count": null,
   "id": "647daae2-1837-4419-9963-5c3cc508195b",
   "metadata": {},
   "outputs": [],
   "source": [
    "#Metodos embutidos em Strings\n",
    "\n",
    "'''\n",
    "De forma resumida, os metodos executam ações pelo objeto (variavel no caso), \n",
    "para isso precisamos chamar o metodo, logo depois de um ponto(.). no final, os metodos\n",
    "seguem essa formula > objeto.método(parâmetro)\n",
    "\n",
    "'''\n",
    "exemplo = \"Eu gosto muito de goiabada com queijo\"\n",
    "\n",
    "#para colocar todos os caracteres em maiusculo usamos o .upper()\n",
    "print(exemplo.upper())\n",
    "\n",
    "#Para colocar todos os caracteres em minusculo usamos o .lower()\n",
    "print(exemplo.lower())"
   ]
  },
  {
   "cell_type": "code",
   "execution_count": 15,
   "id": "68bb96af-64e4-4a0d-8541-a7138310e62d",
   "metadata": {},
   "outputs": [
    {
     "name": "stdin",
     "output_type": "stream",
     "text": [
      "Qual o seu nome?  Mateus\n"
     ]
    },
    {
     "name": "stdout",
     "output_type": "stream",
     "text": [
      "Olá Mateus!\n"
     ]
    }
   ],
   "source": [
    "#Entrada de dados\n",
    "\n",
    "'''\n",
    "Para fazer o usuario colocar os dados para alguma aplicação,\n",
    "podemos utilizar a função Input. \n",
    "Essa função escreve uma string passada como parametro e em seguida,\n",
    "ativa o modo de digitação.\n",
    "'''\n",
    "\n",
    "#Exemplo:\n",
    "\n",
    "nome = input(\"Qual o seu nome? \")\n",
    "print(\"Olá \"+ nome + \"!\")\n",
    "\n",
    "#A estrutura base ficaria dessa forma então\n",
    "# Variavel = input(parametro string)"
   ]
  },
  {
   "cell_type": "code",
   "execution_count": null,
   "id": "de475d84-90a0-458e-bd88-1a9aec273f92",
   "metadata": {},
   "outputs": [],
   "source": []
  }
 ],
 "metadata": {
  "kernelspec": {
   "display_name": "Python 3 (ipykernel)",
   "language": "python",
   "name": "python3"
  },
  "language_info": {
   "codemirror_mode": {
    "name": "ipython",
    "version": 3
   },
   "file_extension": ".py",
   "mimetype": "text/x-python",
   "name": "python",
   "nbconvert_exporter": "python",
   "pygments_lexer": "ipython3",
   "version": "3.11.7"
  }
 },
 "nbformat": 4,
 "nbformat_minor": 5
}
