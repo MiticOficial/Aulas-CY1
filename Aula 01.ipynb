{
 "cells": [
  {
   "cell_type": "code",
   "execution_count": null,
   "id": "8443df1c-e34f-4d9d-ac6b-1916b8a084e4",
   "metadata": {},
   "outputs": [],
   "source": [
    "#Atalhos Jupyter:\n",
    "\n",
    "'''\n",
    "- Shift+Enter: Executa a célula selecionada ou seleciona a de baixo\n",
    "- Alt+Enter: Executa a célula selecionada e adiciona uma abaixo\n",
    "- D (Duas vezes): Elimina a linha(Célula) selecionada\n",
    "- Tab: Autocompleta o código\n",
    "'''\n",
    "#-----------------------------------------------------------------------\n",
    "#Formas de comentar:\n",
    "\n",
    "# Linha unica.\n",
    "'''\n",
    "Comentario com varias linhas.\n",
    "'''\n",
    "#-----------------------------------------------------------------------\n",
    "\n",
    "#Tipos de números:\n",
    "\n",
    "type(1.3)\n",
    "type(1)\n",
    "\n",
    "'''\n",
    "Float\n",
    "int\n",
    "'''"
   ]
  },
  {
   "cell_type": "code",
   "execution_count": null,
   "id": "e29a4917-b3c0-425f-bd24-90fea32c0453",
   "metadata": {},
   "outputs": [],
   "source": [
    "#Aritmética básica:\n",
    "\n",
    "'''\n",
    "+: adição\n",
    "\n",
    "-: subtração\n",
    "\n",
    "/: divisão\n",
    "\n",
    "*: multiplicação\n",
    "\n",
    "**: potências\n",
    "\n",
    "'''\n",
    "\n",
    "#A ordem das operações funciona da mesma forma da vida real.\n",
    "\n",
    "#Ordem das operações matemáticas:\n",
    "'''\n",
    "ordem PEMDAS:\n",
    "\n",
    "1 - Parênteses\n",
    "2 - Expoentes\n",
    "3 - Multiplicação e divisão\n",
    "4 - Adição e subtração\n",
    "\n",
    "'''\n"
   ]
  },
  {
   "cell_type": "code",
   "execution_count": null,
   "id": "f07bf3c6-6046-418c-a2ab-e3ea3f4acbf0",
   "metadata": {},
   "outputs": [],
   "source": [
    "#Atribuição de variáveis:\n",
    "\n",
    "'''\n",
    "Para criar uma variavel, damos um rótulo pra ela(um nome), \n",
    "damos o sinal de igual (=) e depois damos um valor para ela.\n",
    "'''\n",
    "\n",
    "numero = 10\n",
    "\n",
    "#Essa variavel pode ser usada em qualquer parte do programa.\n",
    "\n",
    "#Regras para criação de variaveis\n",
    "\n",
    "'''\n",
    "1- Os nomes não podem começar com um número;\n",
    "2- Não pode haver espaços no nome. Use o underline (“_”) em vez da barra de espaço;\n",
    "3- Não é possível usar nenhum destes símbolos: '\", <> /? | \\ ()! @ # $% ^ & * ~ - +;\n",
    "4- Os nomes sempre devem iniciar com a letra minúscula.\n",
    "\n",
    "'''"
   ]
  },
  {
   "cell_type": "code",
   "execution_count": null,
   "id": "0ea25e51-b63a-4538-bc0d-6b809905dbe4",
   "metadata": {},
   "outputs": [],
   "source": [
    "#Resumo da aula de hoje/conteudos aprendidos:\n",
    "'''\n",
    "- Alguns dos conceitos básicos sobre programação;\n",
    "- Como utilizar o Jupyter Notebook;\n",
    "- Como manipular números em Python;\n",
    "- Como fazer operações aritméticas usando a programação como uma calculadora básica;\n",
    "- Como criar variáveis para organizar seus códigos.\n",
    "\n",
    "'''"
   ]
  }
 ],
 "metadata": {
  "kernelspec": {
   "display_name": "Python 3 (ipykernel)",
   "language": "python",
   "name": "python3"
  },
  "language_info": {
   "codemirror_mode": {
    "name": "ipython",
    "version": 3
   },
   "file_extension": ".py",
   "mimetype": "text/x-python",
   "name": "python",
   "nbconvert_exporter": "python",
   "pygments_lexer": "ipython3",
   "version": "3.11.7"
  }
 },
 "nbformat": 4,
 "nbformat_minor": 5
}
