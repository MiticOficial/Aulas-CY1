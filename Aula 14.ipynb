{
 "cells": [
  {
   "cell_type": "code",
   "execution_count": 8,
   "id": "e5fb62dc-756a-47c0-8537-8f1034cf986a",
   "metadata": {},
   "outputs": [
    {
     "name": "stdout",
     "output_type": "stream",
     "text": [
      "José Dias Saraiva\n",
      "Henrique Silva Madureira\n"
     ]
    },
    {
     "data": {
      "text/plain": [
       "'\\nVocê pode ver que nomes completos gerados nesta imagem estão corretos. \\nPorém, suponha que, no futuro, você precise modificar essa função, \\npara que ela seja capaz de lidar também com os nomes do meio (uma palavra a mais no sobrenome).\\n\\nSe você modificar a função para aceitar um nome do meio ou outras mudanças, \\nvocê precisa garantir que ela ainda funcione para os casos anteriores. \\nFazer isso manualmente toda vez é cansativo e propenso a erros.\\n'"
      ]
     },
     "execution_count": 8,
     "metadata": {},
     "output_type": "execute_result"
    }
   ],
   "source": [
    "#Aula 14 - Fazendo testes\n",
    "\n",
    "'''\n",
    "Na aula de hoje, você vai criar seus próprios testes\n",
    "para verificar se seu código está correto! \n",
    "Além disso, vai aprender a contornar erros quando eles ocorrerem.\n",
    "'''\n",
    "\n",
    "\n",
    "#Testando funções\n",
    "\n",
    "'''\n",
    "Para começar os testes precisamos de um código para ser testado, no caso usaremos essa situação abaixo:\n",
    "\n",
    "Problema:\n",
    "\n",
    "Imagine que pais estão tentando definir o nome do primeiro filho. \n",
    "Então, pediram para você criar um programa que, \n",
    "dado um nome que eles gostam e o sobrenome dos pais, \n",
    "o programa retorna o nome completo da criança com os sobrenomes em ordem de tamanho.\n",
    "'''\n",
    "\n",
    "def sobrenomeOrdem(nome,sobrenome1,sobrenome2):\n",
    "    if (len(sobrenome2)>len(sobrenome1)):\n",
    "        return nome + ' ' + sobrenome1 + ' ' + sobrenome2\n",
    "    else:\n",
    "        return nome + ' ' + sobrenome2 + ' ' + sobrenome1\n",
    "\n",
    "print(sobrenomeOrdem(\"José\",\"Dias\",\"Saraiva\"))\n",
    "print(sobrenomeOrdem(\"Henrique\",\"Madureira\",\"Silva\"))\n",
    "\n",
    "\n",
    "'''\n",
    "Você pode ver que nomes completos gerados nesta imagem estão corretos. \n",
    "Porém, suponha que, no futuro, você precise modificar essa função, \n",
    "para que ela seja capaz de lidar também com os nomes do meio (uma palavra a mais no sobrenome).\n",
    "\n",
    "Se você modificar a função para aceitar um nome do meio ou outras mudanças, \n",
    "você precisa garantir que ela ainda funcione para os casos anteriores. \n",
    "Fazer isso manualmente toda vez é cansativo e propenso a erros.\n",
    "'''\n",
    "\n"
   ]
  },
  {
   "cell_type": "code",
   "execution_count": 11,
   "id": "aeaea2fd-c958-4940-bd4c-af04349ff593",
   "metadata": {},
   "outputs": [
    {
     "name": "stderr",
     "output_type": "stream",
     "text": [
      "..\n",
      "----------------------------------------------------------------------\n",
      "Ran 2 tests in 0.001s\n",
      "\n",
      "OK\n"
     ]
    },
    {
     "data": {
      "text/plain": [
       "<unittest.main.TestProgram at 0x2e083eb27d0>"
      ]
     },
     "execution_count": 11,
     "metadata": {},
     "output_type": "execute_result"
    }
   ],
   "source": [
    "#Testes de unidade e casos de teste\n",
    "\n",
    "'''\n",
    "O módulo unittest do Python permite testar automaticamente\n",
    "se uma função está funcionando corretamente.  \n",
    "\n",
    "Um teste de unidade verifica um comportamento específico da função, \n",
    "simulando diferentes entradas e cobrindo tanto os usos corretos quanto os incorretos.  \n",
    "\n",
    "Para criar um teste:  \n",
    "1. Importe `unittest` e a função que deseja testar.  \n",
    "2. Crie uma classe que herda de `unittest.TestCase`.  \n",
    "3. Escreva métodos de teste usando `self.assertEqual(resultado, esperado)`,\n",
    "que compara a saída da função com o valor esperado.  \n",
    "\n",
    "É uma boa prática nomear a classe de teste com \"Test\" no início, mas isso não é obrigatório. 🚀\n",
    "'''\n",
    "\n",
    "import unittest \n",
    "\n",
    "class NomeTest(unittest.TestCase):\n",
    "    def test_sobrenomeOrdem(self):\n",
    "        nomeCompleto = sobrenomeOrdem(\"José\",\"Madureira\",\"Santos\")\n",
    "        self.assertEqual(nomeCompleto, \"José Santos Madureira\")\n",
    "\n",
    "    def test_sobrenomeOrdem2(self):\n",
    "        nomeCompleto2 = sobrenomeOrdem(\"Mateus\",\"Silva\",\"Henrique\")\n",
    "        self.assertEqual(nomeCompleto2, \"Mateus Silva Henrique\")\n",
    "\n",
    "unittest.main(argv=[''],exit=False) \n",
    "# esse comando dispara o método principal do unittest, informando que não é necessário utilizar mais argumentos e que o programa não deve fechar ao terminar os testes.\n",
    "\n"
   ]
  },
  {
   "cell_type": "code",
   "execution_count": null,
   "id": "bce36e67-b193-4e48-8598-36c639201bac",
   "metadata": {},
   "outputs": [],
   "source": [
    "# Se a Função passar nos testes\n",
    "\n",
    "'''\n",
    "Se a função passar pelos testes a saida será semelhante a vista acima, na primeira linha\n",
    "temos um ponto (.) que informa que um unico teste foi rodado e passou, se eu rodar de novo\n",
    "você verá 2 pontos indicando que dois testes foram rodados o test_sobrenomeOrdem e o\n",
    "test_sobrenomeOrdem2.\n",
    "\n",
    "Além disso vemos a quantidade de testes feitos e em quanto tempo. E por ultimo vemos o OK\n",
    "que informa que todos os teste passaram da forma esperada!\n",
    "'''"
   ]
  },
  {
   "cell_type": "code",
   "execution_count": 13,
   "id": "6b9cfb96-6530-4507-b84b-46a514921483",
   "metadata": {},
   "outputs": [
    {
     "name": "stderr",
     "output_type": "stream",
     "text": [
      "...F\n",
      "======================================================================\n",
      "FAIL: test_sobrenomeOrdem2 (__main__.NomeTest2.test_sobrenomeOrdem2)\n",
      "----------------------------------------------------------------------\n",
      "Traceback (most recent call last):\n",
      "  File \"C:\\Users\\ControlPlay\\AppData\\Local\\Temp\\ipykernel_8652\\1263871987.py\", line 17, in test_sobrenomeOrdem2\n",
      "    self.assertEqual(nomeCompleto4, \"Mateus Henrique Henrique\")\n",
      "AssertionError: 'Mateus Henrique Trabalho' != 'Mateus Henrique Henrique'\n",
      "- Mateus Henrique Trabalho\n",
      "+ Mateus Henrique Henrique\n",
      "\n",
      "\n",
      "----------------------------------------------------------------------\n",
      "Ran 4 tests in 0.003s\n",
      "\n",
      "FAILED (failures=1)\n"
     ]
    },
    {
     "data": {
      "text/plain": [
       "<unittest.main.TestProgram at 0x2e083e9bb90>"
      ]
     },
     "execution_count": 13,
     "metadata": {},
     "output_type": "execute_result"
    }
   ],
   "source": [
    "#Se a função não passar nos testes\n",
    "\n",
    "'''\n",
    "Quando existe um erro na função, ele vai informar qual o erro e onde ele está localizado\n",
    "na execução\n",
    "\n",
    "ex:\n",
    "'''\n",
    "\n",
    "class NomeTest2(unittest.TestCase):\n",
    "    def test_sobrenomeOrdem(self):\n",
    "        nomeCompleto3 = sobrenomeOrdem(\"José\",\"Madureira\",\"Santos\")\n",
    "        self.assertEqual(nomeCompleto3, \"José Santos Madureira\")\n",
    "\n",
    "    def test_sobrenomeOrdem2(self):\n",
    "        nomeCompleto4 = sobrenomeOrdem(\"Mateus\",\"Trabalho\",\"Henrique\")\n",
    "        self.assertEqual(nomeCompleto4, \"Mateus Henrique Henrique\")\n",
    "\n",
    "unittest.main(argv=[''],exit=False) "
   ]
  },
  {
   "cell_type": "code",
   "execution_count": null,
   "id": "96cc0b4d-8f1e-45fd-851d-1277d5dcf672",
   "metadata": {},
   "outputs": [],
   "source": [
    "#Outros métodos de unittest \n",
    "\n",
    "'''\n",
    "Além do métedo assertEqual(), a classe unittest.TestCase tem outros métodos que podem servir\n",
    "para testes:\n",
    "\n",
    "- assertEqual(a,b) - verifica se a é igual a b\n",
    "\n",
    "- assertNotEqual(a,b) - verifica se a não é igual a b\n",
    "\n",
    "- assertTrue(x) - verifica se x é verdadeiro\n",
    "\n",
    "- assertFalse(x) - verifica se x é falso\n",
    "\n",
    "- assertIn(item, lista) - verifica se um item está em uma lista\n",
    "\n",
    "- assertNotIn(item, lista) - verifica se um item NÂO está em uma lista\n",
    "'''"
   ]
  },
  {
   "cell_type": "code",
   "execution_count": 15,
   "id": "62380ba8-b317-4e9c-8831-312f9f5626d0",
   "metadata": {},
   "outputs": [],
   "source": [
    "#Testando uma classe\n",
    "\n",
    "'''\n",
    "Para testarmos uma classe primeiro precisaremos de uma, \n",
    "então que tal criar uma que manipula perguntas e questões de provas?\n",
    "'''\n",
    "\n",
    "class Prova ():\n",
    "    \n",
    "    def __init__(self): #Iniciando minha classe prova com os atributos\n",
    "        self.questoes = []\n",
    "        self.respostas = []\n",
    "        \n",
    "    def mostra_questoes(self): #método para mostrar as questões da lista\n",
    "        print(self.questoes)\n",
    "        \n",
    "    def mostra_resposta(self): #método para mostrar as repostas da lista\n",
    "        print(self.respostas)\n",
    "        \n",
    "    def armazena_questao_resposta(self,novaQuestao,novaResposta): #método para digitar as questões e respostas\n",
    "        self.questoes.append(novaQuestao)\n",
    "        self.respostas.append(novaResposta)"
   ]
  },
  {
   "cell_type": "code",
   "execution_count": 16,
   "id": "7e055701-440f-4d09-9323-c11d3c4ae281",
   "metadata": {},
   "outputs": [],
   "source": [
    "prova1 = Prova()\n",
    "prova1.armazena_questao_resposta(\"Qual o nome completo do Ctrl+Play?\",\"Ctrl+Play escola de programação e robotica\")"
   ]
  },
  {
   "cell_type": "code",
   "execution_count": 18,
   "id": "82456bf4-db96-4694-8015-ac87734966e1",
   "metadata": {},
   "outputs": [
    {
     "name": "stdout",
     "output_type": "stream",
     "text": [
      "['Qual o nome completo do Ctrl+Play?']\n",
      "['Ctrl+Play escola de programação e robotica']\n"
     ]
    }
   ],
   "source": [
    "prova1.mostra_questoes()\n",
    "prova1.mostra_resposta()"
   ]
  },
  {
   "cell_type": "code",
   "execution_count": 30,
   "id": "64b88d3e-b5dd-4c60-9b0a-9d28095cc066",
   "metadata": {},
   "outputs": [
    {
     "name": "stderr",
     "output_type": "stream",
     "text": [
      "...F.F\n",
      "======================================================================\n",
      "FAIL: test_sobrenomeOrdem2 (__main__.NomeTest2.test_sobrenomeOrdem2)\n",
      "----------------------------------------------------------------------\n",
      "Traceback (most recent call last):\n",
      "  File \"C:\\Users\\ControlPlay\\AppData\\Local\\Temp\\ipykernel_8412\\579274005.py\", line 17, in test_sobrenomeOrdem2\n",
      "    self.assertEqual(nomeCompleto4, \"Mateus Henrique Henrique\")\n",
      "AssertionError: 'Mateus Silva Henrique' != 'Mateus Henrique Henrique'\n",
      "- Mateus Silva Henrique\n",
      "?        ^ ^^^\n",
      "+ Mateus Henrique Henrique\n",
      "?        ^^^^ ^^^\n",
      "\n",
      "\n",
      "======================================================================\n",
      "FAIL: test_armazenaResposta (__main__.ProvaTest.test_armazenaResposta)\n",
      "----------------------------------------------------------------------\n",
      "Traceback (most recent call last):\n",
      "  File \"C:\\Users\\ControlPlay\\AppData\\Local\\Temp\\ipykernel_8412\\2182891508.py\", line 13, in test_armazenaResposta\n",
      "    self.assertIn(\"Ctrl+Play escola de programação e robotica\", p.respostas)\n",
      "AssertionError: 'Ctrl+Play escola de programação e robotica' not found in ['Ctrl+Play escola, de programação e robotica']\n",
      "\n",
      "----------------------------------------------------------------------\n",
      "Ran 6 tests in 0.003s\n",
      "\n",
      "FAILED (failures=2)\n"
     ]
    },
    {
     "data": {
      "text/plain": [
       "<unittest.main.TestProgram at 0x13cbc55be10>"
      ]
     },
     "execution_count": 30,
     "metadata": {},
     "output_type": "execute_result"
    }
   ],
   "source": [
    "class ProvaTest(unittest.TestCase):\n",
    "\n",
    "    def test_armazenaQuestao(self):\n",
    "        questao = \"Qual o nome completo do Ctrl+Play?\"\n",
    "        p = Prova()\n",
    "        p.armazena_questao_resposta(questao,\"\")\n",
    "        self.assertIn(\"Qual o nome completo do Ctrl+Play?\", p.questoes)\n",
    "\n",
    "    def test_armazenaResposta(self):\n",
    "        resposta = \"Ctrl+Play escola, de programação e robotica\"\n",
    "        p = Prova()\n",
    "        p.armazena_questao_resposta(\"\",resposta)\n",
    "        self.assertIn(\"Ctrl+Play escola de programação e robotica\", p.respostas)\n",
    "\n",
    "unittest.main(argv=[''], exit=False)\n",
    "\n",
    "'''\n",
    "Observe que, nos dois testes, foram criadas uma “resposta” e uma “questão”. \n",
    "Se existissem mil testes, você teria que criar várias vezes essas variáveis! \n",
    "Mas não se preocupe, o Python tem um método que pode lhe ajudar.\n",
    "'''"
   ]
  },
  {
   "cell_type": "code",
   "execution_count": 33,
   "id": "f2e87547-8d98-472a-bbc9-d7357363b055",
   "metadata": {},
   "outputs": [
    {
     "name": "stderr",
     "output_type": "stream",
     "text": [
      "...F.F\n",
      "======================================================================\n",
      "FAIL: test_sobrenomeOrdem2 (__main__.NomeTest2.test_sobrenomeOrdem2)\n",
      "----------------------------------------------------------------------\n",
      "Traceback (most recent call last):\n",
      "  File \"C:\\Users\\ControlPlay\\AppData\\Local\\Temp\\ipykernel_8412\\579274005.py\", line 17, in test_sobrenomeOrdem2\n",
      "    self.assertEqual(nomeCompleto4, \"Mateus Henrique Henrique\")\n",
      "AssertionError: 'Mateus Silva Henrique' != 'Mateus Henrique Henrique'\n",
      "- Mateus Silva Henrique\n",
      "?        ^ ^^^\n",
      "+ Mateus Henrique Henrique\n",
      "?        ^^^^ ^^^\n",
      "\n",
      "\n",
      "======================================================================\n",
      "FAIL: test_armazenaResposta (__main__.ProvaTest.test_armazenaResposta)\n",
      "----------------------------------------------------------------------\n",
      "Traceback (most recent call last):\n",
      "  File \"C:\\Users\\ControlPlay\\AppData\\Local\\Temp\\ipykernel_8412\\906775807.py\", line 15, in test_armazenaResposta\n",
      "    self.assertIn(\"Ctrl+Play escola de programação e robotica\", self.p.respostas)\n",
      "AssertionError: 'Ctrl+Play escola de programação e robotica' not found in ['Ctrl+Play escola, de programação e robotica']\n",
      "\n",
      "----------------------------------------------------------------------\n",
      "Ran 6 tests in 0.004s\n",
      "\n",
      "FAILED (failures=2)\n"
     ]
    },
    {
     "data": {
      "text/plain": [
       "'\\nAo criar um método setUp() dentro de uma classe de teste, \\nvocê está dizendo que o programa deve executar esse método todas as vezes que for realizar um teste. \\nAssim, você pode definir esse método com todas as informações necessárias para executar seus testes (por exemplo, \\nvalores de variáveis, como “resposta” e “questão”).\\n'"
      ]
     },
     "execution_count": 33,
     "metadata": {},
     "output_type": "execute_result"
    }
   ],
   "source": [
    "#Método setUp()\n",
    "\n",
    "class ProvaTest(unittest.TestCase):\n",
    "\n",
    "    def setUp(self):\n",
    "        self.questao = \"Qual o nome completo do Ctrl+Play?\"\n",
    "        self.resposta = \"Ctrl+Play escola, de programação e robotica\"\n",
    "        self.p = Prova()\n",
    "        self.p.armazena_questao_resposta(self.questao,self.resposta)\n",
    "        \n",
    "    def test_armazenaQuestao(self):\n",
    "        self.assertIn(\"Qual o nome completo do Ctrl+Play?\", self.p.questoes)\n",
    "\n",
    "    def test_armazenaResposta(self):\n",
    "        self.assertIn(\"Ctrl+Play escola de programação e robotica\", self.p.respostas)\n",
    "\n",
    "unittest.main(argv=[''], exit=False)\n",
    "\n",
    "'''\n",
    "Ao criar um método setUp() dentro de uma classe de teste, \n",
    "você está dizendo que o programa deve executar esse método todas as vezes que for realizar um teste. \n",
    "Assim, você pode definir esse método com todas as informações necessárias para executar seus testes (por exemplo, \n",
    "valores de variáveis, como “resposta” e “questão”).\n",
    "'''"
   ]
  },
  {
   "cell_type": "code",
   "execution_count": null,
   "id": "525e6fb9-20d7-4733-924a-7a623c411cdb",
   "metadata": {},
   "outputs": [],
   "source": []
  }
 ],
 "metadata": {
  "kernelspec": {
   "display_name": "Python 3 (ipykernel)",
   "language": "python",
   "name": "python3"
  },
  "language_info": {
   "codemirror_mode": {
    "name": "ipython",
    "version": 3
   },
   "file_extension": ".py",
   "mimetype": "text/x-python",
   "name": "python",
   "nbconvert_exporter": "python",
   "pygments_lexer": "ipython3",
   "version": "3.11.7"
  }
 },
 "nbformat": 4,
 "nbformat_minor": 5
}
