{
 "cells": [
  {
   "cell_type": "code",
   "execution_count": 3,
   "id": "2aea007f-dde2-4b80-8cc6-c523a6bbeb44",
   "metadata": {},
   "outputs": [
    {
     "name": "stdout",
     "output_type": "stream",
     "text": [
      "Mateus\n",
      "['Mateus', 'Felipe', 'Rodrigo', 'Julio']\n"
     ]
    }
   ],
   "source": [
    "# Listas\n",
    "'''\n",
    "Imagine que você gostaria de colocar varios dados em um só lugar para depois utilizar\n",
    "se você fizesse isso com variaveis, teria que criar varias variaveis (nome1,nome2...)\n",
    "e isso faria com que seu programa ficasse muito lento(dependendo da complexidade) alem\n",
    "de ser pouco pratico.\n",
    "\n",
    "Para isso, temos o conceito de lista, com elas podemos colocar diversos tipos de dados\n",
    "em um só local, agilizando o processo.\n",
    "\n",
    "Para criar listas, é bem parecido com criar variaveis, fazemos a seguinte \"Formula\"\n",
    "objeto = [valores1, valores2, valores3]\n",
    "'''\n",
    "\n",
    "#Exemplo pratico de criação de listas\n",
    "convidados = [\"Mateus\",\"Felipe\",\"Rodrigo\",\"Rocati\"]\n",
    "\n",
    "#indices no python\n",
    "'''\n",
    "Para acessarmos um determinado item de uma lista, utilizamos o indice desse item\n",
    "basicamente dessa forma:\n",
    "\n",
    "Mateus/felipe/Rodrigo/Rocati\n",
    "  0      1      2       3\n",
    "\n",
    "O numero que escolhermos terá seu valor exibido.\n",
    "------------------------------------------------\n",
    "A mesma coisa pode ser feita no ordem inversa:\n",
    "\n",
    "Mateus/felipe/Rodrigo/Rocati\n",
    "-4      -3      -2      -1\n",
    "'''\n",
    "#Exibindo os itens dessa lista\n",
    "print(convidados[0])\n"
   ]
  },
  {
   "cell_type": "code",
   "execution_count": null,
   "id": "7bcffa26-5df7-4e16-bcb0-265091ce85cd",
   "metadata": {},
   "outputs": [],
   "source": [
    "#Alterando itens de uma lista\n",
    "\n",
    "'''\n",
    "Diferente de variaveis String, os valores de uma lista podem ser alterados depois\n",
    "da sua criação. Para isso, selecionamos a lista em questão e a posição do item que\n",
    "queremos alterar, logo após passamos o novo valor.\n",
    "'''\n",
    "#Exemplo:\n",
    "convidados = [\"Mateus\",\"Felipe\",\"Rodrigo\",\"Rocati\"]\n",
    "convidados[3] = \"Julio\"\n",
    "print(convidados)"
   ]
  },
  {
   "cell_type": "code",
   "execution_count": 15,
   "id": "9df39409-56eb-40ef-be2e-3327be7a2ccf",
   "metadata": {},
   "outputs": [
    {
     "name": "stdout",
     "output_type": "stream",
     "text": [
      "['Mateus', 0, 'Teste', True, 13]\n",
      "['Vitor', 'Mateus', 0, 'Teste', True, 13]\n"
     ]
    }
   ],
   "source": [
    "#Acrescentando itens em uma lista:\n",
    "\n",
    "'''\n",
    "Após a criação de uma lista, podemos adicionar quantos valores quisermos.\n",
    "'''\n",
    "\n",
    "#Concatenando (adicionado item):\n",
    "\n",
    "'''\n",
    "Para adicionarmos novos valores na nossa lista após a criação,\n",
    "utilizamos o método .append() apos o nome do objeto. Ao fazer isso, o item adicionado\n",
    "vai para o final da lista.\n",
    "\n",
    "Podemos seguir a seguinte \"formula\": Objeto.append(valor) \n",
    "\n",
    "*Esse parametro pode ser uma STRING, NUMERO ou BOOLEAN*\n",
    "'''\n",
    "#Exemplo:\n",
    "\n",
    "teste = [\"Mateus\", 0, \"Teste\", True]\n",
    "teste.append(13)\n",
    "print(teste)\n",
    "\n",
    "#Inserindo itens em uma lista:\n",
    "\n",
    "'''\n",
    "Vimos que a metodo .append() adiciona itens ao FIM da lista, \n",
    "Mas se nós quisermos colocar um valor em um local especifico da lista\n",
    "e sem substituir um outro valor?\n",
    "Nesse caso usamos o metodo .insert().\n",
    "\n",
    "Podemos seguir a seguinte \"Formula\": objeto.insert(posição,valor)\n",
    "'''\n",
    "#Exemplo:\n",
    "\n",
    "teste.insert(0, \"Vitor\")\n",
    "print(teste)"
   ]
  },
  {
   "cell_type": "code",
   "execution_count": 36,
   "id": "80a8e698-7a84-4d8f-8dce-c066b2ea9949",
   "metadata": {},
   "outputs": [
    {
     "name": "stdout",
     "output_type": "stream",
     "text": [
      "['Mateus', 'Felipe', 'Henrique', 'Zé roberto']\n",
      "['Mateus', 'Felipe', 'Henrique']\n",
      "Henrique\n",
      "['Felipe']\n"
     ]
    }
   ],
   "source": [
    "#Removendo itens de uma listas:\n",
    "\n",
    "'''\n",
    "Além de adicionar itens em uma lista, nós sempre podemos remover itens indesejados.\n",
    "Para isso podemos usar 3 tipos de metodos.\n",
    "'''\n",
    "\n",
    "#Removendo itens: metodo .del:\n",
    "\n",
    "'''\n",
    "O metodo .del acessa uma posição especifica da lista e apaga o valor daquela posição\n",
    "\n",
    "Podemos seguir a seguinte \"Formula\": del objeto[posição] \n",
    "*Note que não precisamos de \".\" \n",
    "'''\n",
    "\n",
    "#Exemplo:\n",
    "\n",
    "teste02 = [\"Mateus\", \"Felipe\",\"Henrique\",\"Zé roberto\",\"Flamengo eliminadokk\"]\n",
    "del teste02[-1]\n",
    "print(teste02)\n",
    "\n",
    "#Removendo itens: metodo .pop()\n",
    "\n",
    "'''\n",
    "Podemos também remover os valores um por um, como se estivessimos removendo pratos de uma pilha\n",
    "então seria removido primeiro o ultimo prato, depois o penultimo e assim por diante, até a lista\n",
    "estar vazia.\n",
    "\n",
    "Podemos seguir a seguinte \"Formula\": objeto.pop()\n",
    "'''\n",
    "#Exemplo:\n",
    "teste02.pop()\n",
    "print(teste02)\n",
    "\n",
    "'''\n",
    "Tambem podemos apagar um item especifico da lista usando o metodo .pop(),\n",
    "para isso precisamos colocar o indice do item entre os parenteses\n",
    "\n",
    "Ex: teste02.pop(0) - Isso apagaria o primeiro item da lista\n",
    "\n",
    "Esses itens excluidos podem ser armazenados em uma outra variavel para serem utilizados\n",
    "'''\n",
    "#Exemplo:\n",
    "nova_variavel = teste02.pop()\n",
    "print(nova_variavel)\n",
    "\n",
    "\n",
    "#Removendo itens: metodo .remove()\n",
    "\n",
    "'''\n",
    "Podemos também usar o .remove() para removermos valores que não sabemos a posição.\n",
    "Podemos seguir a seguinte \"Formula\": objeto.remove(valor)\n",
    "'''\n",
    "\n",
    "#Exemplo:\n",
    "\n",
    "teste02.remove(\"Mateus\")\n",
    "print(teste02)"
   ]
  },
  {
   "cell_type": "code",
   "execution_count": 44,
   "id": "21fa9fd0-3c86-44cc-9471-bb247fad9d8a",
   "metadata": {},
   "outputs": [
    {
     "name": "stdout",
     "output_type": "stream",
     "text": [
      "['Ana', 'Andreia', 'André', 'Luiz', 'Mateus', 'Roberto']\n",
      "['Roberto', 'Mateus', 'Luiz', 'André', 'Andreia', 'Ana']\n",
      "['Ana', 'Andreia', 'André', 'Luiz', 'Mateus', 'Roberto']\n",
      "['Ana', 'Andreia', 'André', 'Luiz', 'Mateus', 'Roberto']\n"
     ]
    }
   ],
   "source": [
    "#Organizando listas\n",
    "\n",
    "'''\n",
    "Existem algumas formas que podemos utilizar para organizar as nossas listas, isso pode\n",
    "uma lista organizada de uma forma especifica pode servir para uma serie de coisas.\n",
    "'''\n",
    "\n",
    "lista = ['Mateus',\"André\",\"Ana\",\"Andreia\",\"Luiz\",\"Roberto\"]\n",
    "\n",
    "#Organizando listas: Metodo .sort()\n",
    "\n",
    "'''\n",
    "O metodo .sort() tem duas formas organizar os valores, ou ordem alfabetica normal(A-Z)\n",
    "ou a ordem alfabetica inversa(Z-A), e no caso de numeros seria ordem crescente ou decrescente\n",
    "\n",
    "Podemos seguir a seguinte \"Formula\": objeto.sort() - Para ordem alfabetica normal\n",
    "                                     objeto.sort(reverse=True) - Para ordem alfabetica inversa\n",
    "'''\n",
    "\n",
    "#Exemplo (ordem alfabetica normal)\n",
    "\n",
    "lista.sort()\n",
    "print(lista)\n",
    "\n",
    "#Exemplo (ordem alfabetica inversa)\n",
    "\n",
    "lista.sort(reverse=True) #Perceba que é necessario informar o \"reverse=True\" para ativar a ordem inversa\n",
    "print(lista)\n",
    "\n",
    "#Organizando listas: .sorted()\n",
    "\n",
    "'''\n",
    "Podemos usar o .sorted() para exibir os valores de uma lista sem altera-los, apenas exibir.\n",
    "\n",
    "Podemos seguir a seguinte \"Formula\": print(sorted(valor))\n",
    "'''\n",
    "\n",
    "#Exemplo:\n",
    "print(sorted(lista))\n",
    "#Para utilizar o sort e o sorted com numeros, precisamos antes transforma-los em String com o metodo .str()\n",
    "\n",
    "\n",
    "#Organizando listas: metodo .reverse()\n",
    "\n",
    "'''\n",
    "O metodo .reverse() inverte a posição dos valores, o primeiro item acrescentado, vai ser o ultimo e assim por diante.\n",
    "Podemos seguir a seguinte \"Formula\": objeto.reverse()\n",
    "'''\n",
    "\n",
    "lista.reverse()\n",
    "print(lista)"
   ]
  },
  {
   "cell_type": "code",
   "execution_count": 64,
   "id": "106ccb2c-9b18-44ae-9152-f4100dad61a8",
   "metadata": {},
   "outputs": [
    {
     "name": "stdout",
     "output_type": "stream",
     "text": [
      "6\n",
      "[1, 2, 3, 4]\n",
      "1\n",
      "4\n",
      "['Ana', 'Andreia']\n",
      "['Ana', 'Andreia', 'André', 'Luiz', 'Mateus', 'Roberto']\n"
     ]
    }
   ],
   "source": [
    "#Funções e métodos uteis:\n",
    "\n",
    "'''\n",
    "Antes de passarmos por essas funções e metodos, \n",
    "precisamos primeiro entender mais sobre as mesmas.\n",
    "\n",
    "uma função é um bloco de codigo independente que pode ser chamado por seu nome(Ex: Print()),\n",
    "já um método é um bloco de código que pertence a um objeto(ex.objeto.append())\n",
    "'''\n",
    "\n",
    "#Exibindo o tamanho de uma lista\n",
    "print(len(lista))\n",
    "\n",
    "#Criando uma lista de numeros\n",
    "numeros = list(range(1,5))\n",
    "print(numeros)\n",
    "\n",
    "#Menor valor\n",
    "print(min(numeros))\n",
    "\n",
    "#Maior valor\n",
    "print(max(numeros))\n",
    "\n",
    "#fatia de uma lista\n",
    "print(lista[0:2])\n",
    "\n",
    "#Copiando uma lista\n",
    "lista2 = lista[:]\n",
    "print(lista2)"
   ]
  },
  {
   "cell_type": "code",
   "execution_count": 88,
   "id": "413e261a-758f-4231-89ed-7c963db4aeac",
   "metadata": {},
   "outputs": [
    {
     "name": "stdout",
     "output_type": "stream",
     "text": [
      "Palmeiras\n",
      "Pyetro\n"
     ]
    },
    {
     "data": {
      "text/plain": [
       "'\\nPor hoje é só, até a proxima aula!\\n'"
      ]
     },
     "execution_count": 88,
     "metadata": {},
     "output_type": "execute_result"
    }
   ],
   "source": [
    "#Matrizes\n",
    "\n",
    "'''\n",
    "Chegamos no ultimo tópico da nossa aula, Matrizes.\n",
    "Matrizes se assemelham muito com planilas ou jogos como batalha naval.\n",
    "para cria-las precisamos informar 2 listas.\n",
    "'''\n",
    "\n",
    "#exemplo:\n",
    "\n",
    "timeXpessoas = [[\"Palmeiras\",\"Corinthians\",\"Flamengo\",\"Santos\"],[\"Mateus\",\"Enzo\",\"Pyetro\",\"Bruna\"]]\n",
    "#Note que eu abri um colchete geral e outro para cada lista(time e pessoas)\n",
    "\n",
    "'''\n",
    "Para acessar os valores de uma matriz precisamos informar em qual lista ele está armazenado(time ou pessoa)\n",
    "e logo após informar o indice do valor que queremos acessar!\n",
    "'''\n",
    "\n",
    "print(timeXpessoas[0][0])\n",
    "#Ou seja, tabela 0(time) e item 0(Palmeiras)\n",
    "print(timeXpessoas[1][2])\n",
    "#Ou seja, tabela 1(pessoas) e item 2(Pyetro)\n",
    "\n",
    "'''\n",
    "Por hoje é só, até a proxima aula!\n",
    "'''"
   ]
  },
  {
   "cell_type": "code",
   "execution_count": null,
   "id": "aa934834-b5e6-42cd-9781-9c6c855317c5",
   "metadata": {},
   "outputs": [],
   "source": []
  },
  {
   "cell_type": "code",
   "execution_count": null,
   "id": "8d8468a3-2683-4716-935e-c3d95849e3b0",
   "metadata": {},
   "outputs": [],
   "source": []
  }
 ],
 "metadata": {
  "kernelspec": {
   "display_name": "Python 3 (ipykernel)",
   "language": "python",
   "name": "python3"
  },
  "language_info": {
   "codemirror_mode": {
    "name": "ipython",
    "version": 3
   },
   "file_extension": ".py",
   "mimetype": "text/x-python",
   "name": "python",
   "nbconvert_exporter": "python",
   "pygments_lexer": "ipython3",
   "version": "3.11.7"
  }
 },
 "nbformat": 4,
 "nbformat_minor": 5
}
