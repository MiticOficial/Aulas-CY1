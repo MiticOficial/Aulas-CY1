{
 "cells": [
  {
   "cell_type": "code",
   "execution_count": 1,
   "id": "2ae46c1b-04a7-45bc-a1d8-3594d7099f4c",
   "metadata": {
    "collapsed": true,
    "jupyter": {
     "outputs_hidden": true
    },
    "scrolled": true
   },
   "outputs": [
    {
     "name": "stdout",
     "output_type": "stream",
     "text": [
      "Oi\n",
      "Oi, tudo bem?\n",
      "Ctrl+Play - Escola de programação e robótica\n"
     ]
    }
   ],
   "source": [
    "# Strings\n",
    "\n",
    "'''\n",
    "Strings são tipos de objetos usados para registrar textos. Strings são tratados\n",
    "pelo computador como uma sequencia de caracteres. \n",
    "\n",
    "--------\n",
    "|\"Mateus\"|\n",
    "|M,a,t,e,u,s|\n",
    "--------\n",
    "'''\n",
    "\n",
    "String1 = \"Oi\"\n",
    "String2 = \"Oi, tudo bem?\"\n",
    "#Você também pode usar aspas simples ('')\n",
    "String3 = 'Ctrl+Play - Escola de programação e robótica'\n",
    "\n",
    "print(String1)\n",
    "print(String2)\n",
    "print(String3)"
   ]
  },
  {
   "cell_type": "code",
   "execution_count": 11,
   "id": "2175eb36-11c6-43c9-a8cf-bc6d714b8fbc",
   "metadata": {},
   "outputs": [
    {
     "name": "stdout",
     "output_type": "stream",
     "text": [
      "Testando\n",
      "Testando\n",
      "saltando \n",
      "\n",
      " linhas \n",
      "\n",
      "Ola \t Ctrl+Play\n"
     ]
    }
   ],
   "source": [
    "#Imprimindo Strings:\n",
    "\n",
    "'''\n",
    "Existem 3 formas de imprimir uma string, \n",
    "porem utilizar a função print() é a mais adequada:\n",
    "'''\n",
    "\n",
    "String4 = \"Testando\"\n",
    "print(String4)\n",
    "print(\"Testando\")\n",
    "\"Testando\" #Essa ultima forma não é adequada, porem podemos utilizar ela aqui no Jupyter.\n",
    "\n",
    "#Saltando linhas e acrescentando espaços\n",
    "\n",
    "print(\"saltando \\n\\n linhas \\n\")\n",
    "\n",
    "print(\"Ola \\t Ctrl+Play\")"
   ]
  },
  {
   "cell_type": "code",
   "execution_count": 13,
   "id": "4b99573b-2032-4799-856b-7daad73e9cc3",
   "metadata": {},
   "outputs": [
    {
     "data": {
      "text/plain": [
       "21"
      ]
     },
     "execution_count": 13,
     "metadata": {},
     "output_type": "execute_result"
    }
   ],
   "source": [
    "#Função len()\n",
    "'''\n",
    "A função len() conta quantos caracteres existem em uma determinada string!\n",
    "\n",
    "ex: Mateus -> 6 caracteres \n",
    "'''\n",
    "frase = \"Olá mundo/Hello world\"\n",
    "len(frase)\n",
    "\n",
    "#Indexação em strings \n",
    "\n",
    "'''\n",
    "Indexação em strings é basicamente onde está determinado caracter em um indice da string\n",
    "\n",
    "ex: |Mateus| print(nome[0]) = M \n",
    "    |012345|\n",
    "'''\n"
   ]
  },
  {
   "cell_type": "code",
   "execution_count": null,
   "id": "d47eb349-e199-40e6-8e58-3dfd053e14ac",
   "metadata": {},
   "outputs": [],
   "source": []
  }
 ],
 "metadata": {
  "kernelspec": {
   "display_name": "Python 3 (ipykernel)",
   "language": "python",
   "name": "python3"
  },
  "language_info": {
   "codemirror_mode": {
    "name": "ipython",
    "version": 3
   },
   "file_extension": ".py",
   "mimetype": "text/x-python",
   "name": "python",
   "nbconvert_exporter": "python",
   "pygments_lexer": "ipython3",
   "version": "3.11.7"
  }
 },
 "nbformat": 4,
 "nbformat_minor": 5
}
