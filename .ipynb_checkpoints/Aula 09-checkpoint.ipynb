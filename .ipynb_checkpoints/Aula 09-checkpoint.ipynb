{
 "cells": [
  {
   "cell_type": "code",
   "execution_count": 1,
   "id": "854bc08c-81f1-428b-a7df-9722dac17e42",
   "metadata": {},
   "outputs": [],
   "source": [
    "import math"
   ]
  },
  {
   "cell_type": "code",
   "execution_count": 3,
   "id": "50d5d750-3c37-4181-8835-45d59275f299",
   "metadata": {},
   "outputs": [
    {
     "name": "stdout",
     "output_type": "stream",
     "text": [
      "8.0\n"
     ]
    }
   ],
   "source": [
    "#2 elavado a 3\n",
    "print(math.pow(2,3))"
   ]
  },
  {
   "cell_type": "code",
   "execution_count": 7,
   "id": "8de184dc-d54a-48c1-a414-a6c01ddee62c",
   "metadata": {},
   "outputs": [
    {
     "name": "stdout",
     "output_type": "stream",
     "text": [
      "3\n",
      "2\n"
     ]
    }
   ],
   "source": [
    "#A função ceil arredonda o numero para cima ou seja 3\n",
    "print(math.ceil(2.5))\n",
    "#Já a função trunc remove o numero decimal\n",
    "print(math.trunc(2.5))"
   ]
  },
  {
   "cell_type": "code",
   "execution_count": 9,
   "id": "31afb82c-00fa-4937-8d87-608f426b1980",
   "metadata": {},
   "outputs": [],
   "source": [
    "#Remove o arquivo criado na aula anterior\n",
    "import os \n",
    "os.remove(\"teste01.txt\")"
   ]
  },
  {
   "cell_type": "code",
   "execution_count": 11,
   "id": "e7d037c6-876f-43c4-a16a-bc4d8e744c0c",
   "metadata": {},
   "outputs": [
    {
     "name": "stdout",
     "output_type": "stream",
     "text": [
      "O arquivo não existe!\n"
     ]
    }
   ],
   "source": [
    "#Verifica se o arquivo existe para remover, se existe, então ele vai remover, se não ele mostra que \"O arquivo não existe\"\n",
    "\n",
    "import os\n",
    "\n",
    "if os.path.exists(\"teste01.txt\"):\n",
    "    os.remove(\"teste.txt\")\n",
    "else:\n",
    "    print(\"O arquivo não existe!\")"
   ]
  },
  {
   "cell_type": "code",
   "execution_count": 13,
   "id": "b5ea0208-b80d-4139-91e3-8e2693b1d343",
   "metadata": {},
   "outputs": [],
   "source": [
    "#Para excluir pastas, usamos a função rmdir\n",
    "\n",
    "os.rmdir(\"teste\")"
   ]
  },
  {
   "cell_type": "code",
   "execution_count": 4,
   "id": "58e7e2aa-534f-4dd6-80a3-b838979e39ae",
   "metadata": {},
   "outputs": [
    {
     "name": "stdout",
     "output_type": "stream",
     "text": [
      "['__doc__', '__loader__', '__name__', '__package__', '__spec__', 'acos', 'acosh', 'asin', 'asinh', 'atan', 'atan2', 'atanh', 'cbrt', 'ceil', 'comb', 'copysign', 'cos', 'cosh', 'degrees', 'dist', 'e', 'erf', 'erfc', 'exp', 'exp2', 'expm1', 'fabs', 'factorial', 'floor', 'fmod', 'frexp', 'fsum', 'gamma', 'gcd', 'hypot', 'inf', 'isclose', 'isfinite', 'isinf', 'isnan', 'isqrt', 'lcm', 'ldexp', 'lgamma', 'log', 'log10', 'log1p', 'log2', 'modf', 'nan', 'nextafter', 'perm', 'pi', 'pow', 'prod', 'radians', 'remainder', 'sin', 'sinh', 'sqrt', 'tan', 'tanh', 'tau', 'trunc', 'ulp']\n"
     ]
    }
   ],
   "source": [
    "#Explorando os módulos embutidos\n",
    "\n",
    "'''\n",
    "Duas funções muito úteis quando você for explorar módulos são dir() e help().\n",
    "Com a função dir(), você pode procurar quais funções são implementadas em cada módulo.\n",
    "'''\n",
    "\n",
    "#Função dir(): Com a função dir(), você pode procurar quais funções são implementadas em cada módulo.\n",
    "\n",
    "import math\n",
    "\n",
    "#exibe todas as funções que podem ser usadas em um modulo\n",
    "\n",
    "print(dir(math))"
   ]
  },
  {
   "cell_type": "code",
   "execution_count": 8,
   "id": "0ac8d8fb-c9f4-477f-b1b0-b613f8624fde",
   "metadata": {},
   "outputs": [
    {
     "name": "stdout",
     "output_type": "stream",
     "text": [
      "Help on built-in function trunc in module math:\n",
      "\n",
      "trunc(x, /)\n",
      "    Truncates the Real x to the nearest Integral toward 0.\n",
      "    \n",
      "    Uses the __trunc__ magic method.\n",
      "\n"
     ]
    }
   ],
   "source": [
    "'''\n",
    "Para entender o que cada função faz, podemos usar o comando help()\n",
    "'''\n",
    "\n",
    "help(math.trunc)"
   ]
  },
  {
   "cell_type": "code",
   "execution_count": null,
   "id": "2b5387e9-7836-491a-a6b7-c8e1cacb2bfb",
   "metadata": {},
   "outputs": [],
   "source": [
    "#Escrevendo um módulo"
   ]
  },
  {
   "cell_type": "code",
   "execution_count": 12,
   "id": "8313577f-53cd-4748-9edd-99ea03fbbb92",
   "metadata": {},
   "outputs": [
    {
     "name": "stdout",
     "output_type": "stream",
     "text": [
      "Writing calculadora.py\n"
     ]
    }
   ],
   "source": [
    "%%writefile calculadora.py\n",
    "\n",
    "def soma(a,b):\n",
    "    return a+b\n",
    "def subtracao(a,b):\n",
    "    return a-b\n",
    "def multiplicacao(a,b):\n",
    "    return a*b\n",
    "def divisao(a,b):\n",
    "    return a/b\n"
   ]
  },
  {
   "cell_type": "code",
   "execution_count": 14,
   "id": "ebe067bb-2a22-4a5e-8d21-7cfc9dafddaf",
   "metadata": {},
   "outputs": [
    {
     "name": "stdout",
     "output_type": "stream",
     "text": [
      "40\n",
      "-20\n",
      "300\n",
      "0.3333333333333333\n"
     ]
    }
   ],
   "source": [
    "#Importando o modulo\n",
    "\n",
    "import calculadora\n",
    "\n",
    "print(calculadora.soma(10,30))\n",
    "\n",
    "print(calculadora.subtracao(10,30))\n",
    "\n",
    "print(calculadora.multiplicacao(10,30))\n",
    "\n",
    "print(calculadora.divisao(10,30))"
   ]
  },
  {
   "cell_type": "code",
   "execution_count": null,
   "id": "d94f2adb-e4ec-40f5-a2ab-c86277407b85",
   "metadata": {},
   "outputs": [],
   "source": [
    "#Escrevendo pacotes"
   ]
  },
  {
   "cell_type": "code",
   "execution_count": 26,
   "id": "a31a7cc8-1af6-4c47-8f74-85be0739a1e8",
   "metadata": {},
   "outputs": [
    {
     "data": {
      "text/plain": [
       "5"
      ]
     },
     "execution_count": 26,
     "metadata": {},
     "output_type": "execute_result"
    }
   ],
   "source": [
    "#importando os pacotes\n",
    "\n",
    "import Matematica.calculadora\n",
    "Matematica.calculadora.soma(3,2)"
   ]
  },
  {
   "cell_type": "code",
   "execution_count": 28,
   "id": "cc50c822-a4ce-4a9d-87a7-ffbb7fe9026a",
   "metadata": {},
   "outputs": [
    {
     "data": {
      "text/plain": [
       "3"
      ]
     },
     "execution_count": 28,
     "metadata": {},
     "output_type": "execute_result"
    }
   ],
   "source": [
    "#Outra forma de importar\n",
    "\n",
    "from Matematica import calculadora\n",
    "\n",
    "calculadora.subtracao(10,7)"
   ]
  },
  {
   "cell_type": "code",
   "execution_count": null,
   "id": "78887493-3d7e-419f-8427-c6047cce839f",
   "metadata": {},
   "outputs": [],
   "source": [
    "#importando apenas uma função especifica\n",
    "\n",
    "from calculadora import divisao\n",
    "\n",
    "divisao(10,2)"
   ]
  },
  {
   "cell_type": "code",
   "execution_count": 34,
   "id": "4fd6d445-7b5b-4dac-abf3-ee361624e59c",
   "metadata": {},
   "outputs": [
    {
     "name": "stdout",
     "output_type": "stream",
     "text": [
      "5.0\n",
      "15\n"
     ]
    }
   ],
   "source": [
    "#Você também pode importar varios modulos e funções diferentes\n",
    "\n",
    "from calculadora import divisao, multiplicacao\n",
    "\n",
    "print(divisao(10,2))\n",
    "print(multiplicacao(5,3))"
   ]
  },
  {
   "cell_type": "code",
   "execution_count": 42,
   "id": "e1ef4dae-e8e9-4710-a9ae-67b53e5a565b",
   "metadata": {},
   "outputs": [
    {
     "data": {
      "text/plain": [
       "5.0"
      ]
     },
     "execution_count": 42,
     "metadata": {},
     "output_type": "execute_result"
    }
   ],
   "source": [
    "#Apelidando os módulos\n",
    "\n",
    "from Matematica import calculadora as calc\n",
    "\n",
    "calc.divisao(50,10)"
   ]
  },
  {
   "cell_type": "code",
   "execution_count": null,
   "id": "3e058aa9-4a80-4c03-a147-e291e891684d",
   "metadata": {},
   "outputs": [],
   "source": []
  }
 ],
 "metadata": {
  "kernelspec": {
   "display_name": "Python 3 (ipykernel)",
   "language": "python",
   "name": "python3"
  },
  "language_info": {
   "codemirror_mode": {
    "name": "ipython",
    "version": 3
   },
   "file_extension": ".py",
   "mimetype": "text/x-python",
   "name": "python",
   "nbconvert_exporter": "python",
   "pygments_lexer": "ipython3",
   "version": "3.11.7"
  }
 },
 "nbformat": 4,
 "nbformat_minor": 5
}
