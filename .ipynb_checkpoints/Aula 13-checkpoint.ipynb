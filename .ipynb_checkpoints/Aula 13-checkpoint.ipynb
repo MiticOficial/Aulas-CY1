{
 "cells": [
  {
   "cell_type": "code",
   "execution_count": null,
   "id": "61ce2334-70f1-43b5-802b-5dc2698f8ed5",
   "metadata": {},
   "outputs": [],
   "source": [
    "#Pilares de POO (Programação Orientada a Objetos)\n",
    "\n",
    "\n",
    "'''\n",
    "Para você entender exatamente do que se trata a orientação a objetos, \n",
    "é necessário compreender quais são os requisitos de uma linguagem para ser considerada nesse paradigma. \n",
    "Para isso, a linguagem precisa atender a quatro pilares bastante importantes, sendo o primeiro deles a ABSTRAÇÃO.\n",
    "'''"
   ]
  },
  {
   "cell_type": "code",
   "execution_count": null,
   "id": "3154fd95-f84b-44f6-a26f-9ece43873d32",
   "metadata": {},
   "outputs": [],
   "source": [
    "#Abstração\n",
    "\n",
    "'''\n",
    "Quando programamos, o codigo que escrevemos está lidando com uma representação de um objeto do mundo real, seja ele\n",
    "uma pessoa, um objeto ou até uma ideia.\n",
    "\n",
    "Por isso você deve sempre imaginar o que esse \"objeto\" vai realizar dentro do seu sistema, e nesse caso, \n",
    "levamos 3 pontos em consideração nessa abstração:\n",
    "'''\n",
    "\n",
    "#Primeiro Ponto\n",
    "\n",
    "'''\n",
    "O objeto que você vai criar precisa de uma identidade. \n",
    "Essa identidade deve ser única dentro do sistema para que não haja conflito.\n",
    "\n",
    "ou seja, não podemos ter 2 funções com nomes iguais, ou variaveis com nomes iguais e etc.\n",
    "'''\n",
    "\n",
    "#Segundo Ponto\n",
    "\n",
    "'''\n",
    "O objeto precisa ter características próprias. No mundo real, qualquer objeto possui elementos que o definem. \n",
    "Dentro da programação orientada a objetos, essas características são nomeadas propriedades. \n",
    "Por exemplo, as propriedades de um objeto “Foguete” poderiam ser “Tamanho”, “Velocidade” e “Material”.\n",
    "'''\n",
    "\n",
    "#Terceiro Ponto\n",
    "'''\n",
    "O objeto precisa ter ações. Essas ações, ou eventos, são chamados métodos. \n",
    "Esses métodos podem ser extremamente variáveis, desde “Ligar()” em um objeto celular até “Voar()” em um objeto foguete.\n",
    "'''\n",
    "\n",
    "#Conclusão:\n",
    "\n",
    "'''\n",
    "Mesmo definindo todos esses pontos, suas classes e objetos nunca serão representações 100% iguais a entidades do mundo real. \n",
    "Por isso, você pode chamar esses elementos de abstrações. É como se alguém fosse criar um desenho de um cachorro, \n",
    "mesmo que o desenho fosse cheio de detalhes, continuará sendo a abstração de um cachorro. \n",
    "\n",
    "Ou seja, apenas uma representação.\n",
    "\n",
    "No final cabe ao programador entender a logica que quer montar e seus métodos e atributos para montar a sua abstração!\n",
    "'''\n"
   ]
  },
  {
   "cell_type": "code",
   "execution_count": 3,
   "id": "36cbf032-2c31-4ad1-90fb-98159644dfd9",
   "metadata": {},
   "outputs": [
    {
     "name": "stdout",
     "output_type": "stream",
     "text": [
      "1\n"
     ]
    },
    {
     "ename": "AttributeError",
     "evalue": "'B' object has no attribute '__b'",
     "output_type": "error",
     "traceback": [
      "\u001b[1;31m---------------------------------------------------------------------------\u001b[0m",
      "\u001b[1;31mAttributeError\u001b[0m                            Traceback (most recent call last)",
      "Cell \u001b[1;32mIn[3], line 23\u001b[0m\n\u001b[0;32m     20\u001b[0m \u001b[38;5;28mprint\u001b[39m(a\u001b[38;5;241m.\u001b[39ma) \u001b[38;5;66;03m#Imprime o 1, atributo da classe A\u001b[39;00m\n\u001b[0;32m     22\u001b[0m b \u001b[38;5;241m=\u001b[39m B()\n\u001b[1;32m---> 23\u001b[0m \u001b[38;5;28mprint\u001b[39m(b\u001b[38;5;241m.\u001b[39m__b)\n",
      "\u001b[1;31mAttributeError\u001b[0m: 'B' object has no attribute '__b'"
     ]
    }
   ],
   "source": [
    "#Encapsulamento\n",
    "\n",
    "'''\n",
    "O encapsulamento é um princípio da programação orientada a objetos que adiciona segurança à aplicação ao esconder elementos de uma classe. \n",
    "Em Python, isso é feito tornando atributos privados com prefixo de dois sublinhados (__atributo). \n",
    "Para acessá-los ou modificá-los, utilizam-se métodos getters e setters, garantindo o controle sobre os dados.\n",
    "'''\n",
    "\n",
    "class A:\n",
    "    a = 1 #Atributo geral\n",
    "    __b = 2 #Atributo privado a classe A\n",
    "\n",
    "class B(A):\n",
    "    __c = 3 #Atributo privado a classe B\n",
    "    def __init(self):\n",
    "        print(self.a)\n",
    "        print(self.__c)\n",
    "\n",
    "a = A()\n",
    "print(a.a) #Imprime o 1, atributo da classe A\n",
    "\n",
    "b = B()\n",
    "print(b.__b) #Erro por conta do atributo __b é privado da classe A"
   ]
  },
  {
   "cell_type": "code",
   "execution_count": 5,
   "id": "43eccd12-c97e-4d35-a9c7-fb9c90ec6309",
   "metadata": {},
   "outputs": [
    {
     "ename": "AttributeError",
     "evalue": "'B' object has no attribute '__c'",
     "output_type": "error",
     "traceback": [
      "\u001b[1;31m---------------------------------------------------------------------------\u001b[0m",
      "\u001b[1;31mAttributeError\u001b[0m                            Traceback (most recent call last)",
      "Cell \u001b[1;32mIn[5], line 1\u001b[0m\n\u001b[1;32m----> 1\u001b[0m \u001b[38;5;28mprint\u001b[39m(b\u001b[38;5;241m.\u001b[39m__c)\n",
      "\u001b[1;31mAttributeError\u001b[0m: 'B' object has no attribute '__c'"
     ]
    }
   ],
   "source": [
    "print(b.__c) #Erro pois __c é um atributo privado, que só pode ser chamado pela sua classe"
   ]
  },
  {
   "cell_type": "code",
   "execution_count": null,
   "id": "69aa4e90-297e-4090-9d16-5e6e20cb5a07",
   "metadata": {},
   "outputs": [],
   "source": [
    "#Hora do exemplo!\n",
    "\n",
    "'''\n",
    "Para fazer um paralelo com o mundo real, veja o encapsulamento no seu dia-a-dia. \n",
    "Por exemplo, quando você clica no botão ligar da televisão, você não sabe o que está acontecendo internamente. \n",
    "É possível então dizer que os métodos que ligam a televisão estão encapsulados.\n",
    "'''"
   ]
  },
  {
   "cell_type": "code",
   "execution_count": 9,
   "id": "7542c652-73d6-4831-a02e-87ba34431e1a",
   "metadata": {},
   "outputs": [
    {
     "name": "stdout",
     "output_type": "stream",
     "text": [
      "Animal Criado\n",
      "Cachorro criado\n",
      "Cachorro\n",
      "comendo\n",
      "AuAu!\n"
     ]
    }
   ],
   "source": [
    "#Herança\n",
    "\n",
    "\n",
    "'''\n",
    "A herança é um conceito da programação orientada a objetos que permite reutilizar código, otimizando tempo e linhas de programação. \n",
    "Funciona como na genética: classes derivadas herdam características de classes base, podendo substituir ou expandir funcionalidades. \n",
    "Em Python, isso é feito declarando a classe base entre parênteses após o nome da nova classe. \n",
    "Além de promover reutilização, a herança reduz a complexidade do programa.\n",
    "\n",
    "Exemplo:\n",
    "'''\n",
    "\n",
    "class Animal():\n",
    "    def __init__(self):\n",
    "        print(\"Animal Criado\")\n",
    "    def oquesou(self):\n",
    "        print(\"Animal\")\n",
    "    def come(self):\n",
    "        print(\"comendo\")\n",
    "\n",
    "class Cachorro(Animal):\n",
    "    def __init__(self):\n",
    "        Animal.__init__(self)\n",
    "        print(\"Cachorro criado\")\n",
    "    def oquesou(self):\n",
    "        print(\"Cachorro\")\n",
    "    def late(self):\n",
    "        print(\"AuAu!\")\n",
    "\n",
    "'''\n",
    "Neste exemplo existem duas classes: Animal e Cachorro. O Animal é a classe base e o Cachorro é a classe derivada.\n",
    "\n",
    "A classe derivada herda as funcionalidades da classe base, como o método come(). \n",
    "A classe derivada modifica o comportamento existente da classe base, como no método oQueSou(). \n",
    "Finalmente, a classe derivada estende a funcionalidade da classe base, definindo um novo método latir(). \n",
    "\n",
    "Dessa forma:\n",
    "'''\n",
    "\n",
    "c = Cachorro() # Executa o método __init__() da classe animal e cachorro\n",
    "\n",
    "c.oquesou() # A função oquesou() do cachorro substitui a primeira função oquesou criada em animal\n",
    "\n",
    "c.come() #Herda de animal o método come()\n",
    "\n",
    "c.late() #Como cachorro é uma extensão da classe animal, ela também pode ter seus atributos e metodos proprios\n",
    "\n"
   ]
  },
  {
   "cell_type": "code",
   "execution_count": 10,
   "id": "e82b1702-dc60-4dfd-aae1-2239ccc2688b",
   "metadata": {},
   "outputs": [],
   "source": [
    "#Herança multipla\n",
    "\n",
    "'''\n",
    "A questão da herança varia bastante de linguagem para linguagem. Em algumas delas, como Python, há a questão da herança múltipla. \n",
    "Isso, essencialmente, significa que o objeto pode herdar características de vários “ancestrais” ao mesmo tempo diretamente.\n",
    "\n",
    "Veja no exemplo a seguir que a classe Cachorro tem herança de “AnimalSelvagem” e “AnimalDomestico”.\n",
    "'''\n",
    "\n",
    "class AnimalSelvagem():\n",
    "    def mover(self):\n",
    "        print(\"Estou correndo\")\n",
    "    def come(self):\n",
    "        print(\"Estou comendo\")\n",
    "\n",
    "class AnimalDomestico():\n",
    "    def mover():\n",
    "        print(\"Estou andando\")\n",
    "    def getDono(self):\n",
    "        return self.dono\n",
    "\n",
    "class cachorro(AnimalSelvagem, AnimalDomestico):\n",
    "    def __init__(self, dono):\n",
    "        self.dono = dono\n",
    "\n",
    "    def late(self):\n",
    "        print(\"AuAu!\")\n",
    "\n",
    "\n"
   ]
  },
  {
   "cell_type": "code",
   "execution_count": 11,
   "id": "7d4829ab-75f8-4132-bbb8-31e197b85c9d",
   "metadata": {},
   "outputs": [],
   "source": [
    "c = cachorro(\"Mateus\")"
   ]
  },
  {
   "cell_type": "code",
   "execution_count": 12,
   "id": "e43b0572-2caa-4760-8b17-fa1e8b6f75be",
   "metadata": {},
   "outputs": [
    {
     "name": "stdout",
     "output_type": "stream",
     "text": [
      "Mateus\n"
     ]
    }
   ],
   "source": [
    "print(c.getDono())"
   ]
  },
  {
   "cell_type": "code",
   "execution_count": 13,
   "id": "993ca24d-95b2-451a-9989-4955b7300ff2",
   "metadata": {},
   "outputs": [
    {
     "name": "stdout",
     "output_type": "stream",
     "text": [
      "Estou comendo\n"
     ]
    }
   ],
   "source": [
    "c.come()"
   ]
  },
  {
   "cell_type": "code",
   "execution_count": 14,
   "id": "09a65f43-7b08-425e-bc99-2e9d47aaa8ba",
   "metadata": {},
   "outputs": [
    {
     "name": "stdout",
     "output_type": "stream",
     "text": [
      "AuAu!\n"
     ]
    }
   ],
   "source": [
    "c.late()"
   ]
  },
  {
   "cell_type": "code",
   "execution_count": 15,
   "id": "ad0c184e-10aa-44c4-b4ba-face3a44b025",
   "metadata": {},
   "outputs": [
    {
     "name": "stdout",
     "output_type": "stream",
     "text": [
      "Estou correndo\n"
     ]
    }
   ],
   "source": [
    "c.mover()"
   ]
  },
  {
   "cell_type": "code",
   "execution_count": null,
   "id": "bfd70268-75e5-428a-9592-1d181d39e688",
   "metadata": {},
   "outputs": [],
   "source": [
    "'''\n",
    "No código acima, cada classe tem seus métodos e atributos definidos. \n",
    "O detalhe é que a classe Cachorro é uma classe derivada das outras 2 ao mesmo tempo! Ou seja, ela herda todos os métodos e atributos das 2 classes. \n",
    "Porém, você precisa ficar atento na ordem da herança, pois o Python importa os métodos e atributos da esquerda para a direita\n",
    "\n",
    "Como no exemplo, as classes têm um método repetido, primeiro é herdado de AnimalSelvagem o método mover() e não é importado o mesmo método da classe AnimalDomestico.\n",
    "Os métodos só são sobrescritos se eles forem definidos na classe derivada.\n",
    "\n",
    "ou seja, se na classe cachorro(classe derivada) eu colocasse outro método mover(), esse método mover substituiria o método criado anteriormente\n",
    "'''"
   ]
  },
  {
   "cell_type": "code",
   "execution_count": null,
   "id": "5ac9c19c-0eed-477c-a4e3-bcf4a8a5b57d",
   "metadata": {},
   "outputs": [],
   "source": [
    "#Polimorfismo\n",
    "\n",
    "'''\n",
    "O ultimo pilar da programação orientada a objetos é o polimorfismo, já que ela depende dos outros para existir.\n",
    "\n",
    "Na natureza, você pode ver animais que são capazes de alterar sua forma conforme a necessidade, \n",
    "sendo dessa ideia que vem o polimorfismo na orientação a objetos.\n",
    "\n",
    "Como visto anteriormente, os objetos “filhos” herdam as características e ações de seus “ancestrais”. Entretanto, em alguns casos, é necessário que as ações para um mesmo método seja diferente. \n",
    "Em outras palavras, o polimorfismo consiste na alteração do funcionamento interno de um método herdado de um objeto pai, como o que foi feito com o método oQueSou()\n",
    "\n",
    "Outro exemplo poderia ser uma classe genérica “Eletrodoméstico”. Essa classe define o método Ligar(). \n",
    "Em seguida são criadas duas novas classes derivadas de “Eletrodoméstico”, “Televisão” e “Geladeira”, que não irão ser ligadas da mesma forma. \n",
    "Assim, você precisa, para cada uma das classes derivadas, reescrever o método “Ligar()”.\n",
    "\n",
    "'''"
   ]
  }
 ],
 "metadata": {
  "kernelspec": {
   "display_name": "Python 3 (ipykernel)",
   "language": "python",
   "name": "python3"
  },
  "language_info": {
   "codemirror_mode": {
    "name": "ipython",
    "version": 3
   },
   "file_extension": ".py",
   "mimetype": "text/x-python",
   "name": "python",
   "nbconvert_exporter": "python",
   "pygments_lexer": "ipython3",
   "version": "3.11.7"
  }
 },
 "nbformat": 4,
 "nbformat_minor": 5
}
