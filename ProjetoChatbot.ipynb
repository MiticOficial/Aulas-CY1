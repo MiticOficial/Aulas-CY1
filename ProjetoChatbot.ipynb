{
 "cells": [
  {
   "cell_type": "code",
   "execution_count": 3,
   "id": "17dddfa9-a1b7-46fd-a00f-b80fd6f434c0",
   "metadata": {},
   "outputs": [
    {
     "data": {
      "text/plain": [
       "'\\nOs chatbots podem ser usados em diferentes situações, sejam com atendimento ao cliente (SACS), Assistentes virtuais,\\nE-commerce, ou até educação para ajudar alunos com algum tipo de dificuldade!\\n'"
      ]
     },
     "execution_count": 3,
     "metadata": {},
     "output_type": "execute_result"
    }
   ],
   "source": [
    "#Começando o nosso ChatBot!\n",
    "\n",
    "# O que é um chatbot?\n",
    "\n",
    "'''\n",
    "Um chatbot é um programa de computador projetado para simular uma conversa humana. \n",
    "Ele pode interagir com usuários por meio de texto ou voz, entendendo perguntas \n",
    "e respondendo de maneira automática e inteligente.\n",
    "\n",
    "Os chatbots podem funcionar de diferentes formas:\n",
    "\n",
    "- Baseados em regras: \n",
    "  seguem fluxos de decisão pré-programados e respondem apenas a perguntas específicas.\n",
    "\n",
    "- Baseados em IA (Inteligência Artificial): \n",
    "  utilizam algoritmos de processamento de linguagem natural (PLN) para entender\n",
    "  e gerar respostas mais naturais e flexíveis.\n",
    "'''\n",
    "\n",
    "# Onde eles são usados?\n",
    "\n",
    "'''\n",
    "Os chatbots podem ser usados em diferentes situações, sejam com atendimento ao cliente (SACS), Assistentes virtuais,\n",
    "E-commerce, ou até educação para ajudar alunos com algum tipo de dificuldade!\n",
    "'''"
   ]
  },
  {
   "cell_type": "code",
   "execution_count": 4,
   "id": "7357ea5d-3170-4d3a-b8dd-1bcdd768781d",
   "metadata": {},
   "outputs": [
    {
     "data": {
      "text/plain": [
       "'\\nEXEMPLO (Atente-se ao exemplo aqui!) de como deve ser montada a base de conhecimento do seu BOT:\\n\\nCliente: Olá\\nChatBot: Olá, tudo bem? Qual seu nome?\\nCliente: Tudo bem, meu nome é TAL NOME\\nChatbot: É um belo nome\\nCliente: Obrigado!\\n'"
      ]
     },
     "execution_count": 4,
     "metadata": {},
     "output_type": "execute_result"
    }
   ],
   "source": [
    "# Criando a base de conhecimento do nosso bot!\n",
    "\n",
    "'''\n",
    "Para criarmos o nosso chatbot primeiro precisamos definir o tema em que ele irá atuar, por exemplo, se fosse um chatbot\n",
    "utilizado em farmacias, ele deveria informar sobre remedios, se fosse um chatbot utilizado em uma concessionaria ele \n",
    "poderia falar sobre disponibilidade de carros a venda ou informações sobre um carro.\n",
    "\n",
    "Conseguem pensar em algum uso para um chatbot?\n",
    "'''\n",
    "\n",
    "#Definindo a base de conhecimento\n",
    "\n",
    "'''\n",
    "Então a base de conhecimento para o nosso bot seria um acumulado de dados sobre determinado assunto.\n",
    "\n",
    "Sua primeira tarefa nesta aula é criar a base de conhecimento. \n",
    "Comece definindo o tema do seu chatbot. \n",
    "Nos exemplos que você verá, existe uma chatbot chamada Dona Maria, \n",
    "usada como entretenimento ao reproduzir conversas aleatórias.\n",
    "\n",
    "Crie um arquivo .txt na raiz do seu projeto e em cada linha coloque uma frase para o Cliente, \n",
    "seguida de uma possível resposta ou comentário do seu Chatbot. \n",
    "Lembre-se de não pular uma linha no final do arquivo.\n",
    "\n",
    "lembre-se você pode usar a aula sobre ARQUIVOS - AULA 08, para criar os arquivos por meio do codigo, \n",
    "facilitando o entendimento!\n",
    "\n",
    "Quanto maior for a base de conhecimento do seu bot, melhor ele irá se sair ao responder as perguntas!\n",
    "'''\n",
    "\n",
    "'''\n",
    "EXEMPLO (Atente-se ao exemplo aqui!) de como deve ser montada a base de conhecimento do seu BOT:\n",
    "\n",
    "Cliente: Olá\n",
    "ChatBot: Olá, tudo bem? Qual seu nome?\n",
    "Cliente: Tudo bem, meu nome é TAL NOME\n",
    "Chatbot: É um belo nome\n",
    "Cliente: Obrigado!\n",
    "'''"
   ]
  },
  {
   "cell_type": "code",
   "execution_count": 5,
   "id": "5373455a-75d1-480e-970b-59dd7fd72c6a",
   "metadata": {},
   "outputs": [],
   "source": [
    "#Criando a base de conhecimento na minha pasta raiz"
   ]
  },
  {
   "cell_type": "code",
   "execution_count": 14,
   "id": "017ead4b-d683-422a-b71d-0255a025e6c4",
   "metadata": {},
   "outputs": [
    {
     "name": "stdout",
     "output_type": "stream",
     "text": [
      "Overwriting base_de_conhecimento.txt\n"
     ]
    }
   ],
   "source": [
    "%%writefile base_de_conhecimento.txt\n",
    "Cliente: Olá\n",
    "Chatbot: Olá, tudo bem?\n",
    "Cliente: Tudo bem sim e você?\n",
    "Chatbot: Eu estou bem, apesar de ser uma maquina!\n",
    "Cliente: O Palmeiras vai ganhar o Paulistão?\n",
    "Chatbot: Acho que dessa vez não vai dar não :(\n",
    "Cliente: Como é ser um robo?\n",
    "Chatbot: É bem parado na verdade, como é ser um humano?\n",
    "Cliente: Da fome\n",
    "Chatbot: Gostaria de sentir fome também"
   ]
  },
  {
   "cell_type": "code",
   "execution_count": 15,
   "id": "8af7d6b6-4701-4607-98de-85e80826fda4",
   "metadata": {},
   "outputs": [],
   "source": [
    "#Iniciando uma conversa com nosso bot\n",
    "\n",
    "'''\n",
    "Para construir o chatbot, é necessário seguir a estrutura de uma conversa qualquer. \n",
    "O que você faz quando inicia uma conversa? Uma saudação, não é mesmo? \n",
    "Então comece o código do seu chatbot com uma função de saudação\n",
    "'''\n",
    "\n",
    "def saudacoes(nome): # Criando a função saudação\n",
    "    import random # Importando o modulo random pra conseguir usar o conceito de aleatorio. Random == Aleatorio em pt-br\n",
    "    frases = [\"Bom dia! Meu nome é \" + nome + \". Como vai você?\", \"Olá!\",\"Olá, tudo bem?\"] # Criando a saudação inicial do nosso bot\n",
    "    print(frases[random.randint(0,2)]) #Imprime na tela uma frase aleatoria entre 0 e 2 da nossa lista \"frases\""
   ]
  },
  {
   "cell_type": "code",
   "execution_count": 8,
   "id": "1b9d5d8a-7512-4c82-9c6a-36329a577201",
   "metadata": {},
   "outputs": [
    {
     "name": "stdout",
     "output_type": "stream",
     "text": [
      "Olá, tudo bem?\n"
     ]
    }
   ],
   "source": [
    "#Executando a função:\n",
    "\n",
    "saudacoes(\"Dona Odete\")"
   ]
  },
  {
   "cell_type": "code",
   "execution_count": 16,
   "id": "88f802b0-83ce-4179-959e-2ed7c9264ae4",
   "metadata": {},
   "outputs": [],
   "source": [
    "#Recebendo mensagens do usuario (você no caso)\n",
    "\n",
    "'''\n",
    "Após saudar o cliente, o seu chatbot deve se preparar para receber mensagens do mesmo. \n",
    "Neste momento, o seu sistema pode filtrar mensagens desrespeitosas ou que violem o código de conduta \n",
    "e proteção de dados da empresa, como ataques de hackers.\n",
    "\n",
    "Um modo simples para tratar esse problema é criar uma “lista de palavras proibidas” \n",
    "que serão verificadas em cada mensagem do cliente.\n",
    "\n",
    "dessa forma:\n",
    "'''\n",
    "\n",
    "def recebeTexto(): # Criando a função recebeTexto, que vai receber um texto do usuario\n",
    "    texto = \"Cliente: \" + input(\"Cliente:\") # Variavel que vai armazenar o texto do usuario\n",
    "    palavra_proibida = [\"Bocó\", \"Chato\", \"Bobão\", \"Corinthiano\", \"Flamenguista\"] # Lista de palavras proibidas\n",
    "    for palavra in palavra_proibida: # Para cada palavra dentro da lista de palavras proibidas ele vai repetiro o codigo de dentro!\n",
    "        if palavra in texto: # Se ele encontrar alguma palavra desrespeitosa no texto (palavra in texto)...\n",
    "            print(\"Eai, não me desrespeita me chamando disso não, eu sou Palmeiras, doido!\") # Mostra na tela uma mensagem\n",
    "            return recebeTexto() # e repete essa função desde o começo\n",
    "    return texto # retorna para a hora de digitar um texto"
   ]
  },
  {
   "cell_type": "code",
   "execution_count": 10,
   "id": "5e5df8b8-f927-40e9-ba3a-bb280808a60e",
   "metadata": {},
   "outputs": [
    {
     "name": "stdin",
     "output_type": "stream",
     "text": [
      "Cliente:  receba\n"
     ]
    },
    {
     "data": {
      "text/plain": [
       "'Cliente: receba'"
      ]
     },
     "execution_count": 10,
     "metadata": {},
     "output_type": "execute_result"
    }
   ],
   "source": [
    "#Executando a função:\n",
    "recebeTexto()"
   ]
  },
  {
   "cell_type": "code",
   "execution_count": 17,
   "id": "61801326-0e96-458d-9851-4243c7d13c1d",
   "metadata": {},
   "outputs": [],
   "source": [
    "#Buscando respostas na base de conhecimento\n",
    "\n",
    "'''\n",
    "Independente do que o cliente enviar como mensagem, o seu chatbot deve retornar uma resposta. \n",
    "Então, agora você precisa programar uma função para buscar respostas na Base de Conhecimento!\n",
    "\n",
    "Primeiramente, a função deve receber o texto enviado pelo cliente, \n",
    "por isso o parâmetro da função do codigo a seguir se chama “texto”. \n",
    "Em seguida, a função abre o arquivo que contém todos aqueles diálogos que você criou no início da aula. \n",
    "Para isso, utiliza-se a função nativa \"with open\" com os parâmetros “endereço do arquivo” e modo “a+”, \n",
    "o que permite a sua função ler e alterar o arquivo, que recebe o apelido de “conhecimento”\n",
    "'''\n",
    "\n",
    "def buscaResposta(nome, texto): # Criando a função resposta que vai ter dois parametros, seu nome e um texto \n",
    "    with open(\"base_de_conhecimento.txt\", \"r+\") as conhecimento_bot:  # Aqui abrimos o arquivo da base de conhecimento do bot que criamos no inicio da aula e apelidamos esse arquivo como conhecimento_bot\n",
    "        conhecimento_bot.seek(0) #Aqui usamos o comando .seek(0) para buscar a linha 0 daquele arquivo, ou seja, a primeira\n",
    "        \n",
    "        # Inicio do meu loop infinito, \"Enquanto for verdade...\"\n",
    "        while True: \n",
    "            leu_a_linha = conhecimento_bot.readline()\n",
    "            \n",
    "            if leu_a_linha == \"\":  # Se a linha que ele ler estiver vazia, quebre o loop\n",
    "                break  \n",
    "\n",
    "            if texto.replace(\"Cliente: \", \"\").strip() == \"Tchau\": #Se a linha que ele ler do cliente, estiver escrito tchau...\n",
    "                print(nome + \": Volte sempre!\") # Mostre o nome do usuario + volte sempre!\n",
    "                return \"Fim da conversa\"  #Mostre fim da conversa\n",
    "\n",
    "            if leu_a_linha.strip() == texto.strip():  # Se a linha que ele leu na base de conhecimento bate com o que foi dito pelo usuario\n",
    "                proximalinha = conhecimento_bot.readline()  # Lê a próxima linha (do chatbot)\n",
    "                \n",
    "                if proximalinha.startswith(\"Chatbot: \"):  # Verifica se a resposta é do chatbot e se for retorna o que está escrito nessa linha\n",
    "                    return proximalinha.strip() \n",
    "\n",
    "        # Se nenhuma resposta foi encontrada, registra a nova pergunta e pede resposta\n",
    "        print(\"Me desculpe, não sei o que falar\")\n",
    "        conhecimento_bot.write(\"\\n\" + texto.strip())  # Escreve a entrada do cliente\n",
    "        resposta_user = input(\"O que esperava? \\n\")\n",
    "        conhecimento_bot.write(\"\\nChatbot: \" + resposta_user.strip())  # Escreve a resposta esperada\n",
    "        \n",
    "        return \"Resposta salva na base de conhecimento!\"\n",
    "        \n",
    " "
   ]
  },
  {
   "cell_type": "code",
   "execution_count": null,
   "id": "0297a08a-4db1-4f91-8167-f224a6116276",
   "metadata": {},
   "outputs": [
    {
     "name": "stdout",
     "output_type": "stream",
     "text": [
      "Me desculpe, não sei o que falar\n"
     ]
    }
   ],
   "source": [
    "buscaResposta(\"Mateus\", \"Olá\")"
   ]
  },
  {
   "cell_type": "code",
   "execution_count": null,
   "id": "d24b3a38-9e9a-4e84-a260-11ba89c44984",
   "metadata": {},
   "outputs": [],
   "source": [
    "#Exibindo as respostas"
   ]
  },
  {
   "cell_type": "code",
   "execution_count": 19,
   "id": "b139297d-c6b4-41fd-8f7c-1c162b549fb5",
   "metadata": {},
   "outputs": [
    {
     "data": {
      "text/plain": [
       "'\\nEsta função, além de enviar as respostas para cada mensagem do Cliente, \\ntambém vai verificar se este deseja se despedir e parar de conversar com o Chatbot.\\nPara isso, sua função tem como parâmetros a “resposta” encontrada pela função BuscaResposta()\\ne o “nome” que será dado para a Chatbot.\\n\\nPrimeiramente, a função deve imprimir a resposta encontrada na Base de Conhecimento para o cliente. \\nNa linha 36, troca-se a palavra “Chatbot” pelo “nome” dado ao Chatbot no momento de exibição da resposta, \\no que torna o seu Chatbot “mais semelhante a um humano”.\\n'"
      ]
     },
     "execution_count": 19,
     "metadata": {},
     "output_type": "execute_result"
    }
   ],
   "source": [
    "#Uma vez com a “resposta nas mãos”, você vai precisar exibi-las para seu Cliente. Crie uma função exibeReposta()\n",
    "\n",
    "def exibeResposta(resposta, nome):\n",
    "    print(resposta.replace(\"Chatbot\", nome))\n",
    "    if resposta == \"Fim da conversa\":\n",
    "        return \"ACABO\"\n",
    "    return \"Continua\"\n",
    "\n",
    "'''\n",
    "Esta função, além de enviar as respostas para cada mensagem do Cliente, \n",
    "também vai verificar se este deseja se despedir e parar de conversar com o Chatbot.\n",
    "Para isso, sua função tem como parâmetros a “resposta” encontrada pela função BuscaResposta()\n",
    "e o “nome” que será dado para a Chatbot.\n",
    "\n",
    "Primeiramente, a função deve imprimir a resposta encontrada na Base de Conhecimento para o cliente. \n",
    "Na linha 36, troca-se a palavra “Chatbot” pelo “nome” dado ao Chatbot no momento de exibição da resposta, \n",
    "o que torna o seu Chatbot “mais semelhante a um humano”.\n",
    "'''"
   ]
  },
  {
   "cell_type": "code",
   "execution_count": 20,
   "id": "4df2f528-9ab1-4bc3-8002-c3b36adc3913",
   "metadata": {},
   "outputs": [
    {
     "name": "stdout",
     "output_type": "stream",
     "text": [
      "Olá, tudo bem?\n"
     ]
    },
    {
     "name": "stdin",
     "output_type": "stream",
     "text": [
      "Cliente: Olá\n"
     ]
    },
    {
     "name": "stdout",
     "output_type": "stream",
     "text": [
      "Odete: Olá, tudo bem?\n"
     ]
    },
    {
     "name": "stdin",
     "output_type": "stream",
     "text": [
      "Cliente: Tudo bem sim e você?\n"
     ]
    },
    {
     "name": "stdout",
     "output_type": "stream",
     "text": [
      "Odete: Eu estou bem, apesar de ser uma maquina!\n"
     ]
    },
    {
     "ename": "KeyboardInterrupt",
     "evalue": "Interrupted by user",
     "output_type": "error",
     "traceback": [
      "\u001b[1;31m---------------------------------------------------------------------------\u001b[0m",
      "\u001b[1;31mKeyboardInterrupt\u001b[0m                         Traceback (most recent call last)",
      "Cell \u001b[1;32mIn[20], line 7\u001b[0m\n\u001b[0;32m      5\u001b[0m saudacoes(nome_maquina)\n\u001b[0;32m      6\u001b[0m \u001b[38;5;28;01mwhile\u001b[39;00m \u001b[38;5;28;01mTrue\u001b[39;00m:\n\u001b[1;32m----> 7\u001b[0m     texto \u001b[38;5;241m=\u001b[39m recebeTexto()\n\u001b[0;32m      8\u001b[0m     resposta \u001b[38;5;241m=\u001b[39m buscaResposta(nome_maquina, texto)\n\u001b[0;32m      9\u001b[0m     \u001b[38;5;28;01mif\u001b[39;00m exibeResposta(resposta, nome_maquina) \u001b[38;5;241m==\u001b[39m \u001b[38;5;124m\"\u001b[39m\u001b[38;5;124mFim da conversa\u001b[39m\u001b[38;5;124m\"\u001b[39m:\n",
      "Cell \u001b[1;32mIn[16], line 15\u001b[0m, in \u001b[0;36mrecebeTexto\u001b[1;34m()\u001b[0m\n\u001b[0;32m     14\u001b[0m \u001b[38;5;28;01mdef\u001b[39;00m \u001b[38;5;21mrecebeTexto\u001b[39m(): \u001b[38;5;66;03m# Criando a função recebeTexto, que vai receber um texto do usuario\u001b[39;00m\n\u001b[1;32m---> 15\u001b[0m     texto \u001b[38;5;241m=\u001b[39m \u001b[38;5;124m\"\u001b[39m\u001b[38;5;124mCliente: \u001b[39m\u001b[38;5;124m\"\u001b[39m \u001b[38;5;241m+\u001b[39m \u001b[38;5;28minput\u001b[39m(\u001b[38;5;124m\"\u001b[39m\u001b[38;5;124mCliente:\u001b[39m\u001b[38;5;124m\"\u001b[39m) \u001b[38;5;66;03m# Variavel que vai armazenar o texto do usuario\u001b[39;00m\n\u001b[0;32m     16\u001b[0m     palavra_proibida \u001b[38;5;241m=\u001b[39m [\u001b[38;5;124m\"\u001b[39m\u001b[38;5;124mBocó\u001b[39m\u001b[38;5;124m\"\u001b[39m, \u001b[38;5;124m\"\u001b[39m\u001b[38;5;124mChato\u001b[39m\u001b[38;5;124m\"\u001b[39m, \u001b[38;5;124m\"\u001b[39m\u001b[38;5;124mBobão\u001b[39m\u001b[38;5;124m\"\u001b[39m, \u001b[38;5;124m\"\u001b[39m\u001b[38;5;124mCorinthiano\u001b[39m\u001b[38;5;124m\"\u001b[39m, \u001b[38;5;124m\"\u001b[39m\u001b[38;5;124mFlamenguista\u001b[39m\u001b[38;5;124m\"\u001b[39m] \u001b[38;5;66;03m# Lista de palavras proibidas\u001b[39;00m\n\u001b[0;32m     17\u001b[0m     \u001b[38;5;28;01mfor\u001b[39;00m palavra \u001b[38;5;129;01min\u001b[39;00m palavra_proibida: \u001b[38;5;66;03m# Para cada palavra dentro da lista de palavras proibidas ele vai repetiro o codigo de dentro!\u001b[39;00m\n",
      "File \u001b[1;32m~\\anaconda3\\Lib\\site-packages\\ipykernel\\kernelbase.py:1262\u001b[0m, in \u001b[0;36mKernel.raw_input\u001b[1;34m(self, prompt)\u001b[0m\n\u001b[0;32m   1260\u001b[0m     msg \u001b[38;5;241m=\u001b[39m \u001b[38;5;124m\"\u001b[39m\u001b[38;5;124mraw_input was called, but this frontend does not support input requests.\u001b[39m\u001b[38;5;124m\"\u001b[39m\n\u001b[0;32m   1261\u001b[0m     \u001b[38;5;28;01mraise\u001b[39;00m StdinNotImplementedError(msg)\n\u001b[1;32m-> 1262\u001b[0m \u001b[38;5;28;01mreturn\u001b[39;00m \u001b[38;5;28mself\u001b[39m\u001b[38;5;241m.\u001b[39m_input_request(\n\u001b[0;32m   1263\u001b[0m     \u001b[38;5;28mstr\u001b[39m(prompt),\n\u001b[0;32m   1264\u001b[0m     \u001b[38;5;28mself\u001b[39m\u001b[38;5;241m.\u001b[39m_parent_ident[\u001b[38;5;124m\"\u001b[39m\u001b[38;5;124mshell\u001b[39m\u001b[38;5;124m\"\u001b[39m],\n\u001b[0;32m   1265\u001b[0m     \u001b[38;5;28mself\u001b[39m\u001b[38;5;241m.\u001b[39mget_parent(\u001b[38;5;124m\"\u001b[39m\u001b[38;5;124mshell\u001b[39m\u001b[38;5;124m\"\u001b[39m),\n\u001b[0;32m   1266\u001b[0m     password\u001b[38;5;241m=\u001b[39m\u001b[38;5;28;01mFalse\u001b[39;00m,\n\u001b[0;32m   1267\u001b[0m )\n",
      "File \u001b[1;32m~\\anaconda3\\Lib\\site-packages\\ipykernel\\kernelbase.py:1305\u001b[0m, in \u001b[0;36mKernel._input_request\u001b[1;34m(self, prompt, ident, parent, password)\u001b[0m\n\u001b[0;32m   1302\u001b[0m \u001b[38;5;28;01mexcept\u001b[39;00m \u001b[38;5;167;01mKeyboardInterrupt\u001b[39;00m:\n\u001b[0;32m   1303\u001b[0m     \u001b[38;5;66;03m# re-raise KeyboardInterrupt, to truncate traceback\u001b[39;00m\n\u001b[0;32m   1304\u001b[0m     msg \u001b[38;5;241m=\u001b[39m \u001b[38;5;124m\"\u001b[39m\u001b[38;5;124mInterrupted by user\u001b[39m\u001b[38;5;124m\"\u001b[39m\n\u001b[1;32m-> 1305\u001b[0m     \u001b[38;5;28;01mraise\u001b[39;00m \u001b[38;5;167;01mKeyboardInterrupt\u001b[39;00m(msg) \u001b[38;5;28;01mfrom\u001b[39;00m \u001b[38;5;28;01mNone\u001b[39;00m\n\u001b[0;32m   1306\u001b[0m \u001b[38;5;28;01mexcept\u001b[39;00m \u001b[38;5;167;01mException\u001b[39;00m:\n\u001b[0;32m   1307\u001b[0m     \u001b[38;5;28mself\u001b[39m\u001b[38;5;241m.\u001b[39mlog\u001b[38;5;241m.\u001b[39mwarning(\u001b[38;5;124m\"\u001b[39m\u001b[38;5;124mInvalid Message:\u001b[39m\u001b[38;5;124m\"\u001b[39m, exc_info\u001b[38;5;241m=\u001b[39m\u001b[38;5;28;01mTrue\u001b[39;00m)\n",
      "\u001b[1;31mKeyboardInterrupt\u001b[0m: Interrupted by user"
     ]
    }
   ],
   "source": [
    "#Criando nossa robo Odete\n",
    "\n",
    "\n",
    "nome_maquina = \"Odete\"\n",
    "saudacoes(nome_maquina)\n",
    "while True:\n",
    "    texto = recebeTexto()\n",
    "    resposta = buscaResposta(nome_maquina, texto)\n",
    "    if exibeResposta(resposta, nome_maquina) == \"Fim da conversa\":\n",
    "        break\n",
    "    "
   ]
  },
  {
   "cell_type": "code",
   "execution_count": null,
   "id": "7220c74c-cbc7-4387-8269-453fc0162a06",
   "metadata": {},
   "outputs": [],
   "source": []
  }
 ],
 "metadata": {
  "kernelspec": {
   "display_name": "Python 3 (ipykernel)",
   "language": "python",
   "name": "python3"
  },
  "language_info": {
   "codemirror_mode": {
    "name": "ipython",
    "version": 3
   },
   "file_extension": ".py",
   "mimetype": "text/x-python",
   "name": "python",
   "nbconvert_exporter": "python",
   "pygments_lexer": "ipython3",
   "version": "3.11.7"
  }
 },
 "nbformat": 4,
 "nbformat_minor": 5
}
