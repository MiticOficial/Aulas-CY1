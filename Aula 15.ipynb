{
 "cells": [
  {
   "cell_type": "code",
   "execution_count": 3,
   "id": "84b6ab37-3693-474c-a7ca-1c38729f2e57",
   "metadata": {
    "scrolled": true
   },
   "outputs": [
    {
     "name": "stdout",
     "output_type": "stream",
     "text": [
      "Corinthians Eliminado!\n"
     ]
    }
   ],
   "source": [
    "#Aula 15 - Programando exceções\n",
    "\n",
    "'''\n",
    "Na aula passada você aprendeu a verificar se seu código funciona corretamente ou não. \n",
    "Entretanto, em algumas situações não é possível controlar os erros que podem acontecer, \n",
    "o que é raro ou apenas acontece quando o código já está executando. \n",
    "Mas como tratar exceções quando elas ocorrem?\n",
    "'''\n",
    "\n",
    "'''\n",
    "Durante as aulas você viu alguns tipos de erro, por exemplo o erro de Syntaxe:\n",
    "'''\n",
    "\n",
    "\n",
    "print('Corinthians Eliminado!')"
   ]
  },
  {
   "cell_type": "code",
   "execution_count": null,
   "id": "309be17f-13c1-466d-9b21-381307e4564b",
   "metadata": {},
   "outputs": [],
   "source": [
    "if 5 > 2:\n",
    "    print(\"5 é maior que 2\")"
   ]
  },
  {
   "cell_type": "code",
   "execution_count": 10,
   "id": "3671b9ef-5c89-4998-ab1d-0df9a7e763c7",
   "metadata": {},
   "outputs": [
    {
     "name": "stdin",
     "output_type": "stream",
     "text": [
      "Digite um numero:  9\n",
      "Digite um segundo numero:  0\n"
     ]
    },
    {
     "ename": "ZeroDivisionError",
     "evalue": "division by zero",
     "output_type": "error",
     "traceback": [
      "\u001b[1;31m---------------------------------------------------------------------------\u001b[0m",
      "\u001b[1;31mZeroDivisionError\u001b[0m                         Traceback (most recent call last)",
      "Cell \u001b[1;32mIn[10], line 15\u001b[0m\n\u001b[0;32m     12\u001b[0m Numero1 \u001b[38;5;241m=\u001b[39m \u001b[38;5;28mint\u001b[39m(\u001b[38;5;28minput\u001b[39m(\u001b[38;5;124m\"\u001b[39m\u001b[38;5;124mDigite um numero: \u001b[39m\u001b[38;5;124m\"\u001b[39m))\n\u001b[0;32m     13\u001b[0m Numero2 \u001b[38;5;241m=\u001b[39m \u001b[38;5;28mint\u001b[39m(\u001b[38;5;28minput\u001b[39m(\u001b[38;5;124m\"\u001b[39m\u001b[38;5;124mDigite um segundo numero: \u001b[39m\u001b[38;5;124m\"\u001b[39m))\n\u001b[1;32m---> 15\u001b[0m \u001b[38;5;28mprint\u001b[39m(Numero1\u001b[38;5;241m/\u001b[39mNumero2)\n\u001b[0;32m     17\u001b[0m \u001b[38;5;124;03m'''\u001b[39;00m\n\u001b[0;32m     18\u001b[0m \u001b[38;5;124;03mNesse caso, a sintaxe estava correta porem, a divisão que tentamos fazer não pode ser feita\u001b[39;00m\n\u001b[0;32m     19\u001b[0m \u001b[38;5;124;03mporque não é possivel dividir um numero por 0, ocasionando no erro ZeroDivisionError.\u001b[39;00m\n\u001b[0;32m     20\u001b[0m \u001b[38;5;124;03m'''\u001b[39;00m\n",
      "\u001b[1;31mZeroDivisionError\u001b[0m: division by zero"
     ]
    }
   ],
   "source": [
    "'''\n",
    "No caso, o erro mostra que a string não foi devidamente terminada (geralmente ele mostra o\n",
    "erro EOL - End of line Error - Erro no fim da linha)\n",
    "\n",
    "Mesmo que um código possa estar escrito corretamente, \n",
    "ele pode causar um erro quando tentamos executá-lo. \n",
    "Os erros detectados durante a execução dos programas são chamados de exceções.\n",
    "\n",
    "Ex:\n",
    "'''\n",
    "\n",
    "Numero1 = int(input(\"Digite um numero: \"))\n",
    "Numero2 = int(input(\"Digite um segundo numero: \"))\n",
    "\n",
    "print(Numero1/Numero2)\n",
    "\n",
    "'''\n",
    "Nesse caso, a sintaxe estava correta porem, a divisão que tentamos fazer não pode ser feita\n",
    "porque não é possivel dividir um numero por 0, ocasionando no erro ZeroDivisionError.\n",
    "'''\n",
    "#Para se prevenir desse problema, você terá que utilizar os comandos try except de Python."
   ]
  },
  {
   "cell_type": "code",
   "execution_count": 5,
   "id": "747340b9-bd95-4e8a-b0d1-5677c1c07f22",
   "metadata": {},
   "outputs": [
    {
     "data": {
      "text/plain": [
       "\"\\nPara lidar com exceções no seu codigo, você deve inserir essas exceções dentro de um bloco\\nde 'try' ou tente, em portugues, além do que o codigo deve fazer se acontecer essas exceções.\\n\\na sintaxe do Try é a seguinte:\\n\""
      ]
     },
     "execution_count": 5,
     "metadata": {},
     "output_type": "execute_result"
    }
   ],
   "source": [
    "#Try, Except e Else\n",
    "\n",
    "'''\n",
    "Para lidar com exceções no seu codigo, você deve inserir essas exceções dentro de um bloco\n",
    "de 'try' ou tente, em portugues, além do que o codigo deve fazer se acontecer essas exceções.\n",
    "\n",
    "a sintaxe do Try é a seguinte:\n",
    "\n",
    "try:\n",
    "    algum codigo que pode precisar de exceções\n",
    "\n",
    "except Exceção1: \n",
    "    o codigo que deverá rodar caso chegue na exceção1\n",
    "\n",
    "except Exceção2:\n",
    "    o codigo que deverá rodar caso chegue na exceção2\n",
    "\n",
    "else: \n",
    "    se não existir nenhuma exceção pro nosso código, rode isso\n",
    "'''\n",
    "\n"
   ]
  },
  {
   "cell_type": "code",
   "execution_count": 11,
   "id": "46ada999-b3bf-4e59-ae9c-c41c2e2c4ac2",
   "metadata": {},
   "outputs": [
    {
     "ename": "SyntaxError",
     "evalue": "expected 'except' or 'finally' block (586091939.py, line 30)",
     "output_type": "error",
     "traceback": [
      "\u001b[1;36m  Cell \u001b[1;32mIn[11], line 30\u001b[1;36m\u001b[0m\n\u001b[1;33m    '''\u001b[0m\n\u001b[1;37m    ^\u001b[0m\n\u001b[1;31mSyntaxError\u001b[0m\u001b[1;31m:\u001b[0m expected 'except' or 'finally' block\n"
     ]
    }
   ],
   "source": [
    "#Vendo na pratica:\n",
    "\n",
    "try:\n",
    "    arquivo = open(\"arquivo.txt\", \"r\")\n",
    "    arquivo.write(\"tente escrever isso\")\n",
    "\n",
    "except IOError:\n",
    "    print(\"Não foi possivel localizar o arquivo\")\n",
    "\n",
    "else:\n",
    "    print(\"Texto escrito com sucesso!\")\n",
    "    arquivo.close()\n",
    "\n",
    "finally:\n",
    "    print(\"Rodei\")\n",
    "\n",
    "'''\n",
    "O codigo acima cria um arquivo chamado \"arquivo\", abre ele em modo de escrita('w' - write)\n",
    "e escreve dentro dele uma mensagem, \"tente escrever isso\". Isso é o que ele vai tentar fazer,\n",
    "mas se ele não conseguir por um erro chamado IOError (erro para encontrar o arquivo, ou acesso negado)\n",
    "ele vai mostrar \"Não foi possivel localizar o arquivo\". Mas se essa exceção não ocorrer\n",
    "ele irá mostrar \"Texto escrito com sucesso!\" e vai fechar o arquivo.\n",
    "'''\n",
    "\n",
    "\n",
    "\n",
    "\n",
    "'''\n",
    "Isso é extremamente útil quando houver possíveis erros de entrada em seu código.\n",
    "Você pode estar preparado para o erro e continuar executando o código, \n",
    "em vez de seu código apenas quebrar.\n",
    "\n",
    "Agora, se você quiser continuar executando um código\n",
    "mesmo que tiver uma ocorrência ou não de exceção? para isso usamos o FINALLY\n",
    "'''"
   ]
  },
  {
   "cell_type": "code",
   "execution_count": 20,
   "id": "ad24a986-7d16-42f0-b50d-cfb706f1c45d",
   "metadata": {},
   "outputs": [
    {
     "name": "stdin",
     "output_type": "stream",
     "text": [
      "Digite um numero:  10\n",
      "Digite um segundo numero:  5\n"
     ]
    },
    {
     "name": "stdout",
     "output_type": "stream",
     "text": [
      "2.0\n",
      "Executei!\n"
     ]
    }
   ],
   "source": [
    "try:\n",
    "    Numero1 = int(input(\"Digite um numero: \"))\n",
    "    Numero2 = int(input(\"Digite um segundo numero: \"))\n",
    "\n",
    "    print(Numero1/Numero2)\n",
    "\n",
    "except ZeroDivisionError:\n",
    "    print(\"Não é possivel dividir\")\n",
    "\n",
    "finally:\n",
    "    print(\"Executei!\")"
   ]
  },
  {
   "cell_type": "code",
   "execution_count": null,
   "id": "fc511dc1-b716-4c2b-8387-cdda9e27c94c",
   "metadata": {},
   "outputs": [],
   "source": [
    "#Finally\n",
    "'''\n",
    "O Finally é um bloco de código que sempre será executado, independente de existir alguma\n",
    "exceção no bloco de código try, a sintaxe é a seguinte:\n",
    "\n",
    "try:\n",
    "    seu código aqui\n",
    "    se acontece uma exceção aqui\n",
    "    o código dai pra baixo pode ser ignorado!\n",
    "    codigo ignorado\n",
    "    código ignorado\n",
    "    código ignorado\n",
    "\n",
    "finally:\n",
    "    tudo que tiver aqui dentro sempre vai ser executado\n",
    "'''"
   ]
  },
  {
   "cell_type": "code",
   "execution_count": 13,
   "id": "45571875-46a5-4f1f-91e5-fee6eb44f82f",
   "metadata": {},
   "outputs": [
    {
     "name": "stdout",
     "output_type": "stream",
     "text": [
      "sempre executa os comandos que estiverem dentro do finally\n"
     ]
    }
   ],
   "source": [
    "#Exemplo\n",
    "try:\n",
    "    arquivo = open(\"arquivo\",\"w\")\n",
    "    arquivo.write(\"tente escrever isso\")\n",
    "\n",
    "finally: \n",
    "    print(\"sempre executa os comandos que estiverem dentro do finally\")"
   ]
  },
  {
   "cell_type": "code",
   "execution_count": 21,
   "id": "e75adbc4-f206-4ef9-8130-ddd2d5a83aee",
   "metadata": {},
   "outputs": [
    {
     "name": "stdin",
     "output_type": "stream",
     "text": [
      "digite um numero inteiro:  60.20\n"
     ]
    },
    {
     "name": "stdout",
     "output_type": "stream",
     "text": [
      "Parece que você não digitou um numero inteiro\n",
      "Executei!\n"
     ]
    }
   ],
   "source": [
    "#Finally com Except\n",
    "\n",
    "'''\n",
    "Também é possível usar o finally em conjunto com except.\n",
    "Veja a seguir um novo exemplo que levará em consideração um usuário que coloque a entrada errada\n",
    "'''\n",
    "\n",
    "def pergunta_numero():\n",
    "    try:\n",
    "        val = int(input(\"digite um numero inteiro: \"))\n",
    "    except:\n",
    "        print(\"Parece que você não digitou um numero inteiro\")\n",
    "    finally:\n",
    "        print(\"Executei!\")\n",
    "\n",
    "pergunta_numero()"
   ]
  },
  {
   "cell_type": "code",
   "execution_count": null,
   "id": "02c86154-8b36-4a9c-b4d2-f4ae32167e2e",
   "metadata": {},
   "outputs": [
    {
     "name": "stdin",
     "output_type": "stream",
     "text": [
      "digite um numero inteiro:  10.2\n"
     ]
    },
    {
     "name": "stdout",
     "output_type": "stream",
     "text": [
      "Parece que você não digitou um numero inteiro\n",
      "Tentativa numero:  1\n"
     ]
    },
    {
     "name": "stdin",
     "output_type": "stream",
     "text": [
      "digite um numero inteiro:  10.3\n"
     ]
    },
    {
     "name": "stdout",
     "output_type": "stream",
     "text": [
      "Parece que você não digitou um numero inteiro\n",
      "Tentativa numero:  2\n"
     ]
    }
   ],
   "source": [
    "'''\n",
    "Se você quiser imprimir o valor de val, pode acabar lançando um erro,\n",
    "pois esse valor pode nunca ter sido atribuído corretamente.\n",
    "\n",
    "Para consertar esse problema,\n",
    "você deve perguntar ao usuário o valor de val até que ele passe um número inteiro válido. \n",
    "Basta criar uma estrutura de repetição!\n",
    "'''\n",
    "def pergunta_numero():\n",
    "    numero = 1\n",
    "    while True:\n",
    "        \n",
    "        try:\n",
    "            val = int(input(\"digite um numero inteiro: \"))\n",
    "        except:\n",
    "            print(\"Parece que você não digitou um numero inteiro\")\n",
    "            continue\n",
    "        else:\n",
    "            print(\"Tudo certo!\")\n",
    "            break\n",
    "        finally:\n",
    "            print(\"Tentativa numero: \", numero)\n",
    "            numero +=1\n",
    "pergunta_numero()"
   ]
  },
  {
   "cell_type": "code",
   "execution_count": 14,
   "id": "7821e37d-ddb6-4850-b8ed-f2be5a08a9e7",
   "metadata": {},
   "outputs": [
    {
     "name": "stdin",
     "output_type": "stream",
     "text": [
      "Digite um numero 4265664545564\n"
     ]
    },
    {
     "name": "stdout",
     "output_type": "stream",
     "text": [
      "4265664545564\n",
      "Divisão por zero não é possivel\n",
      "Sempre executa\n"
     ]
    }
   ],
   "source": [
    "#Testes\n",
    "\n",
    "try:\n",
    "    numero = int(input(\"Digite um numero\"))\n",
    "    print(numero)\n",
    "    numero/0\n",
    "    \n",
    "except ZeroDivisionError:\n",
    "    print(\"Divisão por zero não é possivel\")\n",
    "\n",
    "except ValueError:\n",
    "    print(\"Digite um valor valido \")\n",
    "\n",
    "except:\n",
    "    print(\"Erro inesperado\")\n",
    "\n",
    "finally:\n",
    "    print(\"Sempre executa\")"
   ]
  },
  {
   "cell_type": "code",
   "execution_count": null,
   "id": "307b9d6f-8aec-48e5-8e1f-81f1fc92e2e1",
   "metadata": {},
   "outputs": [],
   "source": []
  }
 ],
 "metadata": {
  "kernelspec": {
   "display_name": "Python 3 (ipykernel)",
   "language": "python",
   "name": "python3"
  },
  "language_info": {
   "codemirror_mode": {
    "name": "ipython",
    "version": 3
   },
   "file_extension": ".py",
   "mimetype": "text/x-python",
   "name": "python",
   "nbconvert_exporter": "python",
   "pygments_lexer": "ipython3",
   "version": "3.11.7"
  }
 },
 "nbformat": 4,
 "nbformat_minor": 5
}
