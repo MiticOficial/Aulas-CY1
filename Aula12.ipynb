{
 "cells": [
  {
   "cell_type": "code",
   "execution_count": 52,
   "id": "02f08cb5-603c-4c2d-b197-e0e788bebbc3",
   "metadata": {},
   "outputs": [],
   "source": [
    "#Programação orientada a objetos - Classes e objetos\n",
    "\n",
    "'''\n",
    "Para entendermos o que é a programação orientada a objetos, \n",
    "precisamos primeiro entender o que são esses objetos e além disso, o que são classes!\n",
    "'''\n",
    "\n",
    "#Classes\n",
    "\n",
    "'''\n",
    "Classes são representações ou modelos abstratos de entidades e situações do mundo real.\n",
    "Por exemplo, \"Cachorro\" ou \"Pessoa\" poderiam ser o nome de uma classe. Eles auxiliam no\n",
    "entendimento do seu programa, por exemplo você pode falar que o programa, \"verifica cachorros\"\n",
    "ou \"Caracteriza uma pessoa\" ao invés de falar sobre diversas variaveis e funções\n",
    "\n",
    "Para a criação de uma classe no Python, usamos o comando class seguido pelo nome da classe\n",
    "parenteses e dois pontos (assim como nas funções).\n",
    "\n",
    "\"Formula\" da classe:\n",
    "\n",
    "class nomeDaClasse():\n",
    "\n",
    "No entando, enquanto não definirmos alguns ATRIBUTOS e MÉTODOS a nossa classe estará vazia\n",
    "'''\n",
    "\n",
    "#Atributos\n",
    "\n",
    "'''\n",
    "Atributos são caracteristicas que a sua classe pode conter, por exemplo:\n",
    "Se seu programa vai cadastrar endereços de casas, \n",
    "basta criar uma classe chamada “Casa” que contenha informações sobre a rua, bairro, etc. \n",
    "Essas informações e dados sobre a classe são os atributos. \n",
    "Para criá-los basta criar variáveis dentro da classe\n",
    "'''\n",
    "\n",
    "class casa:\n",
    "    rua = \"Rua rust\"\n",
    "    bairro = \"eldorado\"\n",
    "    CEP = \"04476-120\"\n",
    "\n",
    "'''\n",
    "Agora que criamos os atributos, vamos realizar algumas operações com eles. Com os atributos criados,\n",
    "podemos exibir o endereço completo da casa por exemplo, mas antes disso, é necessario entender \n",
    "o que são métodos.\n",
    "'''"
   ]
  },
  {
   "cell_type": "code",
   "execution_count": null,
   "id": "5d38767c-5220-4ac2-87e2-71c9c508eb9f",
   "metadata": {},
   "outputs": [],
   "source": [
    "#Métodos\n",
    "\n",
    "'''\n",
    "Métodos são tratados como funções definidas dentro do ESCOPO de uma classe, e são utilizadas para\n",
    "executar operações com os atributos\n",
    "\n",
    "\n",
    "\n",
    "\n",
    "\n",
    "'''\n",
    "\n",
    "\n",
    "def enderecoCompleto(self):\n",
    "        return \"Endereço completo: \" +self.rua+ \",\" + self.bairro + \"- CEP \" + self.CEP"
   ]
  },
  {
   "cell_type": "code",
   "execution_count": 64,
   "id": "92514c94-d8df-42ee-ae69-6211571702f2",
   "metadata": {},
   "outputs": [],
   "source": [
    "casa1 = casa()"
   ]
  },
  {
   "cell_type": "code",
   "execution_count": 42,
   "id": "421ff6e1-41cf-43a9-8634-c0f228055028",
   "metadata": {},
   "outputs": [
    {
     "name": "stdout",
     "output_type": "stream",
     "text": [
      "<class '__main__.casa'>\n"
     ]
    }
   ],
   "source": [
    "print(type(casa1))"
   ]
  },
  {
   "cell_type": "code",
   "execution_count": 44,
   "id": "75c7571a-77bd-4d0a-b058-b20d0c084782",
   "metadata": {},
   "outputs": [
    {
     "name": "stdout",
     "output_type": "stream",
     "text": [
      "04476-120\n"
     ]
    }
   ],
   "source": [
    "print(casa1.CEP)"
   ]
  },
  {
   "cell_type": "code",
   "execution_count": 68,
   "id": "9c0422c6-fc74-4a27-9dc1-869088c4e6f9",
   "metadata": {},
   "outputs": [
    {
     "name": "stdout",
     "output_type": "stream",
     "text": [
      "Endereço completo: Rua rust,eldorado- CEP 04476-120\n"
     ]
    }
   ],
   "source": [
    "print(casa1.enderecoCompleto())"
   ]
  },
  {
   "cell_type": "code",
   "execution_count": 48,
   "id": "816210cc-a091-47b3-b0cd-e9d2b245baa6",
   "metadata": {},
   "outputs": [
    {
     "data": {
      "text/plain": [
       "<__main__.casa at 0x27e2032e010>"
      ]
     },
     "execution_count": 48,
     "metadata": {},
     "output_type": "execute_result"
    }
   ],
   "source": [
    "casa1"
   ]
  },
  {
   "cell_type": "code",
   "execution_count": 66,
   "id": "259afa0c-f75c-4625-93c3-558a8b682840",
   "metadata": {},
   "outputs": [
    {
     "name": "stdout",
     "output_type": "stream",
     "text": [
      "Endereço completo: Rua rust,eldorado- CEP 04476-120\n"
     ]
    }
   ],
   "source": [
    "print(casa1.enderecoCompleto())"
   ]
  },
  {
   "cell_type": "code",
   "execution_count": 100,
   "id": "eabb9eda-5788-4806-8e9b-dea9a276d0c7",
   "metadata": {},
   "outputs": [],
   "source": [
    "class casa():\n",
    "\n",
    "    imobiliaria = \"Ctrl+Imóveis\"\n",
    "    \n",
    "    def __init__ (self, rua, bairro, CEP):\n",
    "        self.rua = rua\n",
    "        self.bairro = bairro\n",
    "        self.CEP = CEP\n",
    "\n",
    "    def enderecoCompleto(self):\n",
    "        return \"Endereço Completo: \"+ self.rua +\", \" + self.bairro + \"- CEP: \" + self.CEP\n",
    "        "
   ]
  },
  {
   "cell_type": "code",
   "execution_count": 102,
   "id": "5b81f33f-94fe-41e7-a4fa-c86dfe028db4",
   "metadata": {},
   "outputs": [
    {
     "name": "stdout",
     "output_type": "stream",
     "text": [
      "Endereço Completo: Rua teste, Bairro teste- CEP: 123456\n",
      "Endereço Completo: Rua Palmeiras, Barra funda- CEP: 320252\n"
     ]
    }
   ],
   "source": [
    "#Instanciando dois objetos diferentes\n",
    "\n",
    "casa1 = casa(rua = \"Rua teste\", bairro= \"Bairro teste\", CEP = \"123456\")\n",
    "casa2 = casa(rua = \"Rua Palmeiras\", bairro= \"Barra funda\", CEP = \"320252\")\n",
    "\n",
    "print(casa1.enderecoCompleto())\n",
    "print(casa2.enderecoCompleto())"
   ]
  },
  {
   "cell_type": "code",
   "execution_count": 104,
   "id": "7e3cb3df-db77-4fe0-aae1-ae78ed74d321",
   "metadata": {},
   "outputs": [],
   "source": [
    "casa3 = casa(\"Casa B\", \"Central\",\"123414\")"
   ]
  },
  {
   "cell_type": "code",
   "execution_count": 106,
   "id": "dbd56e3e-1d34-4603-8335-bbd8cb57a249",
   "metadata": {},
   "outputs": [
    {
     "name": "stdout",
     "output_type": "stream",
     "text": [
      "Endereço Completo: Casa B, Central- CEP: 123414\n"
     ]
    }
   ],
   "source": [
    "print(casa3.enderecoCompleto())"
   ]
  },
  {
   "cell_type": "code",
   "execution_count": 108,
   "id": "d5f73e6d-1286-4601-aca9-c60e0a59ef52",
   "metadata": {},
   "outputs": [
    {
     "name": "stdout",
     "output_type": "stream",
     "text": [
      "Ctrl+Imóveis\n"
     ]
    }
   ],
   "source": [
    "print(casa1.imobiliaria)"
   ]
  },
  {
   "cell_type": "code",
   "execution_count": 110,
   "id": "0bdd5926-bb3d-4d21-84ef-4f5e031d2e1d",
   "metadata": {},
   "outputs": [],
   "source": [
    "class casa():\n",
    "    imobiliaria = \"Ctrl+Imóveis\"\n",
    "\n",
    "    def __init__(self,rua,bairro,CEP):\n",
    "        self.rua = rua\n",
    "        self.bairro = bairro\n",
    "        self.CEP = CEP\n",
    "\n",
    "    def getImobiliaria(self):\n",
    "        return self.imobiliaria\n",
    "        \n",
    "    def getRua(self):\n",
    "        return self.rua\n",
    "        \n",
    "    def getBairro(self):\n",
    "        return self.bairro\n",
    "        \n",
    "    def getCEP(self):\n",
    "        return self.CEP\n",
    "        \n",
    "    def setImobiliaria(self, i):\n",
    "        self.imobiliaria = i\n",
    "\n",
    "    def setRua(self, r):\n",
    "        self.rua = r\n",
    "        \n",
    "    def setBairro(self, b):\n",
    "        self.bairro = b\n",
    "        \n",
    "    def setCEP(self, c):\n",
    "        self.CEP = c"
   ]
  },
  {
   "cell_type": "code",
   "execution_count": 112,
   "id": "de976e5f-a96a-45b9-8b36-4b645f7866b8",
   "metadata": {},
   "outputs": [
    {
     "name": "stdout",
     "output_type": "stream",
     "text": [
      "Um livro foi criado\n"
     ]
    }
   ],
   "source": [
    "class livro():\n",
    "    def __init__(self,titulo,autor,paginas):\n",
    "        print(\"Um livro foi criado\")\n",
    "        self.titulo = titulo\n",
    "        self.autor = autor\n",
    "        self.paginas = paginas\n",
    "\n",
    "    def __str__(self):\n",
    "        return \"titulo: \" +self.titulo+ \", Autor: \" + self.autor + \", Paginas: \" + str(self.paginas)\n",
    "\n",
    "    def __len__(self):\n",
    "        return self.paginas\n",
    "\n",
    "    def __del__(self):\n",
    "        print(\"Livro destruido\")\n",
    "\n",
    "book = livro(\"Ctrl+Play\", \"Mateus\", 300)"
   ]
  },
  {
   "cell_type": "code",
   "execution_count": 114,
   "id": "19238ba0-45b8-4583-a576-4ed89be4a0bd",
   "metadata": {},
   "outputs": [
    {
     "name": "stdout",
     "output_type": "stream",
     "text": [
      "titulo: Ctrl+Play, Autor: Mateus, Paginas: 300\n"
     ]
    }
   ],
   "source": [
    "print(book)"
   ]
  },
  {
   "cell_type": "code",
   "execution_count": 116,
   "id": "ff25e4ea-f823-43f6-94ad-8fdea0f00fba",
   "metadata": {},
   "outputs": [
    {
     "name": "stdout",
     "output_type": "stream",
     "text": [
      "300\n"
     ]
    }
   ],
   "source": [
    "print(len(book))"
   ]
  },
  {
   "cell_type": "code",
   "execution_count": 118,
   "id": "b5b9af98-1842-4c5e-a8d6-626b6b695273",
   "metadata": {},
   "outputs": [
    {
     "name": "stdout",
     "output_type": "stream",
     "text": [
      "Livro destruido\n"
     ]
    }
   ],
   "source": [
    "del book"
   ]
  },
  {
   "cell_type": "code",
   "execution_count": 120,
   "id": "0de8e6d6-4bc9-4477-bb36-757fc6a23ccb",
   "metadata": {},
   "outputs": [
    {
     "ename": "NameError",
     "evalue": "name 'book' is not defined",
     "output_type": "error",
     "traceback": [
      "\u001b[1;31m---------------------------------------------------------------------------\u001b[0m",
      "\u001b[1;31mNameError\u001b[0m                                 Traceback (most recent call last)",
      "Cell \u001b[1;32mIn[120], line 1\u001b[0m\n\u001b[1;32m----> 1\u001b[0m \u001b[38;5;28mprint\u001b[39m(book)\n",
      "\u001b[1;31mNameError\u001b[0m: name 'book' is not defined"
     ]
    }
   ],
   "source": [
    "print(book)"
   ]
  },
  {
   "cell_type": "code",
   "execution_count": null,
   "id": "6e9ff242-56b9-4c29-9151-038974b25ce1",
   "metadata": {},
   "outputs": [],
   "source": []
  }
 ],
 "metadata": {
  "kernelspec": {
   "display_name": "Python 3 (ipykernel)",
   "language": "python",
   "name": "python3"
  },
  "language_info": {
   "codemirror_mode": {
    "name": "ipython",
    "version": 3
   },
   "file_extension": ".py",
   "mimetype": "text/x-python",
   "name": "python",
   "nbconvert_exporter": "python",
   "pygments_lexer": "ipython3",
   "version": "3.11.7"
  }
 },
 "nbformat": 4,
 "nbformat_minor": 5
}
