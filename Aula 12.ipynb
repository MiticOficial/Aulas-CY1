{
 "cells": [
  {
   "cell_type": "code",
   "execution_count": 27,
   "id": "02f08cb5-603c-4c2d-b197-e0e788bebbc3",
   "metadata": {},
   "outputs": [
    {
     "data": {
      "text/plain": [
       "'\\nAgora que criamos os atributos, vamos realizar algumas operações com eles. Com os atributos criados,\\npodemos exibir o endereço completo da casa por exemplo, mas antes disso, é necessario entender \\no que são métodos.\\n'"
      ]
     },
     "execution_count": 27,
     "metadata": {},
     "output_type": "execute_result"
    }
   ],
   "source": [
    "#Programação orientada a objetos - Classes e objetos\n",
    "\n",
    "'''\n",
    "Para entendermos o que é a programação orientada a objetos, \n",
    "precisamos primeiro entender o que são esses objetos e além disso, o que são classes!\n",
    "'''\n",
    "\n",
    "#Classes\n",
    "\n",
    "'''\n",
    "Classes são representações ou modelos abstratos de entidades e situações do mundo real.\n",
    "Por exemplo, \"Cachorro\" ou \"Pessoa\" poderiam ser o nome de uma classe. Eles auxiliam no\n",
    "entendimento do seu programa, por exemplo você pode falar que o programa, \"verifica cachorros\"\n",
    "ou \"Caracteriza uma pessoa\" ao invés de falar sobre diversas variaveis e funções\n",
    "\n",
    "Para a criação de uma classe no Python, usamos o comando class seguido pelo nome da classe\n",
    "parenteses e dois pontos (assim como nas funções).\n",
    "\n",
    "\"Formula\" da classe:\n",
    "\n",
    "class nomeDaClasse():\n",
    "\n",
    "No entando, enquanto não definirmos alguns ATRIBUTOS e MÉTODOS a nossa classe estará vazia\n",
    "'''\n",
    "\n",
    "#Atributos\n",
    "\n",
    "'''\n",
    "Atributos são caracteristicas que a sua classe pode conter, por exemplo:\n",
    "Se seu programa vai cadastrar endereços de casas, \n",
    "basta criar uma classe chamada “Casa” que contenha informações sobre a rua, bairro, etc. \n",
    "Essas informações e dados sobre a classe são os atributos. \n",
    "Para criá-los basta criar variáveis dentro da classe\n",
    "'''\n",
    "\n",
    "class casa:\n",
    "    rua = \"Rua rust\"\n",
    "    bairro = \"eldorado\"\n",
    "    CEP = \"04476-120\"\n",
    "\n",
    "'''\n",
    "Agora que criamos os atributos, vamos realizar algumas operações com eles. Com os atributos criados,\n",
    "podemos exibir o endereço completo da casa por exemplo, mas antes disso, é necessario entender \n",
    "o que são métodos.\n",
    "'''"
   ]
  },
  {
   "cell_type": "code",
   "execution_count": 43,
   "id": "5d38767c-5220-4ac2-87e2-71c9c508eb9f",
   "metadata": {},
   "outputs": [],
   "source": [
    "#Métodos\n",
    "\n",
    "'''\n",
    "Métodos são tratados como funções definidas dentro do ESCOPO de uma classe, e são utilizadas para\n",
    "executar operações com os atributos (por exemplo, os atributos de rua, bairro, cep e etc...)\n",
    "\n",
    "Observe no exemplo abaixo um método para exibir o endereço completo de uma casa, \n",
    "dados os atributos criados anteriormente. \n",
    "Você deve passar como parâmetro do método a palavra self para indicar que os atributos serão usados. \n",
    "Além disso, sempre utilize o “self.” como prefixo desses atributos.\n",
    "'''\n",
    "class casa:\n",
    "    rua = \"Rua rust\"\n",
    "    bairro = \"eldorado\"\n",
    "    CEP = \"04476-120\"\n",
    "    \n",
    "    def enderecoCompleto(self):\n",
    "            return \"Endereço completo: \" +self.rua+ \",\" + self.bairro + \"- CEP \" + self.CEP"
   ]
  },
  {
   "cell_type": "code",
   "execution_count": 47,
   "id": "92514c94-d8df-42ee-ae69-6211571702f2",
   "metadata": {},
   "outputs": [],
   "source": [
    "#objetos\n",
    "\n",
    "'''\n",
    "Objetos implementam o que está descrito nas classes. No exemplo que você está vendo nesta aula, \n",
    "a classe seria a planta da casa e o objeto seriam casas que poderiam ser construídas. \n",
    "Seguindo a descrição de uma classe podem ser criados diferentes objetos.\n",
    "\n",
    "No python, quase tudo é um objeto, um exemplo é um valor True ou False, que é um objeto da classe Boolean\n",
    "para descobrir o tipo do objeto você está utilizando, você pode digitar o comando \"Type\"!\n",
    "\n",
    "numero = 5\n",
    "print(type(numero))\n",
    "Resultado: INT\n",
    "'''\n",
    "'''\n",
    "Então agora, vamos criar um objeto com a classe casa, \n",
    "para isso basta atribuir a classe a uma variavel!\n",
    "'''\n",
    "casa1 = casa()"
   ]
  },
  {
   "cell_type": "code",
   "execution_count": 15,
   "id": "421ff6e1-41cf-43a9-8634-c0f228055028",
   "metadata": {},
   "outputs": [
    {
     "name": "stdout",
     "output_type": "stream",
     "text": [
      "<class '__main__.casa'>\n"
     ]
    }
   ],
   "source": [
    "#Verificando o tipo do objeto casa!\n",
    "\n",
    "print(type(casa1))"
   ]
  },
  {
   "cell_type": "code",
   "execution_count": 49,
   "id": "75c7571a-77bd-4d0a-b058-b20d0c084782",
   "metadata": {},
   "outputs": [
    {
     "name": "stdout",
     "output_type": "stream",
     "text": [
      "04476-120\n"
     ]
    }
   ],
   "source": [
    "'''\n",
    "Agora podemos utilizar os atributos e metodos que definimos antes na criação da nossa classe,\n",
    "para isso, devemos utilizar um \".\" após o nome do objeto e o atributo ou método que você quer utilizar\n",
    "'''\n",
    "\n",
    "#Exemplo 1:\n",
    "\n",
    "print(casa1.CEP)"
   ]
  },
  {
   "cell_type": "code",
   "execution_count": 51,
   "id": "9c0422c6-fc74-4a27-9dc1-869088c4e6f9",
   "metadata": {},
   "outputs": [
    {
     "name": "stdout",
     "output_type": "stream",
     "text": [
      "Endereço completo: Rua rust,eldorado- CEP 04476-120\n"
     ]
    }
   ],
   "source": [
    "#Exemplo 2:\n",
    "\n",
    "print(casa1.enderecoCompleto())\n",
    "\n",
    "#Mas e se quisessimos definir depois outros dados diferentes de rua, bairro e CEP? dai utilizamos\n",
    "#um método inicializador!"
   ]
  },
  {
   "cell_type": "code",
   "execution_count": 48,
   "id": "816210cc-a091-47b3-b0cd-e9d2b245baa6",
   "metadata": {},
   "outputs": [
    {
     "data": {
      "text/plain": [
       "<__main__.casa at 0x27e2032e010>"
      ]
     },
     "execution_count": 48,
     "metadata": {},
     "output_type": "execute_result"
    }
   ],
   "source": [
    "#Método inicializador\n",
    "\n",
    "'''\n",
    "No momento que for criar um objeto de uma classe, você pode passar como argumento \n",
    "os valores dos atributos para o objeto.\n",
    "\n",
    "porem antes de passar alguns argumentos, precisamos criar o metodo inicializador da classe\n",
    "que nada mais é que uma função com o nome \"__init__\" que recebe como parâmetro a própria classe através da palavra self \n",
    "(que nesse caso seria como ler um \"proprio\", exemplo init(iniciar) self(propria casa))\n",
    "assim como os atributos, que podem ser inicializados no momento da instanciação dos objetos.\n",
    "\n",
    "\n",
    "Então, em resumo, o método inicializador (__init__) é um método especial em Python \n",
    "usado para inicializar os atributos de um objeto quando ele é criado.\n",
    "'''"
   ]
  },
  {
   "cell_type": "code",
   "execution_count": 20,
   "id": "eabb9eda-5788-4806-8e9b-dea9a276d0c7",
   "metadata": {},
   "outputs": [],
   "source": [
    "#EXEMPLO IMPORTANTE!\n",
    "\n",
    "\n",
    "class casa():\n",
    "    \n",
    "    def __init__ (self, rua, bairro, CEP):\n",
    "        self.rua = rua\n",
    "        self.bairro = bairro\n",
    "        self.CEP = CEP\n",
    "\n",
    "    def enderecoCompleto(self):\n",
    "        return \"Endereço Completo: \"+ self.rua +\", \" + self.bairro + \"- CEP: \" , int(self.CEP)\n",
    "        "
   ]
  },
  {
   "cell_type": "code",
   "execution_count": 34,
   "id": "5b81f33f-94fe-41e7-a4fa-c86dfe028db4",
   "metadata": {},
   "outputs": [
    {
     "name": "stdin",
     "output_type": "stream",
     "text": [
      "Digite a sua rua a\n",
      "digite seu bairro a\n",
      "digite seu CEP a\n"
     ]
    },
    {
     "ename": "ValueError",
     "evalue": "invalid literal for int() with base 10: 'a'",
     "output_type": "error",
     "traceback": [
      "\u001b[1;31m---------------------------------------------------------------------------\u001b[0m",
      "\u001b[1;31mValueError\u001b[0m                                Traceback (most recent call last)",
      "Cell \u001b[1;32mIn[34], line 5\u001b[0m\n\u001b[0;32m      3\u001b[0m casa1 \u001b[38;5;241m=\u001b[39m casa(rua \u001b[38;5;241m=\u001b[39m \u001b[38;5;124m\"\u001b[39m\u001b[38;5;124mRua teste\u001b[39m\u001b[38;5;124m\"\u001b[39m, bairro\u001b[38;5;241m=\u001b[39m \u001b[38;5;124m\"\u001b[39m\u001b[38;5;124mBairro teste\u001b[39m\u001b[38;5;124m\"\u001b[39m, CEP \u001b[38;5;241m=\u001b[39m \u001b[38;5;124m\"\u001b[39m\u001b[38;5;124m123456\u001b[39m\u001b[38;5;124m\"\u001b[39m)\n\u001b[0;32m      4\u001b[0m casa2 \u001b[38;5;241m=\u001b[39m casa(rua \u001b[38;5;241m=\u001b[39m \u001b[38;5;124m\"\u001b[39m\u001b[38;5;124mRua Palmeiras\u001b[39m\u001b[38;5;124m\"\u001b[39m, bairro\u001b[38;5;241m=\u001b[39m \u001b[38;5;124m\"\u001b[39m\u001b[38;5;124mBarra funda\u001b[39m\u001b[38;5;124m\"\u001b[39m, CEP \u001b[38;5;241m=\u001b[39m \u001b[38;5;124m\"\u001b[39m\u001b[38;5;124m320252\u001b[39m\u001b[38;5;124m\"\u001b[39m)\n\u001b[1;32m----> 5\u001b[0m casa3 \u001b[38;5;241m=\u001b[39m casa(rua \u001b[38;5;241m=\u001b[39m \u001b[38;5;28minput\u001b[39m(\u001b[38;5;124m\"\u001b[39m\u001b[38;5;124mDigite a sua rua\u001b[39m\u001b[38;5;124m\"\u001b[39m), bairro\u001b[38;5;241m=\u001b[39m \u001b[38;5;28minput\u001b[39m(\u001b[38;5;124m\"\u001b[39m\u001b[38;5;124mdigite seu bairro\u001b[39m\u001b[38;5;124m\"\u001b[39m), CEP \u001b[38;5;241m=\u001b[39m \u001b[38;5;28mint\u001b[39m(\u001b[38;5;28minput\u001b[39m(\u001b[38;5;124m\"\u001b[39m\u001b[38;5;124mdigite seu CEP\u001b[39m\u001b[38;5;124m\"\u001b[39m)))\n\u001b[0;32m      6\u001b[0m \u001b[38;5;28mprint\u001b[39m(casa1\u001b[38;5;241m.\u001b[39menderecoCompleto())\n\u001b[0;32m      7\u001b[0m \u001b[38;5;28mprint\u001b[39m(casa2\u001b[38;5;241m.\u001b[39menderecoCompleto())\n",
      "\u001b[1;31mValueError\u001b[0m: invalid literal for int() with base 10: 'a'"
     ]
    }
   ],
   "source": [
    "#Instanciando tres objetos diferentes\n",
    "\n",
    "casa1 = casa(rua = \"Rua teste\", bairro= \"Bairro teste\", CEP = \"123456\")\n",
    "casa2 = casa(rua = \"Rua Palmeiras\", bairro= \"Barra funda\", CEP = \"320252\")\n",
    "casa3 = casa(rua = input(\"Digite a sua rua\"), bairro= input(\"digite seu bairro\"), CEP = int(input(\"digite seu CEP\")))\n",
    "print(casa1.enderecoCompleto())\n",
    "print(casa2.enderecoCompleto())\n",
    "print(casa3.enderecoCompleto())"
   ]
  },
  {
   "cell_type": "code",
   "execution_count": 104,
   "id": "7e3cb3df-db77-4fe0-aae1-ae78ed74d321",
   "metadata": {},
   "outputs": [],
   "source": [
    "#você também pode passar os valores após a criação do metodo inicializador dessa forma:\n",
    "casa3 = casa(\"Casa B\", \"Central\",\"123414\")\n",
    "\n",
    "#Se você perceber, não escrevemos rua = tal ou bairro = tal, apenas passamos os valores!"
   ]
  },
  {
   "cell_type": "code",
   "execution_count": 106,
   "id": "dbd56e3e-1d34-4603-8335-bbd8cb57a249",
   "metadata": {},
   "outputs": [
    {
     "name": "stdout",
     "output_type": "stream",
     "text": [
      "Endereço Completo: Casa B, Central- CEP: 123414\n"
     ]
    }
   ],
   "source": [
    "#Teste para exibir o endereço da casa recem criada!\n",
    "\n",
    "print(casa3.enderecoCompleto())"
   ]
  },
  {
   "cell_type": "code",
   "execution_count": 44,
   "id": "b74cd6b3-baf6-4ad2-b143-4ddcf4e81755",
   "metadata": {},
   "outputs": [],
   "source": [
    "'''\n",
    "Agora que você já sabe inicializar os atributos de um objeto no momento que ele é instanciado, \n",
    "deixe como atributos de classe aqueles atributos que são iguais para todos os objetos. \n",
    "Por exemplo, todas as casas no programa podem ser da mesma imobiliária .\n",
    "\n",
    "dessa forma:\n",
    "'''\n",
    "\n",
    "class casa():\n",
    "    imobiliaria = \"Pyetro Imoveis\" # Como a imobiliaria que vende a casa sempre vai ser a mesma, não tem motivo para nós instanciarmos ela depois!\n",
    "\n",
    "    def __init__(self,rua,bairro,CEP):\n",
    "        self.rua = rua\n",
    "        self.bairro = bairro\n",
    "        self.CEP = CEP\n",
    "\n",
    "    def enderecoCompleto(self):\n",
    "        return \"Endereço Completo:\" +self.rua+ \", \" + self.bairro + \" - CEP: \" , self.CEP\n"
   ]
  },
  {
   "cell_type": "code",
   "execution_count": 46,
   "id": "4b436406-b80d-49b7-ab78-3f1bc8d2530e",
   "metadata": {},
   "outputs": [
    {
     "name": "stdin",
     "output_type": "stream",
     "text": [
      "Digite a sua rua Rua rust\n",
      "digite seu bairro Eldorado\n",
      "digite seu CEP 41421342\n"
     ]
    },
    {
     "name": "stdout",
     "output_type": "stream",
     "text": [
      "Pyetro Imoveis\n",
      "Pyetro Imoveis\n",
      "Pyetro Imoveis\n"
     ]
    }
   ],
   "source": [
    "#Testando para ver se agora todas as casas são da mesma imobiliaria\n",
    "\n",
    "casa1 = casa(rua = \"Rua teste\", bairro= \"Bairro teste\", CEP = \"123456\")\n",
    "casa2 = casa(rua = \"Rua Palmeiras\", bairro= \"Barra funda\", CEP = \"320252\")\n",
    "casa3 = casa(rua = input(\"Digite a sua rua\"), bairro= input(\"digite seu bairro\"), CEP = int(input(\"digite seu CEP\")))\n",
    "\n",
    "\n",
    "print(casa1.imobiliaria)\n",
    "print(casa2.imobiliaria)\n",
    "print(casa3.imobiliaria)"
   ]
  },
  {
   "cell_type": "code",
   "execution_count": 48,
   "id": "d5f73e6d-1286-4601-aca9-c60e0a59ef52",
   "metadata": {},
   "outputs": [
    {
     "data": {
      "text/plain": [
       "'\\nOs getters e setters são métodos usados para acessar e modificar atributos de uma classe de forma controlada.\\n\\nGetter → Obtém (lê) o valor de um atributo.\\nSetter → Define (modifica) o valor de um atributo.\\nEles são úteis para proteger os dados, garantindo que os valores sejam acessados ou alterados de maneira segura.\\n\\n\\n'"
      ]
     },
     "execution_count": 48,
     "metadata": {},
     "output_type": "execute_result"
    }
   ],
   "source": [
    "#Métodos getters e setters\n",
    "\n",
    "'''\n",
    "Os getters e setters são métodos usados para acessar e modificar atributos de uma classe de forma controlada.\n",
    "\n",
    "Getter → Obtém (lê) o valor de um atributo.\n",
    "Setter → Define (modifica) o valor de um atributo.\n",
    "Eles são úteis para proteger os dados, garantindo que os valores sejam acessados ou alterados de maneira segura.\n",
    "\n",
    "Veja como seriam esses métodos para a classe “Casa” criada anteriormente:\n",
    "'''"
   ]
  },
  {
   "cell_type": "code",
   "execution_count": 64,
   "id": "0bdd5926-bb3d-4d21-84ef-4f5e031d2e1d",
   "metadata": {},
   "outputs": [],
   "source": [
    "class casa():\n",
    "    \n",
    "    imobiliaria = \"Ctrl+Imóveis\"\n",
    "    def __init__(self,rua,bairro,CEP):\n",
    "        self.rua = rua\n",
    "        self.bairro = bairro\n",
    "        self.CEP = CEP\n",
    "\n",
    "    def enderecoCompleto(self):\n",
    "        return \"Endereço Completo:\" +self.rua+ \", \" + self.bairro + \" - CEP: \" , self.CEP\n",
    "\n",
    "    def getImobiliaria(self):\n",
    "        return self.imobiliaria\n",
    "        \n",
    "    def getRua(self):\n",
    "        return self.rua\n",
    "        \n",
    "    def getBairro(self):\n",
    "        return self.bairro\n",
    "        \n",
    "    def getCEP(self):\n",
    "        return self.CEP\n",
    "        \n",
    "    def setImobiliaria(self, i):\n",
    "        self.imobiliaria = i\n",
    "\n",
    "    def setRua(self, r):\n",
    "        self.rua = r\n",
    "        \n",
    "    def setBairro(self, b):\n",
    "        self.bairro = b\n",
    "        \n",
    "    def setCEP(self, c):\n",
    "        self.CEP = c"
   ]
  },
  {
   "cell_type": "code",
   "execution_count": 82,
   "id": "5a587ed3-9435-4433-a547-6f77c67d600c",
   "metadata": {},
   "outputs": [
    {
     "name": "stdout",
     "output_type": "stream",
     "text": [
      "<bound method casa.getRua of <__main__.casa object at 0x00000292DA752840>>\n",
      "('Endereço Completo:Rua rust, Eldorado - CEP: ', '04476120')\n",
      "None\n",
      "('Endereço Completo:Rua Trocada, Eldorado - CEP: ', '04476120')\n"
     ]
    }
   ],
   "source": [
    "#Como utilizar o getter e o setter:\n",
    "\n",
    "casa1 = casa(\"Rua rust\", \"Eldorado\", \"04476120\")\n",
    "print(casa1.getRua)\n",
    "print(casa1.enderecoCompleto())\n",
    "print(casa1.setRua(\"Rua Trocada\"))\n",
    "print(casa1.enderecoCompleto())"
   ]
  },
  {
   "cell_type": "code",
   "execution_count": 62,
   "id": "de976e5f-a96a-45b9-8b36-4b645f7866b8",
   "metadata": {},
   "outputs": [
    {
     "name": "stdout",
     "output_type": "stream",
     "text": [
      "Um livro foi criado\n"
     ]
    }
   ],
   "source": [
    "#Testando alguns outros métodos especiais: __init__(), __str__(), __len__() e __del__()\n",
    "\n",
    "\n",
    "class livro():\n",
    "    def __init__(self,titulo,autor,paginas):\n",
    "        print(\"Um livro foi criado\")\n",
    "        self.titulo = titulo\n",
    "        self.autor = autor\n",
    "        self.paginas = paginas\n",
    "\n",
    "    def __str__(self):\n",
    "        return \"titulo: \" +self.titulo+ \", Autor: \" + self.autor + \", Paginas: \" + str(self.paginas)\n",
    "\n",
    "    def __len__(self):\n",
    "        return self.paginas\n",
    "\n",
    "    def __del__(self):\n",
    "        print(\"Livro destruido\")\n",
    "\n",
    "book = livro(\"Ctrl+Play\", \"Mateus\", 300)"
   ]
  },
  {
   "cell_type": "code",
   "execution_count": 114,
   "id": "19238ba0-45b8-4583-a576-4ed89be4a0bd",
   "metadata": {},
   "outputs": [
    {
     "name": "stdout",
     "output_type": "stream",
     "text": [
      "titulo: Ctrl+Play, Autor: Mateus, Paginas: 300\n"
     ]
    }
   ],
   "source": [
    "print(book)"
   ]
  },
  {
   "cell_type": "code",
   "execution_count": 88,
   "id": "ff25e4ea-f823-43f6-94ad-8fdea0f00fba",
   "metadata": {},
   "outputs": [
    {
     "name": "stdout",
     "output_type": "stream",
     "text": [
      "300\n"
     ]
    }
   ],
   "source": [
    "print(len(book))"
   ]
  },
  {
   "cell_type": "code",
   "execution_count": 90,
   "id": "b5b9af98-1842-4c5e-a8d6-626b6b695273",
   "metadata": {},
   "outputs": [
    {
     "name": "stdout",
     "output_type": "stream",
     "text": [
      "Livro destruido\n"
     ]
    }
   ],
   "source": [
    "del book"
   ]
  }
 ],
 "metadata": {
  "kernelspec": {
   "display_name": "Python 3 (ipykernel)",
   "language": "python",
   "name": "python3"
  },
  "language_info": {
   "codemirror_mode": {
    "name": "ipython",
    "version": 3
   },
   "file_extension": ".py",
   "mimetype": "text/x-python",
   "name": "python",
   "nbconvert_exporter": "python",
   "pygments_lexer": "ipython3",
   "version": "3.12.4"
  }
 },
 "nbformat": 4,
 "nbformat_minor": 5
}
